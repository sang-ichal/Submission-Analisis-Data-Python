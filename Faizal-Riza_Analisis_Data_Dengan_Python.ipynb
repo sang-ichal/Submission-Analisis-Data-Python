{
  "cells": [
    {
      "cell_type": "markdown",
      "metadata": {
        "id": "G4-Mz6TZ9Q2P"
      },
      "source": [
        "# **Proyek Analisis Data: Air Quality Dataset**\n",
        "- **Nama:** FAIZAL RIZA\n",
        "- **Email:** akuisal@gmail.com\n",
        "- **ID Dicoding:** akuisal@gmail.com"
      ]
    },
    {
      "cell_type": "markdown",
      "metadata": {
        "id": "fb6sFxUs-gZF"
      },
      "source": [
        "## **Menentukan Pertanyaan Bisnis**\n",
        "\n",
        "* Seperti apa distribusi penjualan produk dengan penjualan tertinggi dan terendah?\n",
        "* Bagaimana tingkat kepuasan pelanggan pada tahun 2018?\n",
        "* Bagaimana distribusi penjualan produk tiap bulannya?\n"
      ]
    },
    {
      "cell_type": "markdown",
      "metadata": {
        "id": "YpJSxRZQ-omf"
      },
      "source": [
        "## **Import Semua Packages/Library yang Digunakan**"
      ]
    },
    {
      "cell_type": "code",
      "execution_count": 1,
      "metadata": {
        "colab": {
          "base_uri": "https://localhost:8080/",
          "height": 0
        },
        "id": "waSFhbFAO1Ip",
        "outputId": "2b7aad2a-1af8-41fe-a8c1-19d6648bea3b"
      },
      "outputs": [
        {
          "name": "stdout",
          "output_type": "stream",
          "text": [
            "Requirement already satisfied: seaborn in d:\\zcode\\mycode\\dicoding-101\\dicoding101-py3.13.4\\lib\\site-packages (0.13.2)\n",
            "Requirement already satisfied: numpy!=1.24.0,>=1.20 in d:\\zcode\\mycode\\dicoding-101\\dicoding101-py3.13.4\\lib\\site-packages (from seaborn) (2.2.4)\n",
            "Requirement already satisfied: pandas>=1.2 in d:\\zcode\\mycode\\dicoding-101\\dicoding101-py3.13.4\\lib\\site-packages (from seaborn) (2.2.3)\n",
            "Requirement already satisfied: matplotlib!=3.6.1,>=3.4 in d:\\zcode\\mycode\\dicoding-101\\dicoding101-py3.13.4\\lib\\site-packages (from seaborn) (3.10.1)\n",
            "Requirement already satisfied: contourpy>=1.0.1 in d:\\zcode\\mycode\\dicoding-101\\dicoding101-py3.13.4\\lib\\site-packages (from matplotlib!=3.6.1,>=3.4->seaborn) (1.3.1)\n",
            "Requirement already satisfied: cycler>=0.10 in d:\\zcode\\mycode\\dicoding-101\\dicoding101-py3.13.4\\lib\\site-packages (from matplotlib!=3.6.1,>=3.4->seaborn) (0.12.1)\n",
            "Requirement already satisfied: fonttools>=4.22.0 in d:\\zcode\\mycode\\dicoding-101\\dicoding101-py3.13.4\\lib\\site-packages (from matplotlib!=3.6.1,>=3.4->seaborn) (4.57.0)\n",
            "Requirement already satisfied: kiwisolver>=1.3.1 in d:\\zcode\\mycode\\dicoding-101\\dicoding101-py3.13.4\\lib\\site-packages (from matplotlib!=3.6.1,>=3.4->seaborn) (1.4.8)\n",
            "Requirement already satisfied: packaging>=20.0 in d:\\zcode\\mycode\\dicoding-101\\dicoding101-py3.13.4\\lib\\site-packages (from matplotlib!=3.6.1,>=3.4->seaborn) (24.2)\n",
            "Requirement already satisfied: pillow>=8 in d:\\zcode\\mycode\\dicoding-101\\dicoding101-py3.13.4\\lib\\site-packages (from matplotlib!=3.6.1,>=3.4->seaborn) (11.1.0)\n",
            "Requirement already satisfied: pyparsing>=2.3.1 in d:\\zcode\\mycode\\dicoding-101\\dicoding101-py3.13.4\\lib\\site-packages (from matplotlib!=3.6.1,>=3.4->seaborn) (3.2.3)\n",
            "Requirement already satisfied: python-dateutil>=2.7 in d:\\zcode\\mycode\\dicoding-101\\dicoding101-py3.13.4\\lib\\site-packages (from matplotlib!=3.6.1,>=3.4->seaborn) (2.9.0.post0)\n",
            "Requirement already satisfied: pytz>=2020.1 in d:\\zcode\\mycode\\dicoding-101\\dicoding101-py3.13.4\\lib\\site-packages (from pandas>=1.2->seaborn) (2025.2)\n",
            "Requirement already satisfied: tzdata>=2022.7 in d:\\zcode\\mycode\\dicoding-101\\dicoding101-py3.13.4\\lib\\site-packages (from pandas>=1.2->seaborn) (2025.2)\n",
            "Requirement already satisfied: six>=1.5 in d:\\zcode\\mycode\\dicoding-101\\dicoding101-py3.13.4\\lib\\site-packages (from python-dateutil>=2.7->matplotlib!=3.6.1,>=3.4->seaborn) (1.17.0)\n",
            "Note: you may need to restart the kernel to use updated packages.\n",
            "Requirement already satisfied: gdown in d:\\zcode\\mycode\\dicoding-101\\dicoding101-py3.13.4\\lib\\site-packages (5.2.0)\n",
            "Requirement already satisfied: beautifulsoup4 in d:\\zcode\\mycode\\dicoding-101\\dicoding101-py3.13.4\\lib\\site-packages (from gdown) (4.13.3)\n",
            "Requirement already satisfied: filelock in d:\\zcode\\mycode\\dicoding-101\\dicoding101-py3.13.4\\lib\\site-packages (from gdown) (3.18.0)\n",
            "Requirement already satisfied: requests[socks] in d:\\zcode\\mycode\\dicoding-101\\dicoding101-py3.13.4\\lib\\site-packages (from gdown) (2.32.3)\n",
            "Requirement already satisfied: tqdm in d:\\zcode\\mycode\\dicoding-101\\dicoding101-py3.13.4\\lib\\site-packages (from gdown) (4.67.1)\n",
            "Requirement already satisfied: soupsieve>1.2 in d:\\zcode\\mycode\\dicoding-101\\dicoding101-py3.13.4\\lib\\site-packages (from beautifulsoup4->gdown) (2.6)\n",
            "Requirement already satisfied: typing-extensions>=4.0.0 in d:\\zcode\\mycode\\dicoding-101\\dicoding101-py3.13.4\\lib\\site-packages (from beautifulsoup4->gdown) (4.13.1)\n",
            "Requirement already satisfied: charset-normalizer<4,>=2 in d:\\zcode\\mycode\\dicoding-101\\dicoding101-py3.13.4\\lib\\site-packages (from requests[socks]->gdown) (3.4.1)\n",
            "Requirement already satisfied: idna<4,>=2.5 in d:\\zcode\\mycode\\dicoding-101\\dicoding101-py3.13.4\\lib\\site-packages (from requests[socks]->gdown) (3.10)\n",
            "Requirement already satisfied: urllib3<3,>=1.21.1 in d:\\zcode\\mycode\\dicoding-101\\dicoding101-py3.13.4\\lib\\site-packages (from requests[socks]->gdown) (2.3.0)\n",
            "Requirement already satisfied: certifi>=2017.4.17 in d:\\zcode\\mycode\\dicoding-101\\dicoding101-py3.13.4\\lib\\site-packages (from requests[socks]->gdown) (2025.1.31)\n",
            "Requirement already satisfied: PySocks!=1.5.7,>=1.5.6 in d:\\zcode\\mycode\\dicoding-101\\dicoding101-py3.13.4\\lib\\site-packages (from requests[socks]->gdown) (1.7.1)\n",
            "Requirement already satisfied: colorama in d:\\zcode\\mycode\\dicoding-101\\dicoding101-py3.13.4\\lib\\site-packages (from tqdm->gdown) (0.4.6)\n",
            "Note: you may need to restart the kernel to use updated packages.\n"
          ]
        }
      ],
      "source": [
        "%pip install seaborn\n",
        "%pip install gdown"
      ]
    },
    {
      "cell_type": "code",
      "execution_count": 1,
      "metadata": {
        "id": "og_ucwRr90bY"
      },
      "outputs": [],
      "source": [
        "import pandas as pd\n",
        "import matplotlib.pyplot as plt\n",
        "import seaborn as sns\n",
        "import zipfile\n",
        "import zipfile\n",
        "import os\n",
        "import pathlib\n",
        "from pathlib import Path\n",
        "import gdown\n",
        "import shutil"
      ]
    },
    {
      "cell_type": "markdown",
      "metadata": {
        "id": "YKXoOCJ2--sv"
      },
      "source": [
        "## **Data Wrangling**"
      ]
    },
    {
      "cell_type": "markdown",
      "metadata": {
        "id": "BFEuVy1F--od"
      },
      "source": [
        "## **Gathering Data**"
      ]
    },
    {
      "cell_type": "code",
      "execution_count": 3,
      "metadata": {
        "colab": {
          "base_uri": "https://localhost:8080/",
          "height": 0
        },
        "id": "ruDaI8YWQ2Q1",
        "outputId": "90f34664-ebd0-4876-d1c8-054f7b2806a3"
      },
      "outputs": [
        {
          "name": "stdout",
          "output_type": "stream",
          "text": [
            "Data extraction completed.\n"
          ]
        }
      ],
      "source": [
        "# Destination file path\n",
        "directory_file = Path(\"D:/ZCODE/myCode/dicoding-101\")\n",
        "data_file = Path(\"D:/ZCODE/myCode/dicoding-101/data/E-commerce-public-dataset.zip\")\n",
        "output_folder = Path(\"D:/ZCODE/myCode/dicoding-101/data\")\n",
        "\n",
        "# Create the output folder if it doesn't exist\n",
        "if not os.path.exists(output_folder):\n",
        "    os.makedirs(output_folder)\n",
        "\n",
        "# Unzip the file\n",
        "with zipfile.ZipFile(data_file, 'r') as zip_ref:\n",
        "    zip_ref.extractall(output_folder)\n",
        "\n",
        "print(\"Data extraction completed.\")"
      ]
    },
    {
      "cell_type": "code",
      "execution_count": 4,
      "metadata": {
        "colab": {
          "base_uri": "https://localhost:8080/",
          "height": 206
        },
        "id": "vxbU3sBTSFqv",
        "outputId": "86f00478-97e2-496c-f157-ec81e05f4207"
      },
      "outputs": [
        {
          "data": {
            "application/vnd.microsoft.datawrangler.viewer.v0+json": {
              "columns": [
                {
                  "name": "index",
                  "rawType": "int64",
                  "type": "integer"
                },
                {
                  "name": "customer_id",
                  "rawType": "object",
                  "type": "string"
                },
                {
                  "name": "customer_unique_id",
                  "rawType": "object",
                  "type": "string"
                },
                {
                  "name": "customer_zip_code_prefix",
                  "rawType": "int64",
                  "type": "integer"
                },
                {
                  "name": "customer_city",
                  "rawType": "object",
                  "type": "string"
                },
                {
                  "name": "customer_state",
                  "rawType": "object",
                  "type": "string"
                }
              ],
              "conversionMethod": "pd.DataFrame",
              "ref": "03171cfd-0aac-4910-bb57-2e77f052415f",
              "rows": [
                [
                  "0",
                  "06b8999e2fba1a1fbc88172c00ba8bc7",
                  "861eff4711a542e4b93843c6dd7febb0",
                  "14409",
                  "franca",
                  "SP"
                ],
                [
                  "1",
                  "18955e83d337fd6b2def6b18a428ac77",
                  "290c77bc529b7ac935b93aa66c333dc3",
                  "9790",
                  "sao bernardo do campo",
                  "SP"
                ],
                [
                  "2",
                  "4e7b3e00288586ebd08712fdd0374a03",
                  "060e732b5b29e8181a18229c7b0b2b5e",
                  "1151",
                  "sao paulo",
                  "SP"
                ],
                [
                  "3",
                  "b2b6027bc5c5109e529d4dc6358b12c3",
                  "259dac757896d24d7702b9acbbff3f3c",
                  "8775",
                  "mogi das cruzes",
                  "SP"
                ],
                [
                  "4",
                  "4f2d8ab171c80ec8364f7c12e35b23ad",
                  "345ecd01c38d18a9036ed96c73b8d066",
                  "13056",
                  "campinas",
                  "SP"
                ]
              ],
              "shape": {
                "columns": 5,
                "rows": 5
              }
            },
            "text/html": [
              "<div>\n",
              "<style scoped>\n",
              "    .dataframe tbody tr th:only-of-type {\n",
              "        vertical-align: middle;\n",
              "    }\n",
              "\n",
              "    .dataframe tbody tr th {\n",
              "        vertical-align: top;\n",
              "    }\n",
              "\n",
              "    .dataframe thead th {\n",
              "        text-align: right;\n",
              "    }\n",
              "</style>\n",
              "<table border=\"1\" class=\"dataframe\">\n",
              "  <thead>\n",
              "    <tr style=\"text-align: right;\">\n",
              "      <th></th>\n",
              "      <th>customer_id</th>\n",
              "      <th>customer_unique_id</th>\n",
              "      <th>customer_zip_code_prefix</th>\n",
              "      <th>customer_city</th>\n",
              "      <th>customer_state</th>\n",
              "    </tr>\n",
              "  </thead>\n",
              "  <tbody>\n",
              "    <tr>\n",
              "      <th>0</th>\n",
              "      <td>06b8999e2fba1a1fbc88172c00ba8bc7</td>\n",
              "      <td>861eff4711a542e4b93843c6dd7febb0</td>\n",
              "      <td>14409</td>\n",
              "      <td>franca</td>\n",
              "      <td>SP</td>\n",
              "    </tr>\n",
              "    <tr>\n",
              "      <th>1</th>\n",
              "      <td>18955e83d337fd6b2def6b18a428ac77</td>\n",
              "      <td>290c77bc529b7ac935b93aa66c333dc3</td>\n",
              "      <td>9790</td>\n",
              "      <td>sao bernardo do campo</td>\n",
              "      <td>SP</td>\n",
              "    </tr>\n",
              "    <tr>\n",
              "      <th>2</th>\n",
              "      <td>4e7b3e00288586ebd08712fdd0374a03</td>\n",
              "      <td>060e732b5b29e8181a18229c7b0b2b5e</td>\n",
              "      <td>1151</td>\n",
              "      <td>sao paulo</td>\n",
              "      <td>SP</td>\n",
              "    </tr>\n",
              "    <tr>\n",
              "      <th>3</th>\n",
              "      <td>b2b6027bc5c5109e529d4dc6358b12c3</td>\n",
              "      <td>259dac757896d24d7702b9acbbff3f3c</td>\n",
              "      <td>8775</td>\n",
              "      <td>mogi das cruzes</td>\n",
              "      <td>SP</td>\n",
              "    </tr>\n",
              "    <tr>\n",
              "      <th>4</th>\n",
              "      <td>4f2d8ab171c80ec8364f7c12e35b23ad</td>\n",
              "      <td>345ecd01c38d18a9036ed96c73b8d066</td>\n",
              "      <td>13056</td>\n",
              "      <td>campinas</td>\n",
              "      <td>SP</td>\n",
              "    </tr>\n",
              "  </tbody>\n",
              "</table>\n",
              "</div>"
            ],
            "text/plain": [
              "                        customer_id                customer_unique_id  \\\n",
              "0  06b8999e2fba1a1fbc88172c00ba8bc7  861eff4711a542e4b93843c6dd7febb0   \n",
              "1  18955e83d337fd6b2def6b18a428ac77  290c77bc529b7ac935b93aa66c333dc3   \n",
              "2  4e7b3e00288586ebd08712fdd0374a03  060e732b5b29e8181a18229c7b0b2b5e   \n",
              "3  b2b6027bc5c5109e529d4dc6358b12c3  259dac757896d24d7702b9acbbff3f3c   \n",
              "4  4f2d8ab171c80ec8364f7c12e35b23ad  345ecd01c38d18a9036ed96c73b8d066   \n",
              "\n",
              "   customer_zip_code_prefix          customer_city customer_state  \n",
              "0                     14409                 franca             SP  \n",
              "1                      9790  sao bernardo do campo             SP  \n",
              "2                      1151              sao paulo             SP  \n",
              "3                      8775        mogi das cruzes             SP  \n",
              "4                     13056               campinas             SP  "
            ]
          },
          "execution_count": 4,
          "metadata": {},
          "output_type": "execute_result"
        }
      ],
      "source": [
        "customers_df = pd.read_csv(directory_file/'data/E-Commerce Public Dataset/customers_dataset.csv')\n",
        "customers_df.head()"
      ]
    },
    {
      "cell_type": "code",
      "execution_count": 5,
      "metadata": {
        "colab": {
          "base_uri": "https://localhost:8080/",
          "height": 206
        },
        "id": "XgDVacFCny1f",
        "outputId": "4f9954c2-37ed-4306-b238-ce5e70d003c5"
      },
      "outputs": [
        {
          "data": {
            "application/vnd.microsoft.datawrangler.viewer.v0+json": {
              "columns": [
                {
                  "name": "index",
                  "rawType": "int64",
                  "type": "integer"
                },
                {
                  "name": "geolocation_zip_code_prefix",
                  "rawType": "int64",
                  "type": "integer"
                },
                {
                  "name": "geolocation_lat",
                  "rawType": "float64",
                  "type": "float"
                },
                {
                  "name": "geolocation_lng",
                  "rawType": "float64",
                  "type": "float"
                },
                {
                  "name": "geolocation_city",
                  "rawType": "object",
                  "type": "string"
                },
                {
                  "name": "geolocation_state",
                  "rawType": "object",
                  "type": "string"
                }
              ],
              "conversionMethod": "pd.DataFrame",
              "ref": "815d2cb0-b602-427a-b339-73b27d7335be",
              "rows": [
                [
                  "0",
                  "1037",
                  "-23.54562128115268",
                  "-46.63929204800168",
                  "sao paulo",
                  "SP"
                ],
                [
                  "1",
                  "1046",
                  "-23.54608112703553",
                  "-46.64482029837157",
                  "sao paulo",
                  "SP"
                ],
                [
                  "2",
                  "1046",
                  "-23.54612896641469",
                  "-46.64295148361138",
                  "sao paulo",
                  "SP"
                ],
                [
                  "3",
                  "1041",
                  "-23.5443921648681",
                  "-46.63949930627844",
                  "sao paulo",
                  "SP"
                ],
                [
                  "4",
                  "1035",
                  "-23.541577961711493",
                  "-46.64160722329613",
                  "sao paulo",
                  "SP"
                ]
              ],
              "shape": {
                "columns": 5,
                "rows": 5
              }
            },
            "text/html": [
              "<div>\n",
              "<style scoped>\n",
              "    .dataframe tbody tr th:only-of-type {\n",
              "        vertical-align: middle;\n",
              "    }\n",
              "\n",
              "    .dataframe tbody tr th {\n",
              "        vertical-align: top;\n",
              "    }\n",
              "\n",
              "    .dataframe thead th {\n",
              "        text-align: right;\n",
              "    }\n",
              "</style>\n",
              "<table border=\"1\" class=\"dataframe\">\n",
              "  <thead>\n",
              "    <tr style=\"text-align: right;\">\n",
              "      <th></th>\n",
              "      <th>geolocation_zip_code_prefix</th>\n",
              "      <th>geolocation_lat</th>\n",
              "      <th>geolocation_lng</th>\n",
              "      <th>geolocation_city</th>\n",
              "      <th>geolocation_state</th>\n",
              "    </tr>\n",
              "  </thead>\n",
              "  <tbody>\n",
              "    <tr>\n",
              "      <th>0</th>\n",
              "      <td>1037</td>\n",
              "      <td>-23.545621</td>\n",
              "      <td>-46.639292</td>\n",
              "      <td>sao paulo</td>\n",
              "      <td>SP</td>\n",
              "    </tr>\n",
              "    <tr>\n",
              "      <th>1</th>\n",
              "      <td>1046</td>\n",
              "      <td>-23.546081</td>\n",
              "      <td>-46.644820</td>\n",
              "      <td>sao paulo</td>\n",
              "      <td>SP</td>\n",
              "    </tr>\n",
              "    <tr>\n",
              "      <th>2</th>\n",
              "      <td>1046</td>\n",
              "      <td>-23.546129</td>\n",
              "      <td>-46.642951</td>\n",
              "      <td>sao paulo</td>\n",
              "      <td>SP</td>\n",
              "    </tr>\n",
              "    <tr>\n",
              "      <th>3</th>\n",
              "      <td>1041</td>\n",
              "      <td>-23.544392</td>\n",
              "      <td>-46.639499</td>\n",
              "      <td>sao paulo</td>\n",
              "      <td>SP</td>\n",
              "    </tr>\n",
              "    <tr>\n",
              "      <th>4</th>\n",
              "      <td>1035</td>\n",
              "      <td>-23.541578</td>\n",
              "      <td>-46.641607</td>\n",
              "      <td>sao paulo</td>\n",
              "      <td>SP</td>\n",
              "    </tr>\n",
              "  </tbody>\n",
              "</table>\n",
              "</div>"
            ],
            "text/plain": [
              "   geolocation_zip_code_prefix  geolocation_lat  geolocation_lng  \\\n",
              "0                         1037       -23.545621       -46.639292   \n",
              "1                         1046       -23.546081       -46.644820   \n",
              "2                         1046       -23.546129       -46.642951   \n",
              "3                         1041       -23.544392       -46.639499   \n",
              "4                         1035       -23.541578       -46.641607   \n",
              "\n",
              "  geolocation_city geolocation_state  \n",
              "0        sao paulo                SP  \n",
              "1        sao paulo                SP  \n",
              "2        sao paulo                SP  \n",
              "3        sao paulo                SP  \n",
              "4        sao paulo                SP  "
            ]
          },
          "execution_count": 5,
          "metadata": {},
          "output_type": "execute_result"
        }
      ],
      "source": [
        "geolocation_df = pd.read_csv(directory_file/'data/E-Commerce Public Dataset/geolocation_dataset.csv')\n",
        "geolocation_df.head()"
      ]
    },
    {
      "cell_type": "code",
      "execution_count": 6,
      "metadata": {
        "colab": {
          "base_uri": "https://localhost:8080/",
          "height": 226
        },
        "id": "rQo43K7rn-b6",
        "outputId": "8a5a1540-c75e-41cf-d31f-b2c441c9cc82"
      },
      "outputs": [
        {
          "data": {
            "application/vnd.microsoft.datawrangler.viewer.v0+json": {
              "columns": [
                {
                  "name": "index",
                  "rawType": "int64",
                  "type": "integer"
                },
                {
                  "name": "order_id",
                  "rawType": "object",
                  "type": "string"
                },
                {
                  "name": "order_item_id",
                  "rawType": "int64",
                  "type": "integer"
                },
                {
                  "name": "product_id",
                  "rawType": "object",
                  "type": "string"
                },
                {
                  "name": "seller_id",
                  "rawType": "object",
                  "type": "string"
                },
                {
                  "name": "shipping_limit_date",
                  "rawType": "object",
                  "type": "string"
                },
                {
                  "name": "price",
                  "rawType": "float64",
                  "type": "float"
                },
                {
                  "name": "freight_value",
                  "rawType": "float64",
                  "type": "float"
                }
              ],
              "conversionMethod": "pd.DataFrame",
              "ref": "549ca6b7-074f-468f-bdaf-8a63f6b7bb27",
              "rows": [
                [
                  "0",
                  "00010242fe8c5a6d1ba2dd792cb16214",
                  "1",
                  "4244733e06e7ecb4970a6e2683c13e61",
                  "48436dade18ac8b2bce089ec2a041202",
                  "2017-09-19 09:45:35",
                  "58.9",
                  "13.29"
                ],
                [
                  "1",
                  "00018f77f2f0320c557190d7a144bdd3",
                  "1",
                  "e5f2d52b802189ee658865ca93d83a8f",
                  "dd7ddc04e1b6c2c614352b383efe2d36",
                  "2017-05-03 11:05:13",
                  "239.9",
                  "19.93"
                ],
                [
                  "2",
                  "000229ec398224ef6ca0657da4fc703e",
                  "1",
                  "c777355d18b72b67abbeef9df44fd0fd",
                  "5b51032eddd242adc84c38acab88f23d",
                  "2018-01-18 14:48:30",
                  "199.0",
                  "17.87"
                ],
                [
                  "3",
                  "00024acbcdf0a6daa1e931b038114c75",
                  "1",
                  "7634da152a4610f1595efa32f14722fc",
                  "9d7a1d34a5052409006425275ba1c2b4",
                  "2018-08-15 10:10:18",
                  "12.99",
                  "12.79"
                ],
                [
                  "4",
                  "00042b26cf59d7ce69dfabb4e55b4fd9",
                  "1",
                  "ac6c3623068f30de03045865e4e10089",
                  "df560393f3a51e74553ab94004ba5c87",
                  "2017-02-13 13:57:51",
                  "199.9",
                  "18.14"
                ]
              ],
              "shape": {
                "columns": 7,
                "rows": 5
              }
            },
            "text/html": [
              "<div>\n",
              "<style scoped>\n",
              "    .dataframe tbody tr th:only-of-type {\n",
              "        vertical-align: middle;\n",
              "    }\n",
              "\n",
              "    .dataframe tbody tr th {\n",
              "        vertical-align: top;\n",
              "    }\n",
              "\n",
              "    .dataframe thead th {\n",
              "        text-align: right;\n",
              "    }\n",
              "</style>\n",
              "<table border=\"1\" class=\"dataframe\">\n",
              "  <thead>\n",
              "    <tr style=\"text-align: right;\">\n",
              "      <th></th>\n",
              "      <th>order_id</th>\n",
              "      <th>order_item_id</th>\n",
              "      <th>product_id</th>\n",
              "      <th>seller_id</th>\n",
              "      <th>shipping_limit_date</th>\n",
              "      <th>price</th>\n",
              "      <th>freight_value</th>\n",
              "    </tr>\n",
              "  </thead>\n",
              "  <tbody>\n",
              "    <tr>\n",
              "      <th>0</th>\n",
              "      <td>00010242fe8c5a6d1ba2dd792cb16214</td>\n",
              "      <td>1</td>\n",
              "      <td>4244733e06e7ecb4970a6e2683c13e61</td>\n",
              "      <td>48436dade18ac8b2bce089ec2a041202</td>\n",
              "      <td>2017-09-19 09:45:35</td>\n",
              "      <td>58.90</td>\n",
              "      <td>13.29</td>\n",
              "    </tr>\n",
              "    <tr>\n",
              "      <th>1</th>\n",
              "      <td>00018f77f2f0320c557190d7a144bdd3</td>\n",
              "      <td>1</td>\n",
              "      <td>e5f2d52b802189ee658865ca93d83a8f</td>\n",
              "      <td>dd7ddc04e1b6c2c614352b383efe2d36</td>\n",
              "      <td>2017-05-03 11:05:13</td>\n",
              "      <td>239.90</td>\n",
              "      <td>19.93</td>\n",
              "    </tr>\n",
              "    <tr>\n",
              "      <th>2</th>\n",
              "      <td>000229ec398224ef6ca0657da4fc703e</td>\n",
              "      <td>1</td>\n",
              "      <td>c777355d18b72b67abbeef9df44fd0fd</td>\n",
              "      <td>5b51032eddd242adc84c38acab88f23d</td>\n",
              "      <td>2018-01-18 14:48:30</td>\n",
              "      <td>199.00</td>\n",
              "      <td>17.87</td>\n",
              "    </tr>\n",
              "    <tr>\n",
              "      <th>3</th>\n",
              "      <td>00024acbcdf0a6daa1e931b038114c75</td>\n",
              "      <td>1</td>\n",
              "      <td>7634da152a4610f1595efa32f14722fc</td>\n",
              "      <td>9d7a1d34a5052409006425275ba1c2b4</td>\n",
              "      <td>2018-08-15 10:10:18</td>\n",
              "      <td>12.99</td>\n",
              "      <td>12.79</td>\n",
              "    </tr>\n",
              "    <tr>\n",
              "      <th>4</th>\n",
              "      <td>00042b26cf59d7ce69dfabb4e55b4fd9</td>\n",
              "      <td>1</td>\n",
              "      <td>ac6c3623068f30de03045865e4e10089</td>\n",
              "      <td>df560393f3a51e74553ab94004ba5c87</td>\n",
              "      <td>2017-02-13 13:57:51</td>\n",
              "      <td>199.90</td>\n",
              "      <td>18.14</td>\n",
              "    </tr>\n",
              "  </tbody>\n",
              "</table>\n",
              "</div>"
            ],
            "text/plain": [
              "                           order_id  order_item_id  \\\n",
              "0  00010242fe8c5a6d1ba2dd792cb16214              1   \n",
              "1  00018f77f2f0320c557190d7a144bdd3              1   \n",
              "2  000229ec398224ef6ca0657da4fc703e              1   \n",
              "3  00024acbcdf0a6daa1e931b038114c75              1   \n",
              "4  00042b26cf59d7ce69dfabb4e55b4fd9              1   \n",
              "\n",
              "                         product_id                         seller_id  \\\n",
              "0  4244733e06e7ecb4970a6e2683c13e61  48436dade18ac8b2bce089ec2a041202   \n",
              "1  e5f2d52b802189ee658865ca93d83a8f  dd7ddc04e1b6c2c614352b383efe2d36   \n",
              "2  c777355d18b72b67abbeef9df44fd0fd  5b51032eddd242adc84c38acab88f23d   \n",
              "3  7634da152a4610f1595efa32f14722fc  9d7a1d34a5052409006425275ba1c2b4   \n",
              "4  ac6c3623068f30de03045865e4e10089  df560393f3a51e74553ab94004ba5c87   \n",
              "\n",
              "   shipping_limit_date   price  freight_value  \n",
              "0  2017-09-19 09:45:35   58.90          13.29  \n",
              "1  2017-05-03 11:05:13  239.90          19.93  \n",
              "2  2018-01-18 14:48:30  199.00          17.87  \n",
              "3  2018-08-15 10:10:18   12.99          12.79  \n",
              "4  2017-02-13 13:57:51  199.90          18.14  "
            ]
          },
          "execution_count": 6,
          "metadata": {},
          "output_type": "execute_result"
        }
      ],
      "source": [
        "order_items_df = pd.read_csv(directory_file/'data/E-Commerce Public Dataset/order_items_dataset.csv')\n",
        "order_items_df.head()"
      ]
    },
    {
      "cell_type": "code",
      "execution_count": 7,
      "metadata": {
        "colab": {
          "base_uri": "https://localhost:8080/",
          "height": 206
        },
        "id": "vTCL0lUkO9Xa",
        "outputId": "6d58f7e6-a452-4ddd-cad3-4cc7bcd1cdc3"
      },
      "outputs": [
        {
          "data": {
            "application/vnd.microsoft.datawrangler.viewer.v0+json": {
              "columns": [
                {
                  "name": "index",
                  "rawType": "int64",
                  "type": "integer"
                },
                {
                  "name": "order_id",
                  "rawType": "object",
                  "type": "string"
                },
                {
                  "name": "payment_sequential",
                  "rawType": "int64",
                  "type": "integer"
                },
                {
                  "name": "payment_type",
                  "rawType": "object",
                  "type": "string"
                },
                {
                  "name": "payment_installments",
                  "rawType": "int64",
                  "type": "integer"
                },
                {
                  "name": "payment_value",
                  "rawType": "float64",
                  "type": "float"
                }
              ],
              "conversionMethod": "pd.DataFrame",
              "ref": "1960ac4f-202f-4fe5-8220-afc0d483a216",
              "rows": [
                [
                  "0",
                  "b81ef226f3fe1789b1e8b2acac839d17",
                  "1",
                  "credit_card",
                  "8",
                  "99.33"
                ],
                [
                  "1",
                  "a9810da82917af2d9aefd1278f1dcfa0",
                  "1",
                  "credit_card",
                  "1",
                  "24.39"
                ],
                [
                  "2",
                  "25e8ea4e93396b6fa0d3dd708e76c1bd",
                  "1",
                  "credit_card",
                  "1",
                  "65.71"
                ],
                [
                  "3",
                  "ba78997921bbcdc1373bb41e913ab953",
                  "1",
                  "credit_card",
                  "8",
                  "107.78"
                ],
                [
                  "4",
                  "42fdf880ba16b47b59251dd489d4441a",
                  "1",
                  "credit_card",
                  "2",
                  "128.45"
                ]
              ],
              "shape": {
                "columns": 5,
                "rows": 5
              }
            },
            "text/html": [
              "<div>\n",
              "<style scoped>\n",
              "    .dataframe tbody tr th:only-of-type {\n",
              "        vertical-align: middle;\n",
              "    }\n",
              "\n",
              "    .dataframe tbody tr th {\n",
              "        vertical-align: top;\n",
              "    }\n",
              "\n",
              "    .dataframe thead th {\n",
              "        text-align: right;\n",
              "    }\n",
              "</style>\n",
              "<table border=\"1\" class=\"dataframe\">\n",
              "  <thead>\n",
              "    <tr style=\"text-align: right;\">\n",
              "      <th></th>\n",
              "      <th>order_id</th>\n",
              "      <th>payment_sequential</th>\n",
              "      <th>payment_type</th>\n",
              "      <th>payment_installments</th>\n",
              "      <th>payment_value</th>\n",
              "    </tr>\n",
              "  </thead>\n",
              "  <tbody>\n",
              "    <tr>\n",
              "      <th>0</th>\n",
              "      <td>b81ef226f3fe1789b1e8b2acac839d17</td>\n",
              "      <td>1</td>\n",
              "      <td>credit_card</td>\n",
              "      <td>8</td>\n",
              "      <td>99.33</td>\n",
              "    </tr>\n",
              "    <tr>\n",
              "      <th>1</th>\n",
              "      <td>a9810da82917af2d9aefd1278f1dcfa0</td>\n",
              "      <td>1</td>\n",
              "      <td>credit_card</td>\n",
              "      <td>1</td>\n",
              "      <td>24.39</td>\n",
              "    </tr>\n",
              "    <tr>\n",
              "      <th>2</th>\n",
              "      <td>25e8ea4e93396b6fa0d3dd708e76c1bd</td>\n",
              "      <td>1</td>\n",
              "      <td>credit_card</td>\n",
              "      <td>1</td>\n",
              "      <td>65.71</td>\n",
              "    </tr>\n",
              "    <tr>\n",
              "      <th>3</th>\n",
              "      <td>ba78997921bbcdc1373bb41e913ab953</td>\n",
              "      <td>1</td>\n",
              "      <td>credit_card</td>\n",
              "      <td>8</td>\n",
              "      <td>107.78</td>\n",
              "    </tr>\n",
              "    <tr>\n",
              "      <th>4</th>\n",
              "      <td>42fdf880ba16b47b59251dd489d4441a</td>\n",
              "      <td>1</td>\n",
              "      <td>credit_card</td>\n",
              "      <td>2</td>\n",
              "      <td>128.45</td>\n",
              "    </tr>\n",
              "  </tbody>\n",
              "</table>\n",
              "</div>"
            ],
            "text/plain": [
              "                           order_id  payment_sequential payment_type  \\\n",
              "0  b81ef226f3fe1789b1e8b2acac839d17                   1  credit_card   \n",
              "1  a9810da82917af2d9aefd1278f1dcfa0                   1  credit_card   \n",
              "2  25e8ea4e93396b6fa0d3dd708e76c1bd                   1  credit_card   \n",
              "3  ba78997921bbcdc1373bb41e913ab953                   1  credit_card   \n",
              "4  42fdf880ba16b47b59251dd489d4441a                   1  credit_card   \n",
              "\n",
              "   payment_installments  payment_value  \n",
              "0                     8          99.33  \n",
              "1                     1          24.39  \n",
              "2                     1          65.71  \n",
              "3                     8         107.78  \n",
              "4                     2         128.45  "
            ]
          },
          "execution_count": 7,
          "metadata": {},
          "output_type": "execute_result"
        }
      ],
      "source": [
        "order_payment_df = pd.read_csv(directory_file/'data/E-Commerce Public Dataset/order_payments_dataset.csv')\n",
        "order_payment_df.head()"
      ]
    },
    {
      "cell_type": "code",
      "execution_count": 8,
      "metadata": {
        "colab": {
          "base_uri": "https://localhost:8080/",
          "height": 261
        },
        "id": "qU3IGNIuoAH0",
        "outputId": "b35109fa-f5a6-4649-d169-a2a35b769654"
      },
      "outputs": [
        {
          "data": {
            "application/vnd.microsoft.datawrangler.viewer.v0+json": {
              "columns": [
                {
                  "name": "index",
                  "rawType": "int64",
                  "type": "integer"
                },
                {
                  "name": "review_id",
                  "rawType": "object",
                  "type": "string"
                },
                {
                  "name": "order_id",
                  "rawType": "object",
                  "type": "string"
                },
                {
                  "name": "review_score",
                  "rawType": "int64",
                  "type": "integer"
                },
                {
                  "name": "review_comment_title",
                  "rawType": "object",
                  "type": "unknown"
                },
                {
                  "name": "review_comment_message",
                  "rawType": "object",
                  "type": "unknown"
                },
                {
                  "name": "review_creation_date",
                  "rawType": "object",
                  "type": "string"
                },
                {
                  "name": "review_answer_timestamp",
                  "rawType": "object",
                  "type": "string"
                }
              ],
              "conversionMethod": "pd.DataFrame",
              "ref": "e65b2490-8dc9-40ba-acf1-b38830bd71b0",
              "rows": [
                [
                  "0",
                  "7bc2406110b926393aa56f80a40eba40",
                  "73fc7af87114b39712e6da79b0a377eb",
                  "4",
                  null,
                  null,
                  "2018-01-18 00:00:00",
                  "2018-01-18 21:46:59"
                ],
                [
                  "1",
                  "80e641a11e56f04c1ad469d5645fdfde",
                  "a548910a1c6147796b98fdf73dbeba33",
                  "5",
                  null,
                  null,
                  "2018-03-10 00:00:00",
                  "2018-03-11 03:05:13"
                ],
                [
                  "2",
                  "228ce5500dc1d8e020d8d1322874b6f0",
                  "f9e4b658b201a9f2ecdecbb34bed034b",
                  "5",
                  null,
                  null,
                  "2018-02-17 00:00:00",
                  "2018-02-18 14:36:24"
                ],
                [
                  "3",
                  "e64fb393e7b32834bb789ff8bb30750e",
                  "658677c97b385a9be170737859d3511b",
                  "5",
                  null,
                  "Recebi bem antes do prazo estipulado.",
                  "2017-04-21 00:00:00",
                  "2017-04-21 22:02:06"
                ],
                [
                  "4",
                  "f7c4243c7fe1938f181bec41a392bdeb",
                  "8e6bfb81e283fa7e4f11123a3fb894f1",
                  "5",
                  null,
                  "Parabéns lojas lannister adorei comprar pela Internet seguro e prático Parabéns a todos feliz Páscoa",
                  "2018-03-01 00:00:00",
                  "2018-03-02 10:26:53"
                ]
              ],
              "shape": {
                "columns": 7,
                "rows": 5
              }
            },
            "text/html": [
              "<div>\n",
              "<style scoped>\n",
              "    .dataframe tbody tr th:only-of-type {\n",
              "        vertical-align: middle;\n",
              "    }\n",
              "\n",
              "    .dataframe tbody tr th {\n",
              "        vertical-align: top;\n",
              "    }\n",
              "\n",
              "    .dataframe thead th {\n",
              "        text-align: right;\n",
              "    }\n",
              "</style>\n",
              "<table border=\"1\" class=\"dataframe\">\n",
              "  <thead>\n",
              "    <tr style=\"text-align: right;\">\n",
              "      <th></th>\n",
              "      <th>review_id</th>\n",
              "      <th>order_id</th>\n",
              "      <th>review_score</th>\n",
              "      <th>review_comment_title</th>\n",
              "      <th>review_comment_message</th>\n",
              "      <th>review_creation_date</th>\n",
              "      <th>review_answer_timestamp</th>\n",
              "    </tr>\n",
              "  </thead>\n",
              "  <tbody>\n",
              "    <tr>\n",
              "      <th>0</th>\n",
              "      <td>7bc2406110b926393aa56f80a40eba40</td>\n",
              "      <td>73fc7af87114b39712e6da79b0a377eb</td>\n",
              "      <td>4</td>\n",
              "      <td>NaN</td>\n",
              "      <td>NaN</td>\n",
              "      <td>2018-01-18 00:00:00</td>\n",
              "      <td>2018-01-18 21:46:59</td>\n",
              "    </tr>\n",
              "    <tr>\n",
              "      <th>1</th>\n",
              "      <td>80e641a11e56f04c1ad469d5645fdfde</td>\n",
              "      <td>a548910a1c6147796b98fdf73dbeba33</td>\n",
              "      <td>5</td>\n",
              "      <td>NaN</td>\n",
              "      <td>NaN</td>\n",
              "      <td>2018-03-10 00:00:00</td>\n",
              "      <td>2018-03-11 03:05:13</td>\n",
              "    </tr>\n",
              "    <tr>\n",
              "      <th>2</th>\n",
              "      <td>228ce5500dc1d8e020d8d1322874b6f0</td>\n",
              "      <td>f9e4b658b201a9f2ecdecbb34bed034b</td>\n",
              "      <td>5</td>\n",
              "      <td>NaN</td>\n",
              "      <td>NaN</td>\n",
              "      <td>2018-02-17 00:00:00</td>\n",
              "      <td>2018-02-18 14:36:24</td>\n",
              "    </tr>\n",
              "    <tr>\n",
              "      <th>3</th>\n",
              "      <td>e64fb393e7b32834bb789ff8bb30750e</td>\n",
              "      <td>658677c97b385a9be170737859d3511b</td>\n",
              "      <td>5</td>\n",
              "      <td>NaN</td>\n",
              "      <td>Recebi bem antes do prazo estipulado.</td>\n",
              "      <td>2017-04-21 00:00:00</td>\n",
              "      <td>2017-04-21 22:02:06</td>\n",
              "    </tr>\n",
              "    <tr>\n",
              "      <th>4</th>\n",
              "      <td>f7c4243c7fe1938f181bec41a392bdeb</td>\n",
              "      <td>8e6bfb81e283fa7e4f11123a3fb894f1</td>\n",
              "      <td>5</td>\n",
              "      <td>NaN</td>\n",
              "      <td>Parabéns lojas lannister adorei comprar pela I...</td>\n",
              "      <td>2018-03-01 00:00:00</td>\n",
              "      <td>2018-03-02 10:26:53</td>\n",
              "    </tr>\n",
              "  </tbody>\n",
              "</table>\n",
              "</div>"
            ],
            "text/plain": [
              "                          review_id                          order_id  \\\n",
              "0  7bc2406110b926393aa56f80a40eba40  73fc7af87114b39712e6da79b0a377eb   \n",
              "1  80e641a11e56f04c1ad469d5645fdfde  a548910a1c6147796b98fdf73dbeba33   \n",
              "2  228ce5500dc1d8e020d8d1322874b6f0  f9e4b658b201a9f2ecdecbb34bed034b   \n",
              "3  e64fb393e7b32834bb789ff8bb30750e  658677c97b385a9be170737859d3511b   \n",
              "4  f7c4243c7fe1938f181bec41a392bdeb  8e6bfb81e283fa7e4f11123a3fb894f1   \n",
              "\n",
              "   review_score review_comment_title  \\\n",
              "0             4                  NaN   \n",
              "1             5                  NaN   \n",
              "2             5                  NaN   \n",
              "3             5                  NaN   \n",
              "4             5                  NaN   \n",
              "\n",
              "                              review_comment_message review_creation_date  \\\n",
              "0                                                NaN  2018-01-18 00:00:00   \n",
              "1                                                NaN  2018-03-10 00:00:00   \n",
              "2                                                NaN  2018-02-17 00:00:00   \n",
              "3              Recebi bem antes do prazo estipulado.  2017-04-21 00:00:00   \n",
              "4  Parabéns lojas lannister adorei comprar pela I...  2018-03-01 00:00:00   \n",
              "\n",
              "  review_answer_timestamp  \n",
              "0     2018-01-18 21:46:59  \n",
              "1     2018-03-11 03:05:13  \n",
              "2     2018-02-18 14:36:24  \n",
              "3     2017-04-21 22:02:06  \n",
              "4     2018-03-02 10:26:53  "
            ]
          },
          "execution_count": 8,
          "metadata": {},
          "output_type": "execute_result"
        }
      ],
      "source": [
        "order_reviews_df = pd.read_csv(directory_file/'data/E-Commerce Public Dataset/order_reviews_dataset.csv')\n",
        "order_reviews_df.head()"
      ]
    },
    {
      "cell_type": "code",
      "execution_count": 9,
      "metadata": {
        "colab": {
          "base_uri": "https://localhost:8080/",
          "height": 226
        },
        "id": "86Qz0T0HoLYt",
        "outputId": "46fa1bf9-cdc0-4dfe-92c4-a0c85f6197f7"
      },
      "outputs": [
        {
          "data": {
            "application/vnd.microsoft.datawrangler.viewer.v0+json": {
              "columns": [
                {
                  "name": "index",
                  "rawType": "int64",
                  "type": "integer"
                },
                {
                  "name": "order_id",
                  "rawType": "object",
                  "type": "string"
                },
                {
                  "name": "customer_id",
                  "rawType": "object",
                  "type": "string"
                },
                {
                  "name": "order_status",
                  "rawType": "object",
                  "type": "string"
                },
                {
                  "name": "order_purchase_timestamp",
                  "rawType": "object",
                  "type": "string"
                },
                {
                  "name": "order_approved_at",
                  "rawType": "object",
                  "type": "string"
                },
                {
                  "name": "order_delivered_carrier_date",
                  "rawType": "object",
                  "type": "string"
                },
                {
                  "name": "order_delivered_customer_date",
                  "rawType": "object",
                  "type": "string"
                },
                {
                  "name": "order_estimated_delivery_date",
                  "rawType": "object",
                  "type": "string"
                }
              ],
              "conversionMethod": "pd.DataFrame",
              "ref": "b5170bf7-e99d-4258-ae42-f5f5aa66c838",
              "rows": [
                [
                  "0",
                  "e481f51cbdc54678b7cc49136f2d6af7",
                  "9ef432eb6251297304e76186b10a928d",
                  "delivered",
                  "2017-10-02 10:56:33",
                  "2017-10-02 11:07:15",
                  "2017-10-04 19:55:00",
                  "2017-10-10 21:25:13",
                  "2017-10-18 00:00:00"
                ],
                [
                  "1",
                  "53cdb2fc8bc7dce0b6741e2150273451",
                  "b0830fb4747a6c6d20dea0b8c802d7ef",
                  "delivered",
                  "2018-07-24 20:41:37",
                  "2018-07-26 03:24:27",
                  "2018-07-26 14:31:00",
                  "2018-08-07 15:27:45",
                  "2018-08-13 00:00:00"
                ],
                [
                  "2",
                  "47770eb9100c2d0c44946d9cf07ec65d",
                  "41ce2a54c0b03bf3443c3d931a367089",
                  "delivered",
                  "2018-08-08 08:38:49",
                  "2018-08-08 08:55:23",
                  "2018-08-08 13:50:00",
                  "2018-08-17 18:06:29",
                  "2018-09-04 00:00:00"
                ],
                [
                  "3",
                  "949d5b44dbf5de918fe9c16f97b45f8a",
                  "f88197465ea7920adcdbec7375364d82",
                  "delivered",
                  "2017-11-18 19:28:06",
                  "2017-11-18 19:45:59",
                  "2017-11-22 13:39:59",
                  "2017-12-02 00:28:42",
                  "2017-12-15 00:00:00"
                ],
                [
                  "4",
                  "ad21c59c0840e6cb83a9ceb5573f8159",
                  "8ab97904e6daea8866dbdbc4fb7aad2c",
                  "delivered",
                  "2018-02-13 21:18:39",
                  "2018-02-13 22:20:29",
                  "2018-02-14 19:46:34",
                  "2018-02-16 18:17:02",
                  "2018-02-26 00:00:00"
                ]
              ],
              "shape": {
                "columns": 8,
                "rows": 5
              }
            },
            "text/html": [
              "<div>\n",
              "<style scoped>\n",
              "    .dataframe tbody tr th:only-of-type {\n",
              "        vertical-align: middle;\n",
              "    }\n",
              "\n",
              "    .dataframe tbody tr th {\n",
              "        vertical-align: top;\n",
              "    }\n",
              "\n",
              "    .dataframe thead th {\n",
              "        text-align: right;\n",
              "    }\n",
              "</style>\n",
              "<table border=\"1\" class=\"dataframe\">\n",
              "  <thead>\n",
              "    <tr style=\"text-align: right;\">\n",
              "      <th></th>\n",
              "      <th>order_id</th>\n",
              "      <th>customer_id</th>\n",
              "      <th>order_status</th>\n",
              "      <th>order_purchase_timestamp</th>\n",
              "      <th>order_approved_at</th>\n",
              "      <th>order_delivered_carrier_date</th>\n",
              "      <th>order_delivered_customer_date</th>\n",
              "      <th>order_estimated_delivery_date</th>\n",
              "    </tr>\n",
              "  </thead>\n",
              "  <tbody>\n",
              "    <tr>\n",
              "      <th>0</th>\n",
              "      <td>e481f51cbdc54678b7cc49136f2d6af7</td>\n",
              "      <td>9ef432eb6251297304e76186b10a928d</td>\n",
              "      <td>delivered</td>\n",
              "      <td>2017-10-02 10:56:33</td>\n",
              "      <td>2017-10-02 11:07:15</td>\n",
              "      <td>2017-10-04 19:55:00</td>\n",
              "      <td>2017-10-10 21:25:13</td>\n",
              "      <td>2017-10-18 00:00:00</td>\n",
              "    </tr>\n",
              "    <tr>\n",
              "      <th>1</th>\n",
              "      <td>53cdb2fc8bc7dce0b6741e2150273451</td>\n",
              "      <td>b0830fb4747a6c6d20dea0b8c802d7ef</td>\n",
              "      <td>delivered</td>\n",
              "      <td>2018-07-24 20:41:37</td>\n",
              "      <td>2018-07-26 03:24:27</td>\n",
              "      <td>2018-07-26 14:31:00</td>\n",
              "      <td>2018-08-07 15:27:45</td>\n",
              "      <td>2018-08-13 00:00:00</td>\n",
              "    </tr>\n",
              "    <tr>\n",
              "      <th>2</th>\n",
              "      <td>47770eb9100c2d0c44946d9cf07ec65d</td>\n",
              "      <td>41ce2a54c0b03bf3443c3d931a367089</td>\n",
              "      <td>delivered</td>\n",
              "      <td>2018-08-08 08:38:49</td>\n",
              "      <td>2018-08-08 08:55:23</td>\n",
              "      <td>2018-08-08 13:50:00</td>\n",
              "      <td>2018-08-17 18:06:29</td>\n",
              "      <td>2018-09-04 00:00:00</td>\n",
              "    </tr>\n",
              "    <tr>\n",
              "      <th>3</th>\n",
              "      <td>949d5b44dbf5de918fe9c16f97b45f8a</td>\n",
              "      <td>f88197465ea7920adcdbec7375364d82</td>\n",
              "      <td>delivered</td>\n",
              "      <td>2017-11-18 19:28:06</td>\n",
              "      <td>2017-11-18 19:45:59</td>\n",
              "      <td>2017-11-22 13:39:59</td>\n",
              "      <td>2017-12-02 00:28:42</td>\n",
              "      <td>2017-12-15 00:00:00</td>\n",
              "    </tr>\n",
              "    <tr>\n",
              "      <th>4</th>\n",
              "      <td>ad21c59c0840e6cb83a9ceb5573f8159</td>\n",
              "      <td>8ab97904e6daea8866dbdbc4fb7aad2c</td>\n",
              "      <td>delivered</td>\n",
              "      <td>2018-02-13 21:18:39</td>\n",
              "      <td>2018-02-13 22:20:29</td>\n",
              "      <td>2018-02-14 19:46:34</td>\n",
              "      <td>2018-02-16 18:17:02</td>\n",
              "      <td>2018-02-26 00:00:00</td>\n",
              "    </tr>\n",
              "  </tbody>\n",
              "</table>\n",
              "</div>"
            ],
            "text/plain": [
              "                           order_id                       customer_id  \\\n",
              "0  e481f51cbdc54678b7cc49136f2d6af7  9ef432eb6251297304e76186b10a928d   \n",
              "1  53cdb2fc8bc7dce0b6741e2150273451  b0830fb4747a6c6d20dea0b8c802d7ef   \n",
              "2  47770eb9100c2d0c44946d9cf07ec65d  41ce2a54c0b03bf3443c3d931a367089   \n",
              "3  949d5b44dbf5de918fe9c16f97b45f8a  f88197465ea7920adcdbec7375364d82   \n",
              "4  ad21c59c0840e6cb83a9ceb5573f8159  8ab97904e6daea8866dbdbc4fb7aad2c   \n",
              "\n",
              "  order_status order_purchase_timestamp    order_approved_at  \\\n",
              "0    delivered      2017-10-02 10:56:33  2017-10-02 11:07:15   \n",
              "1    delivered      2018-07-24 20:41:37  2018-07-26 03:24:27   \n",
              "2    delivered      2018-08-08 08:38:49  2018-08-08 08:55:23   \n",
              "3    delivered      2017-11-18 19:28:06  2017-11-18 19:45:59   \n",
              "4    delivered      2018-02-13 21:18:39  2018-02-13 22:20:29   \n",
              "\n",
              "  order_delivered_carrier_date order_delivered_customer_date  \\\n",
              "0          2017-10-04 19:55:00           2017-10-10 21:25:13   \n",
              "1          2018-07-26 14:31:00           2018-08-07 15:27:45   \n",
              "2          2018-08-08 13:50:00           2018-08-17 18:06:29   \n",
              "3          2017-11-22 13:39:59           2017-12-02 00:28:42   \n",
              "4          2018-02-14 19:46:34           2018-02-16 18:17:02   \n",
              "\n",
              "  order_estimated_delivery_date  \n",
              "0           2017-10-18 00:00:00  \n",
              "1           2018-08-13 00:00:00  \n",
              "2           2018-09-04 00:00:00  \n",
              "3           2017-12-15 00:00:00  \n",
              "4           2018-02-26 00:00:00  "
            ]
          },
          "execution_count": 9,
          "metadata": {},
          "output_type": "execute_result"
        }
      ],
      "source": [
        "orders_df = pd.read_csv(directory_file/'data/E-Commerce Public Dataset/orders_dataset.csv')\n",
        "orders_df.head()"
      ]
    },
    {
      "cell_type": "code",
      "execution_count": 10,
      "metadata": {
        "colab": {
          "base_uri": "https://localhost:8080/",
          "height": 206
        },
        "id": "G-NiJjMeoTby",
        "outputId": "f27aa5ed-fcc6-49de-d653-d4ed4d8c810c"
      },
      "outputs": [
        {
          "data": {
            "application/vnd.microsoft.datawrangler.viewer.v0+json": {
              "columns": [
                {
                  "name": "index",
                  "rawType": "int64",
                  "type": "integer"
                },
                {
                  "name": "product_category_name",
                  "rawType": "object",
                  "type": "string"
                },
                {
                  "name": "product_category_name_english",
                  "rawType": "object",
                  "type": "string"
                }
              ],
              "conversionMethod": "pd.DataFrame",
              "ref": "0b03ea4c-8939-485b-a7b6-d77988a1c916",
              "rows": [
                [
                  "0",
                  "beleza_saude",
                  "health_beauty"
                ],
                [
                  "1",
                  "informatica_acessorios",
                  "computers_accessories"
                ],
                [
                  "2",
                  "automotivo",
                  "auto"
                ],
                [
                  "3",
                  "cama_mesa_banho",
                  "bed_bath_table"
                ],
                [
                  "4",
                  "moveis_decoracao",
                  "furniture_decor"
                ]
              ],
              "shape": {
                "columns": 2,
                "rows": 5
              }
            },
            "text/html": [
              "<div>\n",
              "<style scoped>\n",
              "    .dataframe tbody tr th:only-of-type {\n",
              "        vertical-align: middle;\n",
              "    }\n",
              "\n",
              "    .dataframe tbody tr th {\n",
              "        vertical-align: top;\n",
              "    }\n",
              "\n",
              "    .dataframe thead th {\n",
              "        text-align: right;\n",
              "    }\n",
              "</style>\n",
              "<table border=\"1\" class=\"dataframe\">\n",
              "  <thead>\n",
              "    <tr style=\"text-align: right;\">\n",
              "      <th></th>\n",
              "      <th>product_category_name</th>\n",
              "      <th>product_category_name_english</th>\n",
              "    </tr>\n",
              "  </thead>\n",
              "  <tbody>\n",
              "    <tr>\n",
              "      <th>0</th>\n",
              "      <td>beleza_saude</td>\n",
              "      <td>health_beauty</td>\n",
              "    </tr>\n",
              "    <tr>\n",
              "      <th>1</th>\n",
              "      <td>informatica_acessorios</td>\n",
              "      <td>computers_accessories</td>\n",
              "    </tr>\n",
              "    <tr>\n",
              "      <th>2</th>\n",
              "      <td>automotivo</td>\n",
              "      <td>auto</td>\n",
              "    </tr>\n",
              "    <tr>\n",
              "      <th>3</th>\n",
              "      <td>cama_mesa_banho</td>\n",
              "      <td>bed_bath_table</td>\n",
              "    </tr>\n",
              "    <tr>\n",
              "      <th>4</th>\n",
              "      <td>moveis_decoracao</td>\n",
              "      <td>furniture_decor</td>\n",
              "    </tr>\n",
              "  </tbody>\n",
              "</table>\n",
              "</div>"
            ],
            "text/plain": [
              "    product_category_name product_category_name_english\n",
              "0            beleza_saude                 health_beauty\n",
              "1  informatica_acessorios         computers_accessories\n",
              "2              automotivo                          auto\n",
              "3         cama_mesa_banho                bed_bath_table\n",
              "4        moveis_decoracao               furniture_decor"
            ]
          },
          "execution_count": 10,
          "metadata": {},
          "output_type": "execute_result"
        }
      ],
      "source": [
        "product_category_df = pd.read_csv(directory_file/'data/E-Commerce Public Dataset/product_category_name_translation.csv')\n",
        "product_category_df.head()"
      ]
    },
    {
      "cell_type": "code",
      "execution_count": 11,
      "metadata": {
        "colab": {
          "base_uri": "https://localhost:8080/",
          "height": 226
        },
        "id": "F1iYVQOmoXyA",
        "outputId": "b3e6ec26-735c-40d5-d3fb-b7a86c22489e"
      },
      "outputs": [
        {
          "data": {
            "application/vnd.microsoft.datawrangler.viewer.v0+json": {
              "columns": [
                {
                  "name": "index",
                  "rawType": "int64",
                  "type": "integer"
                },
                {
                  "name": "product_id",
                  "rawType": "object",
                  "type": "string"
                },
                {
                  "name": "product_category_name",
                  "rawType": "object",
                  "type": "string"
                },
                {
                  "name": "product_name_lenght",
                  "rawType": "float64",
                  "type": "float"
                },
                {
                  "name": "product_description_lenght",
                  "rawType": "float64",
                  "type": "float"
                },
                {
                  "name": "product_photos_qty",
                  "rawType": "float64",
                  "type": "float"
                },
                {
                  "name": "product_weight_g",
                  "rawType": "float64",
                  "type": "float"
                },
                {
                  "name": "product_length_cm",
                  "rawType": "float64",
                  "type": "float"
                },
                {
                  "name": "product_height_cm",
                  "rawType": "float64",
                  "type": "float"
                },
                {
                  "name": "product_width_cm",
                  "rawType": "float64",
                  "type": "float"
                }
              ],
              "conversionMethod": "pd.DataFrame",
              "ref": "b4d2fe11-87af-4e28-a7c9-3ff1c7d1775b",
              "rows": [
                [
                  "0",
                  "1e9e8ef04dbcff4541ed26657ea517e5",
                  "perfumaria",
                  "40.0",
                  "287.0",
                  "1.0",
                  "225.0",
                  "16.0",
                  "10.0",
                  "14.0"
                ],
                [
                  "1",
                  "3aa071139cb16b67ca9e5dea641aaa2f",
                  "artes",
                  "44.0",
                  "276.0",
                  "1.0",
                  "1000.0",
                  "30.0",
                  "18.0",
                  "20.0"
                ],
                [
                  "2",
                  "96bd76ec8810374ed1b65e291975717f",
                  "esporte_lazer",
                  "46.0",
                  "250.0",
                  "1.0",
                  "154.0",
                  "18.0",
                  "9.0",
                  "15.0"
                ],
                [
                  "3",
                  "cef67bcfe19066a932b7673e239eb23d",
                  "bebes",
                  "27.0",
                  "261.0",
                  "1.0",
                  "371.0",
                  "26.0",
                  "4.0",
                  "26.0"
                ],
                [
                  "4",
                  "9dc1a7de274444849c219cff195d0b71",
                  "utilidades_domesticas",
                  "37.0",
                  "402.0",
                  "4.0",
                  "625.0",
                  "20.0",
                  "17.0",
                  "13.0"
                ]
              ],
              "shape": {
                "columns": 9,
                "rows": 5
              }
            },
            "text/html": [
              "<div>\n",
              "<style scoped>\n",
              "    .dataframe tbody tr th:only-of-type {\n",
              "        vertical-align: middle;\n",
              "    }\n",
              "\n",
              "    .dataframe tbody tr th {\n",
              "        vertical-align: top;\n",
              "    }\n",
              "\n",
              "    .dataframe thead th {\n",
              "        text-align: right;\n",
              "    }\n",
              "</style>\n",
              "<table border=\"1\" class=\"dataframe\">\n",
              "  <thead>\n",
              "    <tr style=\"text-align: right;\">\n",
              "      <th></th>\n",
              "      <th>product_id</th>\n",
              "      <th>product_category_name</th>\n",
              "      <th>product_name_lenght</th>\n",
              "      <th>product_description_lenght</th>\n",
              "      <th>product_photos_qty</th>\n",
              "      <th>product_weight_g</th>\n",
              "      <th>product_length_cm</th>\n",
              "      <th>product_height_cm</th>\n",
              "      <th>product_width_cm</th>\n",
              "    </tr>\n",
              "  </thead>\n",
              "  <tbody>\n",
              "    <tr>\n",
              "      <th>0</th>\n",
              "      <td>1e9e8ef04dbcff4541ed26657ea517e5</td>\n",
              "      <td>perfumaria</td>\n",
              "      <td>40.0</td>\n",
              "      <td>287.0</td>\n",
              "      <td>1.0</td>\n",
              "      <td>225.0</td>\n",
              "      <td>16.0</td>\n",
              "      <td>10.0</td>\n",
              "      <td>14.0</td>\n",
              "    </tr>\n",
              "    <tr>\n",
              "      <th>1</th>\n",
              "      <td>3aa071139cb16b67ca9e5dea641aaa2f</td>\n",
              "      <td>artes</td>\n",
              "      <td>44.0</td>\n",
              "      <td>276.0</td>\n",
              "      <td>1.0</td>\n",
              "      <td>1000.0</td>\n",
              "      <td>30.0</td>\n",
              "      <td>18.0</td>\n",
              "      <td>20.0</td>\n",
              "    </tr>\n",
              "    <tr>\n",
              "      <th>2</th>\n",
              "      <td>96bd76ec8810374ed1b65e291975717f</td>\n",
              "      <td>esporte_lazer</td>\n",
              "      <td>46.0</td>\n",
              "      <td>250.0</td>\n",
              "      <td>1.0</td>\n",
              "      <td>154.0</td>\n",
              "      <td>18.0</td>\n",
              "      <td>9.0</td>\n",
              "      <td>15.0</td>\n",
              "    </tr>\n",
              "    <tr>\n",
              "      <th>3</th>\n",
              "      <td>cef67bcfe19066a932b7673e239eb23d</td>\n",
              "      <td>bebes</td>\n",
              "      <td>27.0</td>\n",
              "      <td>261.0</td>\n",
              "      <td>1.0</td>\n",
              "      <td>371.0</td>\n",
              "      <td>26.0</td>\n",
              "      <td>4.0</td>\n",
              "      <td>26.0</td>\n",
              "    </tr>\n",
              "    <tr>\n",
              "      <th>4</th>\n",
              "      <td>9dc1a7de274444849c219cff195d0b71</td>\n",
              "      <td>utilidades_domesticas</td>\n",
              "      <td>37.0</td>\n",
              "      <td>402.0</td>\n",
              "      <td>4.0</td>\n",
              "      <td>625.0</td>\n",
              "      <td>20.0</td>\n",
              "      <td>17.0</td>\n",
              "      <td>13.0</td>\n",
              "    </tr>\n",
              "  </tbody>\n",
              "</table>\n",
              "</div>"
            ],
            "text/plain": [
              "                         product_id  product_category_name  \\\n",
              "0  1e9e8ef04dbcff4541ed26657ea517e5             perfumaria   \n",
              "1  3aa071139cb16b67ca9e5dea641aaa2f                  artes   \n",
              "2  96bd76ec8810374ed1b65e291975717f          esporte_lazer   \n",
              "3  cef67bcfe19066a932b7673e239eb23d                  bebes   \n",
              "4  9dc1a7de274444849c219cff195d0b71  utilidades_domesticas   \n",
              "\n",
              "   product_name_lenght  product_description_lenght  product_photos_qty  \\\n",
              "0                 40.0                       287.0                 1.0   \n",
              "1                 44.0                       276.0                 1.0   \n",
              "2                 46.0                       250.0                 1.0   \n",
              "3                 27.0                       261.0                 1.0   \n",
              "4                 37.0                       402.0                 4.0   \n",
              "\n",
              "   product_weight_g  product_length_cm  product_height_cm  product_width_cm  \n",
              "0             225.0               16.0               10.0              14.0  \n",
              "1            1000.0               30.0               18.0              20.0  \n",
              "2             154.0               18.0                9.0              15.0  \n",
              "3             371.0               26.0                4.0              26.0  \n",
              "4             625.0               20.0               17.0              13.0  "
            ]
          },
          "execution_count": 11,
          "metadata": {},
          "output_type": "execute_result"
        }
      ],
      "source": [
        "products_df = pd.read_csv(directory_file/'data/E-Commerce Public Dataset/products_dataset.csv')\n",
        "products_df.head()"
      ]
    },
    {
      "cell_type": "code",
      "execution_count": 12,
      "metadata": {
        "colab": {
          "base_uri": "https://localhost:8080/",
          "height": 206
        },
        "id": "Zbdj1bTBof-V",
        "outputId": "be161994-ab31-4d5a-9b20-42c59e9e4e0c"
      },
      "outputs": [
        {
          "data": {
            "application/vnd.microsoft.datawrangler.viewer.v0+json": {
              "columns": [
                {
                  "name": "index",
                  "rawType": "int64",
                  "type": "integer"
                },
                {
                  "name": "seller_id",
                  "rawType": "object",
                  "type": "string"
                },
                {
                  "name": "seller_zip_code_prefix",
                  "rawType": "int64",
                  "type": "integer"
                },
                {
                  "name": "seller_city",
                  "rawType": "object",
                  "type": "string"
                },
                {
                  "name": "seller_state",
                  "rawType": "object",
                  "type": "string"
                }
              ],
              "conversionMethod": "pd.DataFrame",
              "ref": "f4d08043-42a9-4eb4-8add-50fc34008733",
              "rows": [
                [
                  "0",
                  "3442f8959a84dea7ee197c632cb2df15",
                  "13023",
                  "campinas",
                  "SP"
                ],
                [
                  "1",
                  "d1b65fc7debc3361ea86b5f14c68d2e2",
                  "13844",
                  "mogi guacu",
                  "SP"
                ],
                [
                  "2",
                  "ce3ad9de960102d0677a81f5d0bb7b2d",
                  "20031",
                  "rio de janeiro",
                  "RJ"
                ],
                [
                  "3",
                  "c0f3eea2e14555b6faeea3dd58c1b1c3",
                  "4195",
                  "sao paulo",
                  "SP"
                ],
                [
                  "4",
                  "51a04a8a6bdcb23deccc82b0b80742cf",
                  "12914",
                  "braganca paulista",
                  "SP"
                ]
              ],
              "shape": {
                "columns": 4,
                "rows": 5
              }
            },
            "text/html": [
              "<div>\n",
              "<style scoped>\n",
              "    .dataframe tbody tr th:only-of-type {\n",
              "        vertical-align: middle;\n",
              "    }\n",
              "\n",
              "    .dataframe tbody tr th {\n",
              "        vertical-align: top;\n",
              "    }\n",
              "\n",
              "    .dataframe thead th {\n",
              "        text-align: right;\n",
              "    }\n",
              "</style>\n",
              "<table border=\"1\" class=\"dataframe\">\n",
              "  <thead>\n",
              "    <tr style=\"text-align: right;\">\n",
              "      <th></th>\n",
              "      <th>seller_id</th>\n",
              "      <th>seller_zip_code_prefix</th>\n",
              "      <th>seller_city</th>\n",
              "      <th>seller_state</th>\n",
              "    </tr>\n",
              "  </thead>\n",
              "  <tbody>\n",
              "    <tr>\n",
              "      <th>0</th>\n",
              "      <td>3442f8959a84dea7ee197c632cb2df15</td>\n",
              "      <td>13023</td>\n",
              "      <td>campinas</td>\n",
              "      <td>SP</td>\n",
              "    </tr>\n",
              "    <tr>\n",
              "      <th>1</th>\n",
              "      <td>d1b65fc7debc3361ea86b5f14c68d2e2</td>\n",
              "      <td>13844</td>\n",
              "      <td>mogi guacu</td>\n",
              "      <td>SP</td>\n",
              "    </tr>\n",
              "    <tr>\n",
              "      <th>2</th>\n",
              "      <td>ce3ad9de960102d0677a81f5d0bb7b2d</td>\n",
              "      <td>20031</td>\n",
              "      <td>rio de janeiro</td>\n",
              "      <td>RJ</td>\n",
              "    </tr>\n",
              "    <tr>\n",
              "      <th>3</th>\n",
              "      <td>c0f3eea2e14555b6faeea3dd58c1b1c3</td>\n",
              "      <td>4195</td>\n",
              "      <td>sao paulo</td>\n",
              "      <td>SP</td>\n",
              "    </tr>\n",
              "    <tr>\n",
              "      <th>4</th>\n",
              "      <td>51a04a8a6bdcb23deccc82b0b80742cf</td>\n",
              "      <td>12914</td>\n",
              "      <td>braganca paulista</td>\n",
              "      <td>SP</td>\n",
              "    </tr>\n",
              "  </tbody>\n",
              "</table>\n",
              "</div>"
            ],
            "text/plain": [
              "                          seller_id  seller_zip_code_prefix  \\\n",
              "0  3442f8959a84dea7ee197c632cb2df15                   13023   \n",
              "1  d1b65fc7debc3361ea86b5f14c68d2e2                   13844   \n",
              "2  ce3ad9de960102d0677a81f5d0bb7b2d                   20031   \n",
              "3  c0f3eea2e14555b6faeea3dd58c1b1c3                    4195   \n",
              "4  51a04a8a6bdcb23deccc82b0b80742cf                   12914   \n",
              "\n",
              "         seller_city seller_state  \n",
              "0           campinas           SP  \n",
              "1         mogi guacu           SP  \n",
              "2     rio de janeiro           RJ  \n",
              "3          sao paulo           SP  \n",
              "4  braganca paulista           SP  "
            ]
          },
          "execution_count": 12,
          "metadata": {},
          "output_type": "execute_result"
        }
      ],
      "source": [
        "sellers_df = pd.read_csv(directory_file/'data/E-Commerce Public Dataset/sellers_dataset.csv')\n",
        "sellers_df.head()"
      ]
    },
    {
      "cell_type": "markdown",
      "metadata": {
        "id": "srCwTwlK_It9"
      },
      "source": [
        "**Insight:**\n",
        "\n",
        "1.   Memahami Sumber Data\n",
        "\n",
        "2.   Memahami Struktur Data\n",
        "*   Variabel\n",
        "*   Format Data\n",
        "*   Missing Value\n",
        "*   Outlier\n"
      ]
    },
    {
      "cell_type": "markdown",
      "metadata": {
        "id": "CXlEqwch_LlJ"
      },
      "source": [
        "### **Assessing Data**"
      ]
    },
    {
      "cell_type": "code",
      "execution_count": 13,
      "metadata": {
        "id": "IwnUI-ZQ_70r"
      },
      "outputs": [],
      "source": [
        "def analyze_table(df):\n",
        "    # Print info table\n",
        "    print(f\"\\n---Info Tabel---\\n\")\n",
        "    df.info()\n",
        "\n",
        "    # Print missing values table\n",
        "    print(f\"\\n---Missing Value---\\n\")\n",
        "    print(df.isna().sum())\n",
        "\n",
        "    # Print duplicated values count\n",
        "    print(f\"\\n---Duplikat---\\n\")\n",
        "    print(df.duplicated().sum())\n",
        "\n",
        "    # Print table description\n",
        "    print(f\"\\n---Deskripsi Tabel---\\n\")\n",
        "    print(df.describe())"
      ]
    },
    {
      "cell_type": "markdown",
      "metadata": {
        "id": "_5qTuzSrxaNl"
      },
      "source": [
        "**Info Tabel Costumer**"
      ]
    },
    {
      "cell_type": "code",
      "execution_count": 14,
      "metadata": {
        "colab": {
          "base_uri": "https://localhost:8080/",
          "height": 0
        },
        "id": "r3UpWpFNo18G",
        "outputId": "0216d336-1f56-4f23-8023-61895b245703"
      },
      "outputs": [
        {
          "name": "stdout",
          "output_type": "stream",
          "text": [
            "\n",
            "---Info Tabel---\n",
            "\n",
            "<class 'pandas.core.frame.DataFrame'>\n",
            "RangeIndex: 99441 entries, 0 to 99440\n",
            "Data columns (total 5 columns):\n",
            " #   Column                    Non-Null Count  Dtype \n",
            "---  ------                    --------------  ----- \n",
            " 0   customer_id               99441 non-null  object\n",
            " 1   customer_unique_id        99441 non-null  object\n",
            " 2   customer_zip_code_prefix  99441 non-null  int64 \n",
            " 3   customer_city             99441 non-null  object\n",
            " 4   customer_state            99441 non-null  object\n",
            "dtypes: int64(1), object(4)\n",
            "memory usage: 3.8+ MB\n",
            "\n",
            "---Missing Value---\n",
            "\n",
            "customer_id                 0\n",
            "customer_unique_id          0\n",
            "customer_zip_code_prefix    0\n",
            "customer_city               0\n",
            "customer_state              0\n",
            "dtype: int64\n",
            "\n",
            "---Duplikat---\n",
            "\n",
            "0\n",
            "\n",
            "---Deskripsi Tabel---\n",
            "\n",
            "       customer_zip_code_prefix\n",
            "count              99441.000000\n",
            "mean               35137.474583\n",
            "std                29797.938996\n",
            "min                 1003.000000\n",
            "25%                11347.000000\n",
            "50%                24416.000000\n",
            "75%                58900.000000\n",
            "max                99990.000000\n"
          ]
        }
      ],
      "source": [
        "analyze_table(customers_df)"
      ]
    },
    {
      "cell_type": "markdown",
      "metadata": {
        "id": "HywItzp3x7b-"
      },
      "source": [
        "**Info Tabel Geolocation**"
      ]
    },
    {
      "cell_type": "code",
      "execution_count": 15,
      "metadata": {
        "colab": {
          "base_uri": "https://localhost:8080/",
          "height": 0
        },
        "id": "vMNugk1Cx7AB",
        "outputId": "517c723e-8c09-4a6e-ca40-d95961de0312"
      },
      "outputs": [
        {
          "name": "stdout",
          "output_type": "stream",
          "text": [
            "\n",
            "---Info Tabel---\n",
            "\n",
            "<class 'pandas.core.frame.DataFrame'>\n",
            "RangeIndex: 1000163 entries, 0 to 1000162\n",
            "Data columns (total 5 columns):\n",
            " #   Column                       Non-Null Count    Dtype  \n",
            "---  ------                       --------------    -----  \n",
            " 0   geolocation_zip_code_prefix  1000163 non-null  int64  \n",
            " 1   geolocation_lat              1000163 non-null  float64\n",
            " 2   geolocation_lng              1000163 non-null  float64\n",
            " 3   geolocation_city             1000163 non-null  object \n",
            " 4   geolocation_state            1000163 non-null  object \n",
            "dtypes: float64(2), int64(1), object(2)\n",
            "memory usage: 38.2+ MB\n",
            "\n",
            "---Missing Value---\n",
            "\n",
            "geolocation_zip_code_prefix    0\n",
            "geolocation_lat                0\n",
            "geolocation_lng                0\n",
            "geolocation_city               0\n",
            "geolocation_state              0\n",
            "dtype: int64\n",
            "\n",
            "---Duplikat---\n",
            "\n",
            "261831\n",
            "\n",
            "---Deskripsi Tabel---\n",
            "\n",
            "       geolocation_zip_code_prefix  geolocation_lat  geolocation_lng\n",
            "count                 1.000163e+06     1.000163e+06     1.000163e+06\n",
            "mean                  3.657417e+04    -2.117615e+01    -4.639054e+01\n",
            "std                   3.054934e+04     5.715866e+00     4.269748e+00\n",
            "min                   1.001000e+03    -3.660537e+01    -1.014668e+02\n",
            "25%                   1.107500e+04    -2.360355e+01    -4.857317e+01\n",
            "50%                   2.653000e+04    -2.291938e+01    -4.663788e+01\n",
            "75%                   6.350400e+04    -1.997962e+01    -4.376771e+01\n",
            "max                   9.999000e+04     4.506593e+01     1.211054e+02\n"
          ]
        }
      ],
      "source": [
        "analyze_table(geolocation_df)"
      ]
    },
    {
      "cell_type": "markdown",
      "metadata": {
        "id": "_rbqEsOGfory"
      },
      "source": [
        "Table geolocation memiliki duplikasi data tapi tidak ada missing data"
      ]
    },
    {
      "cell_type": "markdown",
      "metadata": {
        "id": "zXAsyB2RyLzE"
      },
      "source": [
        "**Info Tabel order_items**"
      ]
    },
    {
      "cell_type": "code",
      "execution_count": 16,
      "metadata": {
        "colab": {
          "base_uri": "https://localhost:8080/",
          "height": 0
        },
        "id": "jUfdrH_cyQg7",
        "outputId": "39ec9dce-26c7-45f3-d2be-8e0a8b4c0383"
      },
      "outputs": [
        {
          "name": "stdout",
          "output_type": "stream",
          "text": [
            "\n",
            "---Info Tabel---\n",
            "\n",
            "<class 'pandas.core.frame.DataFrame'>\n",
            "RangeIndex: 112650 entries, 0 to 112649\n",
            "Data columns (total 7 columns):\n",
            " #   Column               Non-Null Count   Dtype  \n",
            "---  ------               --------------   -----  \n",
            " 0   order_id             112650 non-null  object \n",
            " 1   order_item_id        112650 non-null  int64  \n",
            " 2   product_id           112650 non-null  object \n",
            " 3   seller_id            112650 non-null  object \n",
            " 4   shipping_limit_date  112650 non-null  object \n",
            " 5   price                112650 non-null  float64\n",
            " 6   freight_value        112650 non-null  float64\n",
            "dtypes: float64(2), int64(1), object(4)\n",
            "memory usage: 6.0+ MB\n",
            "\n",
            "---Missing Value---\n",
            "\n",
            "order_id               0\n",
            "order_item_id          0\n",
            "product_id             0\n",
            "seller_id              0\n",
            "shipping_limit_date    0\n",
            "price                  0\n",
            "freight_value          0\n",
            "dtype: int64\n",
            "\n",
            "---Duplikat---\n",
            "\n",
            "0\n",
            "\n",
            "---Deskripsi Tabel---\n",
            "\n",
            "       order_item_id          price  freight_value\n",
            "count  112650.000000  112650.000000  112650.000000\n",
            "mean        1.197834     120.653739      19.990320\n",
            "std         0.705124     183.633928      15.806405\n",
            "min         1.000000       0.850000       0.000000\n",
            "25%         1.000000      39.900000      13.080000\n",
            "50%         1.000000      74.990000      16.260000\n",
            "75%         1.000000     134.900000      21.150000\n",
            "max        21.000000    6735.000000     409.680000\n"
          ]
        }
      ],
      "source": [
        "analyze_table(order_items_df)"
      ]
    },
    {
      "cell_type": "markdown",
      "metadata": {
        "id": "nXyxQRT-afYO"
      },
      "source": [
        "kolom shipping_limit_date bukan termasuk tipe data object seharusnya bertipe date"
      ]
    },
    {
      "cell_type": "markdown",
      "metadata": {
        "id": "zdzQnb1myUx8"
      },
      "source": [
        "**Info Tabel order_payment**"
      ]
    },
    {
      "cell_type": "code",
      "execution_count": 17,
      "metadata": {
        "colab": {
          "base_uri": "https://localhost:8080/",
          "height": 0
        },
        "id": "dafuixT9yXFM",
        "outputId": "b94f9d6a-5682-42b8-9240-366682b06859"
      },
      "outputs": [
        {
          "name": "stdout",
          "output_type": "stream",
          "text": [
            "\n",
            "---Info Tabel---\n",
            "\n",
            "<class 'pandas.core.frame.DataFrame'>\n",
            "RangeIndex: 103886 entries, 0 to 103885\n",
            "Data columns (total 5 columns):\n",
            " #   Column                Non-Null Count   Dtype  \n",
            "---  ------                --------------   -----  \n",
            " 0   order_id              103886 non-null  object \n",
            " 1   payment_sequential    103886 non-null  int64  \n",
            " 2   payment_type          103886 non-null  object \n",
            " 3   payment_installments  103886 non-null  int64  \n",
            " 4   payment_value         103886 non-null  float64\n",
            "dtypes: float64(1), int64(2), object(2)\n",
            "memory usage: 4.0+ MB\n",
            "\n",
            "---Missing Value---\n",
            "\n",
            "order_id                0\n",
            "payment_sequential      0\n",
            "payment_type            0\n",
            "payment_installments    0\n",
            "payment_value           0\n",
            "dtype: int64\n",
            "\n",
            "---Duplikat---\n",
            "\n",
            "0\n",
            "\n",
            "---Deskripsi Tabel---\n",
            "\n",
            "       payment_sequential  payment_installments  payment_value\n",
            "count       103886.000000         103886.000000  103886.000000\n",
            "mean             1.092679              2.853349     154.100380\n",
            "std              0.706584              2.687051     217.494064\n",
            "min              1.000000              0.000000       0.000000\n",
            "25%              1.000000              1.000000      56.790000\n",
            "50%              1.000000              1.000000     100.000000\n",
            "75%              1.000000              4.000000     171.837500\n",
            "max             29.000000             24.000000   13664.080000\n"
          ]
        }
      ],
      "source": [
        "analyze_table(order_payment_df)"
      ]
    },
    {
      "cell_type": "markdown",
      "metadata": {
        "id": "LrnDVpHhT1XV"
      },
      "source": [
        "**Info Tabel order_reviews**"
      ]
    },
    {
      "cell_type": "code",
      "execution_count": 18,
      "metadata": {
        "colab": {
          "base_uri": "https://localhost:8080/",
          "height": 0
        },
        "id": "fLVuavFOT3oe",
        "outputId": "646cc2f1-cac2-4e19-b525-3afa8555101b"
      },
      "outputs": [
        {
          "name": "stdout",
          "output_type": "stream",
          "text": [
            "\n",
            "---Info Tabel---\n",
            "\n",
            "<class 'pandas.core.frame.DataFrame'>\n",
            "RangeIndex: 99224 entries, 0 to 99223\n",
            "Data columns (total 7 columns):\n",
            " #   Column                   Non-Null Count  Dtype \n",
            "---  ------                   --------------  ----- \n",
            " 0   review_id                99224 non-null  object\n",
            " 1   order_id                 99224 non-null  object\n",
            " 2   review_score             99224 non-null  int64 \n",
            " 3   review_comment_title     11568 non-null  object\n",
            " 4   review_comment_message   40977 non-null  object\n",
            " 5   review_creation_date     99224 non-null  object\n",
            " 6   review_answer_timestamp  99224 non-null  object\n",
            "dtypes: int64(1), object(6)\n",
            "memory usage: 5.3+ MB\n",
            "\n",
            "---Missing Value---\n",
            "\n",
            "review_id                      0\n",
            "order_id                       0\n",
            "review_score                   0\n",
            "review_comment_title       87656\n",
            "review_comment_message     58247\n",
            "review_creation_date           0\n",
            "review_answer_timestamp        0\n",
            "dtype: int64\n",
            "\n",
            "---Duplikat---\n",
            "\n",
            "0\n",
            "\n",
            "---Deskripsi Tabel---\n",
            "\n",
            "       review_score\n",
            "count  99224.000000\n",
            "mean       4.086421\n",
            "std        1.347579\n",
            "min        1.000000\n",
            "25%        4.000000\n",
            "50%        5.000000\n",
            "75%        5.000000\n",
            "max        5.000000\n"
          ]
        }
      ],
      "source": [
        "analyze_table(order_reviews_df)"
      ]
    },
    {
      "cell_type": "markdown",
      "metadata": {
        "id": "Q7bbXRZtUXkA"
      },
      "source": [
        "Tabel reviews memiliki 2 kolom dengan missing value, yaitu:\n",
        "* review_comment_title\n",
        "* review_comment_message\n",
        "\n",
        "Tipe data pada kolom  review_creation_date belum bertipe date, masih bertipe data object"
      ]
    },
    {
      "cell_type": "markdown",
      "metadata": {
        "id": "lXbFI5pPT-xI"
      },
      "source": [
        "**Info Tabel orders**"
      ]
    },
    {
      "cell_type": "code",
      "execution_count": 19,
      "metadata": {
        "colab": {
          "base_uri": "https://localhost:8080/",
          "height": 0
        },
        "id": "lAGh52ROUA7q",
        "outputId": "30abc008-8ac3-4a0b-dad6-4fb99a3e5bb2"
      },
      "outputs": [
        {
          "name": "stdout",
          "output_type": "stream",
          "text": [
            "\n",
            "---Info Tabel---\n",
            "\n",
            "<class 'pandas.core.frame.DataFrame'>\n",
            "RangeIndex: 99441 entries, 0 to 99440\n",
            "Data columns (total 8 columns):\n",
            " #   Column                         Non-Null Count  Dtype \n",
            "---  ------                         --------------  ----- \n",
            " 0   order_id                       99441 non-null  object\n",
            " 1   customer_id                    99441 non-null  object\n",
            " 2   order_status                   99441 non-null  object\n",
            " 3   order_purchase_timestamp       99441 non-null  object\n",
            " 4   order_approved_at              99281 non-null  object\n",
            " 5   order_delivered_carrier_date   97658 non-null  object\n",
            " 6   order_delivered_customer_date  96476 non-null  object\n",
            " 7   order_estimated_delivery_date  99441 non-null  object\n",
            "dtypes: object(8)\n",
            "memory usage: 6.1+ MB\n",
            "\n",
            "---Missing Value---\n",
            "\n",
            "order_id                            0\n",
            "customer_id                         0\n",
            "order_status                        0\n",
            "order_purchase_timestamp            0\n",
            "order_approved_at                 160\n",
            "order_delivered_carrier_date     1783\n",
            "order_delivered_customer_date    2965\n",
            "order_estimated_delivery_date       0\n",
            "dtype: int64\n",
            "\n",
            "---Duplikat---\n",
            "\n",
            "0\n",
            "\n",
            "---Deskripsi Tabel---\n",
            "\n",
            "                                order_id                       customer_id  \\\n",
            "count                              99441                             99441   \n",
            "unique                             99441                             99441   \n",
            "top     66dea50a8b16d9b4dee7af250b4be1a5  edb027a75a1449115f6b43211ae02a24   \n",
            "freq                                   1                                 1   \n",
            "\n",
            "       order_status order_purchase_timestamp    order_approved_at  \\\n",
            "count         99441                    99441                99281   \n",
            "unique            8                    98875                90733   \n",
            "top       delivered      2018-08-02 12:05:26  2018-02-27 04:31:10   \n",
            "freq          96478                        3                    9   \n",
            "\n",
            "       order_delivered_carrier_date order_delivered_customer_date  \\\n",
            "count                         97658                         96476   \n",
            "unique                        81018                         95664   \n",
            "top             2018-05-09 15:48:00           2018-05-08 19:36:48   \n",
            "freq                             47                             3   \n",
            "\n",
            "       order_estimated_delivery_date  \n",
            "count                          99441  \n",
            "unique                           459  \n",
            "top              2017-12-20 00:00:00  \n",
            "freq                             522  \n"
          ]
        }
      ],
      "source": [
        "analyze_table(orders_df)"
      ]
    },
    {
      "cell_type": "markdown",
      "metadata": {
        "id": "kkyExNSebVyJ"
      },
      "source": [
        "**INSIGHT**\n",
        "\n",
        "1. Tabel geolocation memiliki banyak duplikasi data tetapi tidak memiliki missing data\n",
        "\n",
        "2. Tabel orders memiliki missing value pada kolom :\n",
        "  * order_approved_at\n",
        "  * order_delivered_carrier_date\n",
        "  * order_delivered_customer_date\n",
        "\n",
        "3. Tipe data pada kolom order_delivered_carrier_date, order_delivered_customer_date, dan order_estimated_delivery_date masih bertipe object"
      ]
    },
    {
      "cell_type": "markdown",
      "metadata": {
        "id": "Ts6v0BNCbxuQ"
      },
      "source": [
        "**Info tabel product_category**"
      ]
    },
    {
      "cell_type": "code",
      "execution_count": 20,
      "metadata": {
        "colab": {
          "base_uri": "https://localhost:8080/",
          "height": 0
        },
        "id": "dONo381bbzX3",
        "outputId": "9bd61ec7-a202-46ec-bab1-3153a0efa6d5"
      },
      "outputs": [
        {
          "name": "stdout",
          "output_type": "stream",
          "text": [
            "\n",
            "---Info Tabel---\n",
            "\n",
            "<class 'pandas.core.frame.DataFrame'>\n",
            "RangeIndex: 71 entries, 0 to 70\n",
            "Data columns (total 2 columns):\n",
            " #   Column                         Non-Null Count  Dtype \n",
            "---  ------                         --------------  ----- \n",
            " 0   product_category_name          71 non-null     object\n",
            " 1   product_category_name_english  71 non-null     object\n",
            "dtypes: object(2)\n",
            "memory usage: 1.2+ KB\n",
            "\n",
            "---Missing Value---\n",
            "\n",
            "product_category_name            0\n",
            "product_category_name_english    0\n",
            "dtype: int64\n",
            "\n",
            "---Duplikat---\n",
            "\n",
            "0\n",
            "\n",
            "---Deskripsi Tabel---\n",
            "\n",
            "       product_category_name product_category_name_english\n",
            "count                     71                            71\n",
            "unique                    71                            71\n",
            "top             beleza_saude                 health_beauty\n",
            "freq                       1                             1\n"
          ]
        }
      ],
      "source": [
        "analyze_table(product_category_df)"
      ]
    },
    {
      "cell_type": "markdown",
      "metadata": {
        "id": "4KCeMvUyb6pn"
      },
      "source": [
        "**Info Tabel products**"
      ]
    },
    {
      "cell_type": "code",
      "execution_count": 21,
      "metadata": {
        "colab": {
          "base_uri": "https://localhost:8080/",
          "height": 0
        },
        "id": "qnAFYzJCb-dO",
        "outputId": "de97755f-94aa-4db3-eded-61962fad22f8"
      },
      "outputs": [
        {
          "name": "stdout",
          "output_type": "stream",
          "text": [
            "\n",
            "---Info Tabel---\n",
            "\n",
            "<class 'pandas.core.frame.DataFrame'>\n",
            "RangeIndex: 32951 entries, 0 to 32950\n",
            "Data columns (total 9 columns):\n",
            " #   Column                      Non-Null Count  Dtype  \n",
            "---  ------                      --------------  -----  \n",
            " 0   product_id                  32951 non-null  object \n",
            " 1   product_category_name       32341 non-null  object \n",
            " 2   product_name_lenght         32341 non-null  float64\n",
            " 3   product_description_lenght  32341 non-null  float64\n",
            " 4   product_photos_qty          32341 non-null  float64\n",
            " 5   product_weight_g            32949 non-null  float64\n",
            " 6   product_length_cm           32949 non-null  float64\n",
            " 7   product_height_cm           32949 non-null  float64\n",
            " 8   product_width_cm            32949 non-null  float64\n",
            "dtypes: float64(7), object(2)\n",
            "memory usage: 2.3+ MB\n",
            "\n",
            "---Missing Value---\n",
            "\n",
            "product_id                      0\n",
            "product_category_name         610\n",
            "product_name_lenght           610\n",
            "product_description_lenght    610\n",
            "product_photos_qty            610\n",
            "product_weight_g                2\n",
            "product_length_cm               2\n",
            "product_height_cm               2\n",
            "product_width_cm                2\n",
            "dtype: int64\n",
            "\n",
            "---Duplikat---\n",
            "\n",
            "0\n",
            "\n",
            "---Deskripsi Tabel---\n",
            "\n",
            "       product_name_lenght  product_description_lenght  product_photos_qty  \\\n",
            "count         32341.000000                32341.000000        32341.000000   \n",
            "mean             48.476949                  771.495285            2.188986   \n",
            "std              10.245741                  635.115225            1.736766   \n",
            "min               5.000000                    4.000000            1.000000   \n",
            "25%              42.000000                  339.000000            1.000000   \n",
            "50%              51.000000                  595.000000            1.000000   \n",
            "75%              57.000000                  972.000000            3.000000   \n",
            "max              76.000000                 3992.000000           20.000000   \n",
            "\n",
            "       product_weight_g  product_length_cm  product_height_cm  \\\n",
            "count      32949.000000       32949.000000       32949.000000   \n",
            "mean        2276.472488          30.815078          16.937661   \n",
            "std         4282.038731          16.914458          13.637554   \n",
            "min            0.000000           7.000000           2.000000   \n",
            "25%          300.000000          18.000000           8.000000   \n",
            "50%          700.000000          25.000000          13.000000   \n",
            "75%         1900.000000          38.000000          21.000000   \n",
            "max        40425.000000         105.000000         105.000000   \n",
            "\n",
            "       product_width_cm  \n",
            "count      32949.000000  \n",
            "mean          23.196728  \n",
            "std           12.079047  \n",
            "min            6.000000  \n",
            "25%           15.000000  \n",
            "50%           20.000000  \n",
            "75%           30.000000  \n",
            "max          118.000000  \n"
          ]
        }
      ],
      "source": [
        "analyze_table(products_df)"
      ]
    },
    {
      "cell_type": "markdown",
      "metadata": {
        "id": "VuHrQ3ycfqG-"
      },
      "source": [
        "Tabel products memiliki missing values hampir di semua kolom kecuali product_id"
      ]
    },
    {
      "cell_type": "markdown",
      "metadata": {
        "id": "3trkPXXGYnnS"
      },
      "source": [
        "**Info Tabel sellers**"
      ]
    },
    {
      "cell_type": "code",
      "execution_count": 22,
      "metadata": {
        "colab": {
          "base_uri": "https://localhost:8080/",
          "height": 0
        },
        "id": "bOk87dEbYrNo",
        "outputId": "06b570ae-e0a9-433f-92ae-0cc21f66a270"
      },
      "outputs": [
        {
          "name": "stdout",
          "output_type": "stream",
          "text": [
            "\n",
            "---Info Tabel---\n",
            "\n",
            "<class 'pandas.core.frame.DataFrame'>\n",
            "RangeIndex: 3095 entries, 0 to 3094\n",
            "Data columns (total 4 columns):\n",
            " #   Column                  Non-Null Count  Dtype \n",
            "---  ------                  --------------  ----- \n",
            " 0   seller_id               3095 non-null   object\n",
            " 1   seller_zip_code_prefix  3095 non-null   int64 \n",
            " 2   seller_city             3095 non-null   object\n",
            " 3   seller_state            3095 non-null   object\n",
            "dtypes: int64(1), object(3)\n",
            "memory usage: 96.8+ KB\n",
            "\n",
            "---Missing Value---\n",
            "\n",
            "seller_id                 0\n",
            "seller_zip_code_prefix    0\n",
            "seller_city               0\n",
            "seller_state              0\n",
            "dtype: int64\n",
            "\n",
            "---Duplikat---\n",
            "\n",
            "0\n",
            "\n",
            "---Deskripsi Tabel---\n",
            "\n",
            "       seller_zip_code_prefix\n",
            "count             3095.000000\n",
            "mean             32291.059451\n",
            "std              32713.453830\n",
            "min               1001.000000\n",
            "25%               7093.500000\n",
            "50%              14940.000000\n",
            "75%              64552.500000\n",
            "max              99730.000000\n"
          ]
        }
      ],
      "source": [
        "analyze_table(sellers_df)"
      ]
    },
    {
      "cell_type": "markdown",
      "metadata": {
        "id": "b73L3IWl_8bN"
      },
      "source": [
        "**Insight:**\n",
        "\n",
        "Tabel orders memiliki missing value pada kolom :\n",
        "* order_approved_at\n",
        "* order_delivered_carrier_date\n",
        "* order_delivered_customer_date\n",
        "\n",
        "Tipe data pada kolom order_delivered_carrier_date, order_delivered_customer_date, dan order_estimated_delivery_date masih bertipe object"
      ]
    },
    {
      "cell_type": "markdown",
      "metadata": {
        "id": "XMSNfQn-AOl_"
      },
      "source": [
        "### Cleaning Data"
      ]
    },
    {
      "cell_type": "markdown",
      "metadata": {
        "id": "RNrRGAzalgAU"
      },
      "source": [
        "**Cleaning duplikasi data pada tabel geolocation **"
      ]
    },
    {
      "cell_type": "code",
      "execution_count": 23,
      "metadata": {
        "colab": {
          "base_uri": "https://localhost:8080/",
          "height": 0
        },
        "id": "ExdkGdQ_ZTe6",
        "outputId": "2fb1f514-f1cd-44b9-d547-408d051fb730"
      },
      "outputs": [
        {
          "data": {
            "text/plain": [
              "np.int64(0)"
            ]
          },
          "execution_count": 23,
          "metadata": {},
          "output_type": "execute_result"
        }
      ],
      "source": [
        "# Drop duplikat\n",
        "geolocation_df.drop_duplicates(inplace=True)\n",
        "\n",
        "geolocation_df.duplicated().sum()"
      ]
    },
    {
      "cell_type": "markdown",
      "metadata": {
        "id": "JBmBFhN2lk_c"
      },
      "source": [
        "**Cleaning data tabel order_items**"
      ]
    },
    {
      "cell_type": "code",
      "execution_count": 24,
      "metadata": {
        "colab": {
          "base_uri": "https://localhost:8080/",
          "height": 0
        },
        "id": "aABQtqmglnIV",
        "outputId": "37b56fcf-c3da-4a48-ebcd-efc16855d111"
      },
      "outputs": [
        {
          "name": "stdout",
          "output_type": "stream",
          "text": [
            "<class 'pandas.core.frame.DataFrame'>\n",
            "RangeIndex: 112650 entries, 0 to 112649\n",
            "Data columns (total 7 columns):\n",
            " #   Column               Non-Null Count   Dtype         \n",
            "---  ------               --------------   -----         \n",
            " 0   order_id             112650 non-null  object        \n",
            " 1   order_item_id        112650 non-null  int64         \n",
            " 2   product_id           112650 non-null  object        \n",
            " 3   seller_id            112650 non-null  object        \n",
            " 4   shipping_limit_date  112650 non-null  datetime64[ns]\n",
            " 5   price                112650 non-null  float64       \n",
            " 6   freight_value        112650 non-null  float64       \n",
            "dtypes: datetime64[ns](1), float64(2), int64(1), object(3)\n",
            "memory usage: 6.0+ MB\n"
          ]
        }
      ],
      "source": [
        "order_item_col=['shipping_limit_date']\n",
        "for col in order_item_col:\n",
        "    order_items_df[col]=pd.to_datetime(order_items_df[col])\n",
        "\n",
        "order_items_df.info()"
      ]
    },
    {
      "cell_type": "markdown",
      "metadata": {
        "id": "SbSVGatYq0f7"
      },
      "source": [
        "**Cleaning Data Tabel order_reviews**"
      ]
    },
    {
      "cell_type": "code",
      "execution_count": 25,
      "metadata": {
        "colab": {
          "base_uri": "https://localhost:8080/",
          "height": 241
        },
        "id": "LtI9FBbLq0FQ",
        "outputId": "08bd82fb-391d-4a57-eecd-bd9d5772298a"
      },
      "outputs": [
        {
          "data": {
            "text/plain": [
              "review_id                  0\n",
              "order_id                   0\n",
              "review_score               0\n",
              "review_creation_date       0\n",
              "review_answer_timestamp    0\n",
              "dtype: int64"
            ]
          },
          "execution_count": 25,
          "metadata": {},
          "output_type": "execute_result"
        }
      ],
      "source": [
        "drop_cols = ['review_comment_title', 'review_comment_message']\n",
        "order_reviews_df.drop(drop_cols, axis= 1, inplace= True)\n",
        "\n",
        "order_reviews_df.isna().sum()"
      ]
    },
    {
      "cell_type": "code",
      "execution_count": 26,
      "metadata": {
        "colab": {
          "base_uri": "https://localhost:8080/",
          "height": 0
        },
        "id": "4ChMmLeasWvd",
        "outputId": "21b7fc54-04f6-475e-9230-a84fd8a5621a"
      },
      "outputs": [
        {
          "name": "stdout",
          "output_type": "stream",
          "text": [
            "<class 'pandas.core.frame.DataFrame'>\n",
            "RangeIndex: 99224 entries, 0 to 99223\n",
            "Data columns (total 5 columns):\n",
            " #   Column                   Non-Null Count  Dtype         \n",
            "---  ------                   --------------  -----         \n",
            " 0   review_id                99224 non-null  object        \n",
            " 1   order_id                 99224 non-null  object        \n",
            " 2   review_score             99224 non-null  int64         \n",
            " 3   review_creation_date     99224 non-null  datetime64[ns]\n",
            " 4   review_answer_timestamp  99224 non-null  datetime64[ns]\n",
            "dtypes: datetime64[ns](2), int64(1), object(2)\n",
            "memory usage: 3.8+ MB\n"
          ]
        }
      ],
      "source": [
        "order_review_col=['review_creation_date','review_answer_timestamp']\n",
        "for col in order_review_col:\n",
        "    order_reviews_df[col]=pd.to_datetime(order_reviews_df[col])\n",
        "\n",
        "order_reviews_df.info()"
      ]
    },
    {
      "cell_type": "markdown",
      "metadata": {
        "id": "VbnsdsSiseyF"
      },
      "source": [
        "**Cleaning Data Tabel Orders**"
      ]
    },
    {
      "cell_type": "code",
      "execution_count": 27,
      "metadata": {
        "colab": {
          "base_uri": "https://localhost:8080/",
          "height": 0
        },
        "id": "3SxumGAGsjwi",
        "outputId": "343de5fb-14b4-4d8b-a25c-fbf36298f465"
      },
      "outputs": [
        {
          "name": "stdout",
          "output_type": "stream",
          "text": [
            "<class 'pandas.core.frame.DataFrame'>\n",
            "RangeIndex: 99441 entries, 0 to 99440\n",
            "Data columns (total 8 columns):\n",
            " #   Column                         Non-Null Count  Dtype         \n",
            "---  ------                         --------------  -----         \n",
            " 0   order_id                       99441 non-null  object        \n",
            " 1   customer_id                    99441 non-null  object        \n",
            " 2   order_status                   99441 non-null  object        \n",
            " 3   order_purchase_timestamp       99441 non-null  datetime64[ns]\n",
            " 4   order_approved_at              99281 non-null  datetime64[ns]\n",
            " 5   order_delivered_carrier_date   97658 non-null  datetime64[ns]\n",
            " 6   order_delivered_customer_date  96476 non-null  datetime64[ns]\n",
            " 7   order_estimated_delivery_date  99441 non-null  datetime64[ns]\n",
            "dtypes: datetime64[ns](5), object(3)\n",
            "memory usage: 6.1+ MB\n"
          ]
        }
      ],
      "source": [
        "orders_col=[\n",
        "    'order_purchase_timestamp',\n",
        "    'order_approved_at',\n",
        "    'order_delivered_carrier_date',\n",
        "    'order_delivered_customer_date',\n",
        "    'order_estimated_delivery_date'\n",
        "]\n",
        "for col in orders_col:\n",
        "    orders_df[col]=pd.to_datetime(orders_df[col])\n",
        "\n",
        "orders_df.info()"
      ]
    },
    {
      "cell_type": "markdown",
      "metadata": {
        "id": "cBwlap3Ixx_k"
      },
      "source": [
        "**Cleaning Data Tabel products**"
      ]
    },
    {
      "cell_type": "code",
      "execution_count": 28,
      "metadata": {
        "colab": {
          "base_uri": "https://localhost:8080/",
          "height": 0
        },
        "id": "6nJkB2fyx13g",
        "outputId": "aab15382-f9f2-4ef9-f63b-457a3e4d3a5e"
      },
      "outputs": [
        {
          "name": "stdout",
          "output_type": "stream",
          "text": [
            "<class 'pandas.core.frame.DataFrame'>\n",
            "RangeIndex: 32951 entries, 0 to 32950\n",
            "Data columns (total 9 columns):\n",
            " #   Column                      Non-Null Count  Dtype  \n",
            "---  ------                      --------------  -----  \n",
            " 0   product_id                  32951 non-null  object \n",
            " 1   product_category_name       32341 non-null  object \n",
            " 2   product_name_lenght         32341 non-null  float64\n",
            " 3   product_description_lenght  32341 non-null  float64\n",
            " 4   product_photos_qty          32341 non-null  float64\n",
            " 5   product_weight_g            32949 non-null  float64\n",
            " 6   product_length_cm           32949 non-null  float64\n",
            " 7   product_height_cm           32949 non-null  float64\n",
            " 8   product_width_cm            32949 non-null  float64\n",
            "dtypes: float64(7), object(2)\n",
            "memory usage: 2.3+ MB\n"
          ]
        }
      ],
      "source": [
        "# Melakukan drop kolom-kolom yang tidak dipakai di analisis data\n",
        "product_drop_cols = ['product_name_lenght',\n",
        "                     'product_description_lenght',\n",
        "                     'product_weight_g',\n",
        "                     'product_length_cm',\n",
        "                     'product_height_cm',\n",
        "                     'product_width_cm']\n",
        "\n",
        "# Check if columns exist before dropping\n",
        "existing_cols = [col for col in product_drop_cols if col in products_df.columns]\n",
        "\n",
        "# Drop only existing columns\n",
        "products_df.drop(existing_cols, axis=1)\n",
        "\n",
        "# Melakukan penggantian missing value pada kolom product_category_name dengan modus dan product_photos_qty dengan median\n",
        "products_df['product_category_name'].fillna(products_df['product_category_name'].mode()[0])\n",
        "products_df['product_photos_qty'].fillna(products_df['product_photos_qty'].median())\n",
        "\n",
        "products_df.info()"
      ]
    },
    {
      "cell_type": "markdown",
      "metadata": {
        "id": "LOrZvrBOAXjo"
      },
      "source": [
        "**Insight:**\n",
        "Terdapat missing value pada 2 kolom, yaitu: review_comment_title dan review_comment_message. Drop kolom akan dilakukan karena isi dari 2 kolom tersebut yang berupa text tidak akan digunakan dalam analisis data.\n"
      ]
    },
    {
      "cell_type": "markdown",
      "metadata": {
        "id": "7yMbqTxeAb6v"
      },
      "source": [
        "## Exploratory Data Analysis (EDA)"
      ]
    },
    {
      "cell_type": "code",
      "execution_count": 29,
      "metadata": {
        "colab": {
          "base_uri": "https://localhost:8080/",
          "height": 206
        },
        "id": "kasVgXeoAcxa",
        "outputId": "409d2159-74d9-46d5-9142-8e1135fd4ff5"
      },
      "outputs": [
        {
          "data": {
            "application/vnd.microsoft.datawrangler.viewer.v0+json": {
              "columns": [
                {
                  "name": "index",
                  "rawType": "int64",
                  "type": "integer"
                },
                {
                  "name": "customer_id",
                  "rawType": "object",
                  "type": "string"
                },
                {
                  "name": "customer_unique_id",
                  "rawType": "object",
                  "type": "string"
                },
                {
                  "name": "customer_zip_code_prefix",
                  "rawType": "int64",
                  "type": "integer"
                },
                {
                  "name": "customer_city",
                  "rawType": "object",
                  "type": "string"
                },
                {
                  "name": "customer_state",
                  "rawType": "object",
                  "type": "string"
                }
              ],
              "conversionMethod": "pd.DataFrame",
              "ref": "d76cc6a2-0ac9-4059-9200-ea9f8c4c92ad",
              "rows": [
                [
                  "67098",
                  "c7c1be68d17bb1a7cf04dd15fc4d9331",
                  "92e2600b1049f75778bc8dc7aababdf8",
                  "12241",
                  "sao jose dos campos",
                  "SP"
                ],
                [
                  "18356",
                  "bf654df65423a4716b8ecd654aa356e4",
                  "1852429a01e2dd12b065a0a2cacbe1bd",
                  "88780",
                  "imbituba",
                  "SC"
                ],
                [
                  "26382",
                  "c2c4da97389cc67625777ddca20faa00",
                  "0e1437d1433e8561302ceb1b3b8e3f4f",
                  "80250",
                  "curitiba",
                  "PR"
                ],
                [
                  "85247",
                  "2a417f0f0717eecc940b00012978be4e",
                  "56088651df42926f11ca58a83d36f906",
                  "9861",
                  "sao bernardo do campo",
                  "SP"
                ],
                [
                  "29297",
                  "217344c7c334e16c8e76551b4b240c1d",
                  "584455f2e1e703ad4ea6618f833ff1ac",
                  "86460",
                  "abatia",
                  "PR"
                ]
              ],
              "shape": {
                "columns": 5,
                "rows": 5
              }
            },
            "text/html": [
              "<div>\n",
              "<style scoped>\n",
              "    .dataframe tbody tr th:only-of-type {\n",
              "        vertical-align: middle;\n",
              "    }\n",
              "\n",
              "    .dataframe tbody tr th {\n",
              "        vertical-align: top;\n",
              "    }\n",
              "\n",
              "    .dataframe thead th {\n",
              "        text-align: right;\n",
              "    }\n",
              "</style>\n",
              "<table border=\"1\" class=\"dataframe\">\n",
              "  <thead>\n",
              "    <tr style=\"text-align: right;\">\n",
              "      <th></th>\n",
              "      <th>customer_id</th>\n",
              "      <th>customer_unique_id</th>\n",
              "      <th>customer_zip_code_prefix</th>\n",
              "      <th>customer_city</th>\n",
              "      <th>customer_state</th>\n",
              "    </tr>\n",
              "  </thead>\n",
              "  <tbody>\n",
              "    <tr>\n",
              "      <th>67098</th>\n",
              "      <td>c7c1be68d17bb1a7cf04dd15fc4d9331</td>\n",
              "      <td>92e2600b1049f75778bc8dc7aababdf8</td>\n",
              "      <td>12241</td>\n",
              "      <td>sao jose dos campos</td>\n",
              "      <td>SP</td>\n",
              "    </tr>\n",
              "    <tr>\n",
              "      <th>18356</th>\n",
              "      <td>bf654df65423a4716b8ecd654aa356e4</td>\n",
              "      <td>1852429a01e2dd12b065a0a2cacbe1bd</td>\n",
              "      <td>88780</td>\n",
              "      <td>imbituba</td>\n",
              "      <td>SC</td>\n",
              "    </tr>\n",
              "    <tr>\n",
              "      <th>26382</th>\n",
              "      <td>c2c4da97389cc67625777ddca20faa00</td>\n",
              "      <td>0e1437d1433e8561302ceb1b3b8e3f4f</td>\n",
              "      <td>80250</td>\n",
              "      <td>curitiba</td>\n",
              "      <td>PR</td>\n",
              "    </tr>\n",
              "    <tr>\n",
              "      <th>85247</th>\n",
              "      <td>2a417f0f0717eecc940b00012978be4e</td>\n",
              "      <td>56088651df42926f11ca58a83d36f906</td>\n",
              "      <td>9861</td>\n",
              "      <td>sao bernardo do campo</td>\n",
              "      <td>SP</td>\n",
              "    </tr>\n",
              "    <tr>\n",
              "      <th>29297</th>\n",
              "      <td>217344c7c334e16c8e76551b4b240c1d</td>\n",
              "      <td>584455f2e1e703ad4ea6618f833ff1ac</td>\n",
              "      <td>86460</td>\n",
              "      <td>abatia</td>\n",
              "      <td>PR</td>\n",
              "    </tr>\n",
              "  </tbody>\n",
              "</table>\n",
              "</div>"
            ],
            "text/plain": [
              "                            customer_id                customer_unique_id  \\\n",
              "67098  c7c1be68d17bb1a7cf04dd15fc4d9331  92e2600b1049f75778bc8dc7aababdf8   \n",
              "18356  bf654df65423a4716b8ecd654aa356e4  1852429a01e2dd12b065a0a2cacbe1bd   \n",
              "26382  c2c4da97389cc67625777ddca20faa00  0e1437d1433e8561302ceb1b3b8e3f4f   \n",
              "85247  2a417f0f0717eecc940b00012978be4e  56088651df42926f11ca58a83d36f906   \n",
              "29297  217344c7c334e16c8e76551b4b240c1d  584455f2e1e703ad4ea6618f833ff1ac   \n",
              "\n",
              "       customer_zip_code_prefix          customer_city customer_state  \n",
              "67098                     12241    sao jose dos campos             SP  \n",
              "18356                     88780               imbituba             SC  \n",
              "26382                     80250               curitiba             PR  \n",
              "85247                      9861  sao bernardo do campo             SP  \n",
              "29297                     86460                 abatia             PR  "
            ]
          },
          "execution_count": 29,
          "metadata": {},
          "output_type": "execute_result"
        }
      ],
      "source": [
        "customers_df.sample(5)"
      ]
    },
    {
      "cell_type": "code",
      "execution_count": 30,
      "metadata": {
        "colab": {
          "base_uri": "https://localhost:8080/",
          "height": 394
        },
        "id": "xI66bUixR0y3",
        "outputId": "d02cd9a7-c946-4ae4-ac8e-3a890abb6754"
      },
      "outputs": [
        {
          "data": {
            "application/vnd.microsoft.datawrangler.viewer.v0+json": {
              "columns": [
                {
                  "name": "index",
                  "rawType": "object",
                  "type": "string"
                },
                {
                  "name": "customer_id",
                  "rawType": "object",
                  "type": "unknown"
                },
                {
                  "name": "customer_unique_id",
                  "rawType": "object",
                  "type": "unknown"
                },
                {
                  "name": "customer_zip_code_prefix",
                  "rawType": "float64",
                  "type": "float"
                },
                {
                  "name": "customer_city",
                  "rawType": "object",
                  "type": "unknown"
                },
                {
                  "name": "customer_state",
                  "rawType": "object",
                  "type": "unknown"
                }
              ],
              "conversionMethod": "pd.DataFrame",
              "ref": "2bef4a18-a99d-4ec9-9927-056c18f88d37",
              "rows": [
                [
                  "count",
                  "99441",
                  "99441",
                  "99441.0",
                  "99441",
                  "99441"
                ],
                [
                  "unique",
                  "99441",
                  "96096",
                  null,
                  "4119",
                  "27"
                ],
                [
                  "top",
                  "274fa6071e5e17fe303b9748641082c8",
                  "8d50f5eadf50201ccdcedfb9e2ac8455",
                  null,
                  "sao paulo",
                  "SP"
                ],
                [
                  "freq",
                  "1",
                  "17",
                  null,
                  "15540",
                  "41746"
                ],
                [
                  "mean",
                  null,
                  null,
                  "35137.47458291851",
                  null,
                  null
                ],
                [
                  "std",
                  null,
                  null,
                  "29797.938996206118",
                  null,
                  null
                ],
                [
                  "min",
                  null,
                  null,
                  "1003.0",
                  null,
                  null
                ],
                [
                  "25%",
                  null,
                  null,
                  "11347.0",
                  null,
                  null
                ],
                [
                  "50%",
                  null,
                  null,
                  "24416.0",
                  null,
                  null
                ],
                [
                  "75%",
                  null,
                  null,
                  "58900.0",
                  null,
                  null
                ],
                [
                  "max",
                  null,
                  null,
                  "99990.0",
                  null,
                  null
                ]
              ],
              "shape": {
                "columns": 5,
                "rows": 11
              }
            },
            "text/html": [
              "<div>\n",
              "<style scoped>\n",
              "    .dataframe tbody tr th:only-of-type {\n",
              "        vertical-align: middle;\n",
              "    }\n",
              "\n",
              "    .dataframe tbody tr th {\n",
              "        vertical-align: top;\n",
              "    }\n",
              "\n",
              "    .dataframe thead th {\n",
              "        text-align: right;\n",
              "    }\n",
              "</style>\n",
              "<table border=\"1\" class=\"dataframe\">\n",
              "  <thead>\n",
              "    <tr style=\"text-align: right;\">\n",
              "      <th></th>\n",
              "      <th>customer_id</th>\n",
              "      <th>customer_unique_id</th>\n",
              "      <th>customer_zip_code_prefix</th>\n",
              "      <th>customer_city</th>\n",
              "      <th>customer_state</th>\n",
              "    </tr>\n",
              "  </thead>\n",
              "  <tbody>\n",
              "    <tr>\n",
              "      <th>count</th>\n",
              "      <td>99441</td>\n",
              "      <td>99441</td>\n",
              "      <td>99441.000000</td>\n",
              "      <td>99441</td>\n",
              "      <td>99441</td>\n",
              "    </tr>\n",
              "    <tr>\n",
              "      <th>unique</th>\n",
              "      <td>99441</td>\n",
              "      <td>96096</td>\n",
              "      <td>NaN</td>\n",
              "      <td>4119</td>\n",
              "      <td>27</td>\n",
              "    </tr>\n",
              "    <tr>\n",
              "      <th>top</th>\n",
              "      <td>274fa6071e5e17fe303b9748641082c8</td>\n",
              "      <td>8d50f5eadf50201ccdcedfb9e2ac8455</td>\n",
              "      <td>NaN</td>\n",
              "      <td>sao paulo</td>\n",
              "      <td>SP</td>\n",
              "    </tr>\n",
              "    <tr>\n",
              "      <th>freq</th>\n",
              "      <td>1</td>\n",
              "      <td>17</td>\n",
              "      <td>NaN</td>\n",
              "      <td>15540</td>\n",
              "      <td>41746</td>\n",
              "    </tr>\n",
              "    <tr>\n",
              "      <th>mean</th>\n",
              "      <td>NaN</td>\n",
              "      <td>NaN</td>\n",
              "      <td>35137.474583</td>\n",
              "      <td>NaN</td>\n",
              "      <td>NaN</td>\n",
              "    </tr>\n",
              "    <tr>\n",
              "      <th>std</th>\n",
              "      <td>NaN</td>\n",
              "      <td>NaN</td>\n",
              "      <td>29797.938996</td>\n",
              "      <td>NaN</td>\n",
              "      <td>NaN</td>\n",
              "    </tr>\n",
              "    <tr>\n",
              "      <th>min</th>\n",
              "      <td>NaN</td>\n",
              "      <td>NaN</td>\n",
              "      <td>1003.000000</td>\n",
              "      <td>NaN</td>\n",
              "      <td>NaN</td>\n",
              "    </tr>\n",
              "    <tr>\n",
              "      <th>25%</th>\n",
              "      <td>NaN</td>\n",
              "      <td>NaN</td>\n",
              "      <td>11347.000000</td>\n",
              "      <td>NaN</td>\n",
              "      <td>NaN</td>\n",
              "    </tr>\n",
              "    <tr>\n",
              "      <th>50%</th>\n",
              "      <td>NaN</td>\n",
              "      <td>NaN</td>\n",
              "      <td>24416.000000</td>\n",
              "      <td>NaN</td>\n",
              "      <td>NaN</td>\n",
              "    </tr>\n",
              "    <tr>\n",
              "      <th>75%</th>\n",
              "      <td>NaN</td>\n",
              "      <td>NaN</td>\n",
              "      <td>58900.000000</td>\n",
              "      <td>NaN</td>\n",
              "      <td>NaN</td>\n",
              "    </tr>\n",
              "    <tr>\n",
              "      <th>max</th>\n",
              "      <td>NaN</td>\n",
              "      <td>NaN</td>\n",
              "      <td>99990.000000</td>\n",
              "      <td>NaN</td>\n",
              "      <td>NaN</td>\n",
              "    </tr>\n",
              "  </tbody>\n",
              "</table>\n",
              "</div>"
            ],
            "text/plain": [
              "                             customer_id                customer_unique_id  \\\n",
              "count                              99441                             99441   \n",
              "unique                             99441                             96096   \n",
              "top     274fa6071e5e17fe303b9748641082c8  8d50f5eadf50201ccdcedfb9e2ac8455   \n",
              "freq                                   1                                17   \n",
              "mean                                 NaN                               NaN   \n",
              "std                                  NaN                               NaN   \n",
              "min                                  NaN                               NaN   \n",
              "25%                                  NaN                               NaN   \n",
              "50%                                  NaN                               NaN   \n",
              "75%                                  NaN                               NaN   \n",
              "max                                  NaN                               NaN   \n",
              "\n",
              "        customer_zip_code_prefix customer_city customer_state  \n",
              "count               99441.000000         99441          99441  \n",
              "unique                       NaN          4119             27  \n",
              "top                          NaN     sao paulo             SP  \n",
              "freq                         NaN         15540          41746  \n",
              "mean                35137.474583           NaN            NaN  \n",
              "std                 29797.938996           NaN            NaN  \n",
              "min                  1003.000000           NaN            NaN  \n",
              "25%                 11347.000000           NaN            NaN  \n",
              "50%                 24416.000000           NaN            NaN  \n",
              "75%                 58900.000000           NaN            NaN  \n",
              "max                 99990.000000           NaN            NaN  "
            ]
          },
          "execution_count": 30,
          "metadata": {},
          "output_type": "execute_result"
        }
      ],
      "source": [
        "customers_df.describe(include=\"all\")"
      ]
    },
    {
      "cell_type": "code",
      "execution_count": 31,
      "metadata": {
        "colab": {
          "base_uri": "https://localhost:8080/",
          "height": 489
        },
        "id": "UiNkwwHazsH0",
        "outputId": "46c87abb-9c6d-49f4-c803-631a9abfa72a"
      },
      "outputs": [
        {
          "data": {
            "text/plain": [
              "customer_city\n",
              "sao paulo         15540\n",
              "rio de janeiro     6882\n",
              "belo horizonte     2773\n",
              "brasilia           2131\n",
              "curitiba           1521\n",
              "                  ...  \n",
              "agisse                1\n",
              "vieiras               1\n",
              "bertopolis            1\n",
              "abadiania             1\n",
              "xexeu                 1\n",
              "Name: customer_id, Length: 4119, dtype: int64"
            ]
          },
          "execution_count": 31,
          "metadata": {},
          "output_type": "execute_result"
        }
      ],
      "source": [
        "customers_df.groupby(by=\"customer_city\").customer_id.nunique().sort_values(ascending=False)"
      ]
    },
    {
      "cell_type": "code",
      "execution_count": 32,
      "metadata": {
        "colab": {
          "base_uri": "https://localhost:8080/",
          "height": 962
        },
        "id": "Zdf_9mwSzvQW",
        "outputId": "b3d9308e-df8d-4f9e-e278-9002f5c7131a"
      },
      "outputs": [
        {
          "data": {
            "text/plain": [
              "customer_state\n",
              "SP    41746\n",
              "RJ    12852\n",
              "MG    11635\n",
              "RS     5466\n",
              "PR     5045\n",
              "SC     3637\n",
              "BA     3380\n",
              "DF     2140\n",
              "ES     2033\n",
              "GO     2020\n",
              "PE     1652\n",
              "CE     1336\n",
              "PA      975\n",
              "MT      907\n",
              "MA      747\n",
              "MS      715\n",
              "PB      536\n",
              "PI      495\n",
              "RN      485\n",
              "AL      413\n",
              "SE      350\n",
              "TO      280\n",
              "RO      253\n",
              "AM      148\n",
              "AC       81\n",
              "AP       68\n",
              "RR       46\n",
              "Name: customer_id, dtype: int64"
            ]
          },
          "execution_count": 32,
          "metadata": {},
          "output_type": "execute_result"
        }
      ],
      "source": [
        "customers_df.groupby(by=\"customer_state\").customer_id.nunique().sort_values(ascending=False)"
      ]
    },
    {
      "cell_type": "markdown",
      "metadata": {
        "id": "8Y4l2v2oz1-X"
      },
      "source": [
        "**Insight :** Diketahui bahwa customer terbanyak berasal dari Sao Paulo City dan Sao Paulo State"
      ]
    },
    {
      "cell_type": "markdown",
      "metadata": {
        "id": "0NCWUFfa0BkY"
      },
      "source": [
        "**Explore Tabel orders**"
      ]
    },
    {
      "cell_type": "code",
      "execution_count": 33,
      "metadata": {
        "colab": {
          "base_uri": "https://localhost:8080/",
          "height": 226
        },
        "id": "DXzJ28UL0EEO",
        "outputId": "3890fc1b-d3f4-4ef3-9c36-750df118c511"
      },
      "outputs": [
        {
          "data": {
            "application/vnd.microsoft.datawrangler.viewer.v0+json": {
              "columns": [
                {
                  "name": "index",
                  "rawType": "int64",
                  "type": "integer"
                },
                {
                  "name": "order_id",
                  "rawType": "object",
                  "type": "string"
                },
                {
                  "name": "customer_id",
                  "rawType": "object",
                  "type": "string"
                },
                {
                  "name": "order_status",
                  "rawType": "object",
                  "type": "string"
                },
                {
                  "name": "order_purchase_timestamp",
                  "rawType": "datetime64[ns]",
                  "type": "datetime"
                },
                {
                  "name": "order_approved_at",
                  "rawType": "datetime64[ns]",
                  "type": "datetime"
                },
                {
                  "name": "order_delivered_carrier_date",
                  "rawType": "datetime64[ns]",
                  "type": "datetime"
                },
                {
                  "name": "order_delivered_customer_date",
                  "rawType": "datetime64[ns]",
                  "type": "datetime"
                },
                {
                  "name": "order_estimated_delivery_date",
                  "rawType": "datetime64[ns]",
                  "type": "datetime"
                }
              ],
              "conversionMethod": "pd.DataFrame",
              "ref": "690cc3ef-100e-45df-9914-a4e293f26506",
              "rows": [
                [
                  "32219",
                  "f50f12991ec8bcff03994381dcf9ce08",
                  "92dc7fe11830de5c6159644a1b1d84ba",
                  "delivered",
                  "2017-12-19 20:52:25",
                  "2017-12-19 21:53:12",
                  "2017-12-22 16:37:23",
                  "2017-12-26 20:07:36",
                  "2018-01-08 00:00:00"
                ],
                [
                  "11073",
                  "7a18fea05bb2617bc74ee0bd1009c0c7",
                  "8a561b232448590a2c52fb35de87d5fd",
                  "delivered",
                  "2017-09-28 19:50:59",
                  "2017-09-28 20:07:09",
                  "2017-10-02 21:32:24",
                  "2017-10-10 17:47:41",
                  "2017-10-20 00:00:00"
                ],
                [
                  "34842",
                  "260da592a3c3072f2c3b9ddc840f8a63",
                  "66f3530251fb5d60d0122bb9ee1f82aa",
                  "delivered",
                  "2017-04-28 21:22:30",
                  "2017-04-28 21:35:13",
                  "2017-05-02 14:57:51",
                  "2017-05-05 15:06:41",
                  "2017-05-30 00:00:00"
                ],
                [
                  "62882",
                  "7581e8b8156b3dee7b8898cd0120ad19",
                  "75ab1671ae03662536b06efb3762bde3",
                  "delivered",
                  "2017-04-11 17:56:38",
                  "2017-04-11 18:10:25",
                  "2017-04-12 18:48:34",
                  "2017-04-17 19:04:51",
                  "2017-05-03 00:00:00"
                ],
                [
                  "45297",
                  "e6b2afa6b02c9f066002cfdab6d53080",
                  "2ad11417e4acb043f847ec065ded3e26",
                  "delivered",
                  "2017-09-21 21:34:48",
                  "2017-09-21 22:48:01",
                  "2017-09-22 18:52:35",
                  "2017-10-23 15:38:54",
                  "2017-10-26 00:00:00"
                ]
              ],
              "shape": {
                "columns": 8,
                "rows": 5
              }
            },
            "text/html": [
              "<div>\n",
              "<style scoped>\n",
              "    .dataframe tbody tr th:only-of-type {\n",
              "        vertical-align: middle;\n",
              "    }\n",
              "\n",
              "    .dataframe tbody tr th {\n",
              "        vertical-align: top;\n",
              "    }\n",
              "\n",
              "    .dataframe thead th {\n",
              "        text-align: right;\n",
              "    }\n",
              "</style>\n",
              "<table border=\"1\" class=\"dataframe\">\n",
              "  <thead>\n",
              "    <tr style=\"text-align: right;\">\n",
              "      <th></th>\n",
              "      <th>order_id</th>\n",
              "      <th>customer_id</th>\n",
              "      <th>order_status</th>\n",
              "      <th>order_purchase_timestamp</th>\n",
              "      <th>order_approved_at</th>\n",
              "      <th>order_delivered_carrier_date</th>\n",
              "      <th>order_delivered_customer_date</th>\n",
              "      <th>order_estimated_delivery_date</th>\n",
              "    </tr>\n",
              "  </thead>\n",
              "  <tbody>\n",
              "    <tr>\n",
              "      <th>32219</th>\n",
              "      <td>f50f12991ec8bcff03994381dcf9ce08</td>\n",
              "      <td>92dc7fe11830de5c6159644a1b1d84ba</td>\n",
              "      <td>delivered</td>\n",
              "      <td>2017-12-19 20:52:25</td>\n",
              "      <td>2017-12-19 21:53:12</td>\n",
              "      <td>2017-12-22 16:37:23</td>\n",
              "      <td>2017-12-26 20:07:36</td>\n",
              "      <td>2018-01-08</td>\n",
              "    </tr>\n",
              "    <tr>\n",
              "      <th>11073</th>\n",
              "      <td>7a18fea05bb2617bc74ee0bd1009c0c7</td>\n",
              "      <td>8a561b232448590a2c52fb35de87d5fd</td>\n",
              "      <td>delivered</td>\n",
              "      <td>2017-09-28 19:50:59</td>\n",
              "      <td>2017-09-28 20:07:09</td>\n",
              "      <td>2017-10-02 21:32:24</td>\n",
              "      <td>2017-10-10 17:47:41</td>\n",
              "      <td>2017-10-20</td>\n",
              "    </tr>\n",
              "    <tr>\n",
              "      <th>34842</th>\n",
              "      <td>260da592a3c3072f2c3b9ddc840f8a63</td>\n",
              "      <td>66f3530251fb5d60d0122bb9ee1f82aa</td>\n",
              "      <td>delivered</td>\n",
              "      <td>2017-04-28 21:22:30</td>\n",
              "      <td>2017-04-28 21:35:13</td>\n",
              "      <td>2017-05-02 14:57:51</td>\n",
              "      <td>2017-05-05 15:06:41</td>\n",
              "      <td>2017-05-30</td>\n",
              "    </tr>\n",
              "    <tr>\n",
              "      <th>62882</th>\n",
              "      <td>7581e8b8156b3dee7b8898cd0120ad19</td>\n",
              "      <td>75ab1671ae03662536b06efb3762bde3</td>\n",
              "      <td>delivered</td>\n",
              "      <td>2017-04-11 17:56:38</td>\n",
              "      <td>2017-04-11 18:10:25</td>\n",
              "      <td>2017-04-12 18:48:34</td>\n",
              "      <td>2017-04-17 19:04:51</td>\n",
              "      <td>2017-05-03</td>\n",
              "    </tr>\n",
              "    <tr>\n",
              "      <th>45297</th>\n",
              "      <td>e6b2afa6b02c9f066002cfdab6d53080</td>\n",
              "      <td>2ad11417e4acb043f847ec065ded3e26</td>\n",
              "      <td>delivered</td>\n",
              "      <td>2017-09-21 21:34:48</td>\n",
              "      <td>2017-09-21 22:48:01</td>\n",
              "      <td>2017-09-22 18:52:35</td>\n",
              "      <td>2017-10-23 15:38:54</td>\n",
              "      <td>2017-10-26</td>\n",
              "    </tr>\n",
              "  </tbody>\n",
              "</table>\n",
              "</div>"
            ],
            "text/plain": [
              "                               order_id                       customer_id  \\\n",
              "32219  f50f12991ec8bcff03994381dcf9ce08  92dc7fe11830de5c6159644a1b1d84ba   \n",
              "11073  7a18fea05bb2617bc74ee0bd1009c0c7  8a561b232448590a2c52fb35de87d5fd   \n",
              "34842  260da592a3c3072f2c3b9ddc840f8a63  66f3530251fb5d60d0122bb9ee1f82aa   \n",
              "62882  7581e8b8156b3dee7b8898cd0120ad19  75ab1671ae03662536b06efb3762bde3   \n",
              "45297  e6b2afa6b02c9f066002cfdab6d53080  2ad11417e4acb043f847ec065ded3e26   \n",
              "\n",
              "      order_status order_purchase_timestamp   order_approved_at  \\\n",
              "32219    delivered      2017-12-19 20:52:25 2017-12-19 21:53:12   \n",
              "11073    delivered      2017-09-28 19:50:59 2017-09-28 20:07:09   \n",
              "34842    delivered      2017-04-28 21:22:30 2017-04-28 21:35:13   \n",
              "62882    delivered      2017-04-11 17:56:38 2017-04-11 18:10:25   \n",
              "45297    delivered      2017-09-21 21:34:48 2017-09-21 22:48:01   \n",
              "\n",
              "      order_delivered_carrier_date order_delivered_customer_date  \\\n",
              "32219          2017-12-22 16:37:23           2017-12-26 20:07:36   \n",
              "11073          2017-10-02 21:32:24           2017-10-10 17:47:41   \n",
              "34842          2017-05-02 14:57:51           2017-05-05 15:06:41   \n",
              "62882          2017-04-12 18:48:34           2017-04-17 19:04:51   \n",
              "45297          2017-09-22 18:52:35           2017-10-23 15:38:54   \n",
              "\n",
              "      order_estimated_delivery_date  \n",
              "32219                    2018-01-08  \n",
              "11073                    2017-10-20  \n",
              "34842                    2017-05-30  \n",
              "62882                    2017-05-03  \n",
              "45297                    2017-10-26  "
            ]
          },
          "execution_count": 33,
          "metadata": {},
          "output_type": "execute_result"
        }
      ],
      "source": [
        "orders_df.sample(5)"
      ]
    },
    {
      "cell_type": "code",
      "execution_count": 34,
      "metadata": {
        "colab": {
          "base_uri": "https://localhost:8080/",
          "height": 226
        },
        "id": "7Ya5WMg10HK1",
        "outputId": "94ded4d7-ca43-4f27-df12-580ae67e41d7"
      },
      "outputs": [
        {
          "data": {
            "application/vnd.microsoft.datawrangler.viewer.v0+json": {
              "columns": [
                {
                  "name": "index",
                  "rawType": "int64",
                  "type": "integer"
                },
                {
                  "name": "order_id",
                  "rawType": "object",
                  "type": "string"
                },
                {
                  "name": "customer_id",
                  "rawType": "object",
                  "type": "string"
                },
                {
                  "name": "order_status",
                  "rawType": "object",
                  "type": "string"
                },
                {
                  "name": "order_purchase_timestamp",
                  "rawType": "datetime64[ns]",
                  "type": "datetime"
                },
                {
                  "name": "order_approved_at",
                  "rawType": "datetime64[ns]",
                  "type": "datetime"
                },
                {
                  "name": "order_delivered_carrier_date",
                  "rawType": "datetime64[ns]",
                  "type": "datetime"
                },
                {
                  "name": "order_delivered_customer_date",
                  "rawType": "datetime64[ns]",
                  "type": "datetime"
                },
                {
                  "name": "order_estimated_delivery_date",
                  "rawType": "datetime64[ns]",
                  "type": "datetime"
                },
                {
                  "name": "delivery_time",
                  "rawType": "float64",
                  "type": "float"
                }
              ],
              "conversionMethod": "pd.DataFrame",
              "ref": "b7f6f119-f5eb-4041-bb4d-678cff289ebf",
              "rows": [
                [
                  "62309",
                  "9a3682ac52b77c26f1d7a700b59ed9f7",
                  "f98e0cc32e5756e3862f4a9263807270",
                  "delivered",
                  "2018-07-17 17:11:48",
                  "2018-07-17 17:21:34",
                  "2018-07-23 14:28:00",
                  "2018-07-26 20:04:47",
                  "2018-08-17 00:00:00",
                  "3.0"
                ],
                [
                  "10227",
                  "cc56a1a4acaf02f1c4732ca37b83ca9c",
                  "84e85061282f013a94d02fd9341bf527",
                  "delivered",
                  "2018-05-30 14:53:39",
                  "2018-05-31 03:35:47",
                  "2018-06-04 14:50:00",
                  "2018-06-06 18:28:35",
                  "2018-06-28 00:00:00",
                  "2.0"
                ],
                [
                  "76378",
                  "8f743e79746b7603a908c7b536e4a14e",
                  "f6fd1a71023d22a9a49c52aaf3a904cb",
                  "delivered",
                  "2017-08-24 19:54:03",
                  "2017-08-25 15:15:15",
                  "2017-08-28 15:12:24",
                  "2017-08-31 20:33:14",
                  "2017-09-14 00:00:00",
                  "3.0"
                ],
                [
                  "12145",
                  "e21f1d324fae5b5f66b4f4347503fe40",
                  "2090ba0c4f3d786d822c4a4ceacea7f2",
                  "delivered",
                  "2018-04-30 08:42:58",
                  "2018-05-03 04:35:18",
                  "2018-05-03 12:36:00",
                  "2018-05-10 19:40:43",
                  "2018-05-29 00:00:00",
                  "7.0"
                ],
                [
                  "59430",
                  "7af70833de99c5d7aaa2e6b76f1cb21c",
                  "ac4ff3afd60f2218b814a3d29582f313",
                  "delivered",
                  "2018-06-12 14:29:38",
                  "2018-06-13 02:18:48",
                  "2018-06-13 15:15:00",
                  "2018-06-22 20:33:57",
                  "2018-07-12 00:00:00",
                  "9.0"
                ]
              ],
              "shape": {
                "columns": 9,
                "rows": 5
              }
            },
            "text/html": [
              "<div>\n",
              "<style scoped>\n",
              "    .dataframe tbody tr th:only-of-type {\n",
              "        vertical-align: middle;\n",
              "    }\n",
              "\n",
              "    .dataframe tbody tr th {\n",
              "        vertical-align: top;\n",
              "    }\n",
              "\n",
              "    .dataframe thead th {\n",
              "        text-align: right;\n",
              "    }\n",
              "</style>\n",
              "<table border=\"1\" class=\"dataframe\">\n",
              "  <thead>\n",
              "    <tr style=\"text-align: right;\">\n",
              "      <th></th>\n",
              "      <th>order_id</th>\n",
              "      <th>customer_id</th>\n",
              "      <th>order_status</th>\n",
              "      <th>order_purchase_timestamp</th>\n",
              "      <th>order_approved_at</th>\n",
              "      <th>order_delivered_carrier_date</th>\n",
              "      <th>order_delivered_customer_date</th>\n",
              "      <th>order_estimated_delivery_date</th>\n",
              "      <th>delivery_time</th>\n",
              "    </tr>\n",
              "  </thead>\n",
              "  <tbody>\n",
              "    <tr>\n",
              "      <th>62309</th>\n",
              "      <td>9a3682ac52b77c26f1d7a700b59ed9f7</td>\n",
              "      <td>f98e0cc32e5756e3862f4a9263807270</td>\n",
              "      <td>delivered</td>\n",
              "      <td>2018-07-17 17:11:48</td>\n",
              "      <td>2018-07-17 17:21:34</td>\n",
              "      <td>2018-07-23 14:28:00</td>\n",
              "      <td>2018-07-26 20:04:47</td>\n",
              "      <td>2018-08-17</td>\n",
              "      <td>3.0</td>\n",
              "    </tr>\n",
              "    <tr>\n",
              "      <th>10227</th>\n",
              "      <td>cc56a1a4acaf02f1c4732ca37b83ca9c</td>\n",
              "      <td>84e85061282f013a94d02fd9341bf527</td>\n",
              "      <td>delivered</td>\n",
              "      <td>2018-05-30 14:53:39</td>\n",
              "      <td>2018-05-31 03:35:47</td>\n",
              "      <td>2018-06-04 14:50:00</td>\n",
              "      <td>2018-06-06 18:28:35</td>\n",
              "      <td>2018-06-28</td>\n",
              "      <td>2.0</td>\n",
              "    </tr>\n",
              "    <tr>\n",
              "      <th>76378</th>\n",
              "      <td>8f743e79746b7603a908c7b536e4a14e</td>\n",
              "      <td>f6fd1a71023d22a9a49c52aaf3a904cb</td>\n",
              "      <td>delivered</td>\n",
              "      <td>2017-08-24 19:54:03</td>\n",
              "      <td>2017-08-25 15:15:15</td>\n",
              "      <td>2017-08-28 15:12:24</td>\n",
              "      <td>2017-08-31 20:33:14</td>\n",
              "      <td>2017-09-14</td>\n",
              "      <td>3.0</td>\n",
              "    </tr>\n",
              "    <tr>\n",
              "      <th>12145</th>\n",
              "      <td>e21f1d324fae5b5f66b4f4347503fe40</td>\n",
              "      <td>2090ba0c4f3d786d822c4a4ceacea7f2</td>\n",
              "      <td>delivered</td>\n",
              "      <td>2018-04-30 08:42:58</td>\n",
              "      <td>2018-05-03 04:35:18</td>\n",
              "      <td>2018-05-03 12:36:00</td>\n",
              "      <td>2018-05-10 19:40:43</td>\n",
              "      <td>2018-05-29</td>\n",
              "      <td>7.0</td>\n",
              "    </tr>\n",
              "    <tr>\n",
              "      <th>59430</th>\n",
              "      <td>7af70833de99c5d7aaa2e6b76f1cb21c</td>\n",
              "      <td>ac4ff3afd60f2218b814a3d29582f313</td>\n",
              "      <td>delivered</td>\n",
              "      <td>2018-06-12 14:29:38</td>\n",
              "      <td>2018-06-13 02:18:48</td>\n",
              "      <td>2018-06-13 15:15:00</td>\n",
              "      <td>2018-06-22 20:33:57</td>\n",
              "      <td>2018-07-12</td>\n",
              "      <td>9.0</td>\n",
              "    </tr>\n",
              "  </tbody>\n",
              "</table>\n",
              "</div>"
            ],
            "text/plain": [
              "                               order_id                       customer_id  \\\n",
              "62309  9a3682ac52b77c26f1d7a700b59ed9f7  f98e0cc32e5756e3862f4a9263807270   \n",
              "10227  cc56a1a4acaf02f1c4732ca37b83ca9c  84e85061282f013a94d02fd9341bf527   \n",
              "76378  8f743e79746b7603a908c7b536e4a14e  f6fd1a71023d22a9a49c52aaf3a904cb   \n",
              "12145  e21f1d324fae5b5f66b4f4347503fe40  2090ba0c4f3d786d822c4a4ceacea7f2   \n",
              "59430  7af70833de99c5d7aaa2e6b76f1cb21c  ac4ff3afd60f2218b814a3d29582f313   \n",
              "\n",
              "      order_status order_purchase_timestamp   order_approved_at  \\\n",
              "62309    delivered      2018-07-17 17:11:48 2018-07-17 17:21:34   \n",
              "10227    delivered      2018-05-30 14:53:39 2018-05-31 03:35:47   \n",
              "76378    delivered      2017-08-24 19:54:03 2017-08-25 15:15:15   \n",
              "12145    delivered      2018-04-30 08:42:58 2018-05-03 04:35:18   \n",
              "59430    delivered      2018-06-12 14:29:38 2018-06-13 02:18:48   \n",
              "\n",
              "      order_delivered_carrier_date order_delivered_customer_date  \\\n",
              "62309          2018-07-23 14:28:00           2018-07-26 20:04:47   \n",
              "10227          2018-06-04 14:50:00           2018-06-06 18:28:35   \n",
              "76378          2017-08-28 15:12:24           2017-08-31 20:33:14   \n",
              "12145          2018-05-03 12:36:00           2018-05-10 19:40:43   \n",
              "59430          2018-06-13 15:15:00           2018-06-22 20:33:57   \n",
              "\n",
              "      order_estimated_delivery_date  delivery_time  \n",
              "62309                    2018-08-17            3.0  \n",
              "10227                    2018-06-28            2.0  \n",
              "76378                    2017-09-14            3.0  \n",
              "12145                    2018-05-29            7.0  \n",
              "59430                    2018-07-12            9.0  "
            ]
          },
          "execution_count": 34,
          "metadata": {},
          "output_type": "execute_result"
        }
      ],
      "source": [
        "# Hitung Delivery Time\n",
        "delivery_time = orders_df[\"order_delivered_customer_date\"] - orders_df[\"order_delivered_carrier_date\"]\n",
        "delivery_time = delivery_time.apply(lambda x: x.total_seconds())\n",
        "orders_df[\"delivery_time\"] = round(delivery_time/86400)\n",
        "\n",
        "\n",
        "orders_df.sample(5)"
      ]
    },
    {
      "cell_type": "code",
      "execution_count": 35,
      "metadata": {
        "colab": {
          "base_uri": "https://localhost:8080/",
          "height": 431
        },
        "id": "HApWrCdk0i38",
        "outputId": "843bf2c0-fb67-4942-b7c8-1a47feb5e10b"
      },
      "outputs": [
        {
          "data": {
            "application/vnd.microsoft.datawrangler.viewer.v0+json": {
              "columns": [
                {
                  "name": "index",
                  "rawType": "object",
                  "type": "string"
                },
                {
                  "name": "order_id",
                  "rawType": "object",
                  "type": "unknown"
                },
                {
                  "name": "customer_id",
                  "rawType": "object",
                  "type": "unknown"
                },
                {
                  "name": "order_status",
                  "rawType": "object",
                  "type": "unknown"
                },
                {
                  "name": "order_purchase_timestamp",
                  "rawType": "object",
                  "type": "unknown"
                },
                {
                  "name": "order_approved_at",
                  "rawType": "object",
                  "type": "unknown"
                },
                {
                  "name": "order_delivered_carrier_date",
                  "rawType": "object",
                  "type": "unknown"
                },
                {
                  "name": "order_delivered_customer_date",
                  "rawType": "object",
                  "type": "unknown"
                },
                {
                  "name": "order_estimated_delivery_date",
                  "rawType": "object",
                  "type": "unknown"
                },
                {
                  "name": "delivery_time",
                  "rawType": "float64",
                  "type": "float"
                }
              ],
              "conversionMethod": "pd.DataFrame",
              "ref": "177d5721-dfaf-4543-aa06-4d61f021572c",
              "rows": [
                [
                  "count",
                  "99441",
                  "99441",
                  "99441",
                  "99441",
                  "99281",
                  "97658",
                  "96476",
                  "99441",
                  "96475.0"
                ],
                [
                  "unique",
                  "99441",
                  "99441",
                  "8",
                  null,
                  null,
                  null,
                  null,
                  null,
                  null
                ],
                [
                  "top",
                  "66dea50a8b16d9b4dee7af250b4be1a5",
                  "edb027a75a1449115f6b43211ae02a24",
                  "delivered",
                  null,
                  null,
                  null,
                  null,
                  null,
                  null
                ],
                [
                  "freq",
                  "1",
                  "1",
                  "96478",
                  null,
                  null,
                  null,
                  null,
                  null,
                  null
                ],
                [
                  "mean",
                  null,
                  null,
                  null,
                  "2017-12-31 08:43:12.776581120",
                  "2017-12-31 18:35:24.098800128",
                  "2018-01-04 21:49:48.138278656",
                  "2018-01-14 12:09:19.035542272",
                  "2018-01-24 03:08:37.730111232",
                  "9.292314071002851"
                ],
                [
                  "min",
                  null,
                  null,
                  null,
                  "2016-09-04 21:15:19",
                  "2016-09-15 12:16:38",
                  "2016-10-08 10:34:01",
                  "2016-10-11 13:46:32",
                  "2016-09-30 00:00:00",
                  "-16.0"
                ],
                [
                  "25%",
                  null,
                  null,
                  null,
                  "2017-09-12 14:46:19",
                  "2017-09-12 23:24:16",
                  "2017-09-15 22:28:50.249999872",
                  "2017-09-25 22:07:22.249999872",
                  "2017-10-03 00:00:00",
                  "4.0"
                ],
                [
                  "50%",
                  null,
                  null,
                  null,
                  "2018-01-18 23:04:36",
                  "2018-01-19 11:36:13",
                  "2018-01-24 16:10:58",
                  "2018-02-02 19:28:10.500000",
                  "2018-02-15 00:00:00",
                  "7.0"
                ],
                [
                  "75%",
                  null,
                  null,
                  null,
                  "2018-05-04 15:42:16",
                  "2018-05-04 20:35:10",
                  "2018-05-08 13:37:45",
                  "2018-05-15 22:48:52.249999872",
                  "2018-05-25 00:00:00",
                  "12.0"
                ],
                [
                  "max",
                  null,
                  null,
                  null,
                  "2018-10-17 17:30:18",
                  "2018-09-03 17:40:06",
                  "2018-09-11 19:48:28",
                  "2018-10-17 13:22:46",
                  "2018-11-12 00:00:00",
                  "205.0"
                ],
                [
                  "std",
                  null,
                  null,
                  null,
                  null,
                  null,
                  null,
                  null,
                  null,
                  "8.776670813342957"
                ]
              ],
              "shape": {
                "columns": 9,
                "rows": 11
              }
            },
            "text/html": [
              "<div>\n",
              "<style scoped>\n",
              "    .dataframe tbody tr th:only-of-type {\n",
              "        vertical-align: middle;\n",
              "    }\n",
              "\n",
              "    .dataframe tbody tr th {\n",
              "        vertical-align: top;\n",
              "    }\n",
              "\n",
              "    .dataframe thead th {\n",
              "        text-align: right;\n",
              "    }\n",
              "</style>\n",
              "<table border=\"1\" class=\"dataframe\">\n",
              "  <thead>\n",
              "    <tr style=\"text-align: right;\">\n",
              "      <th></th>\n",
              "      <th>order_id</th>\n",
              "      <th>customer_id</th>\n",
              "      <th>order_status</th>\n",
              "      <th>order_purchase_timestamp</th>\n",
              "      <th>order_approved_at</th>\n",
              "      <th>order_delivered_carrier_date</th>\n",
              "      <th>order_delivered_customer_date</th>\n",
              "      <th>order_estimated_delivery_date</th>\n",
              "      <th>delivery_time</th>\n",
              "    </tr>\n",
              "  </thead>\n",
              "  <tbody>\n",
              "    <tr>\n",
              "      <th>count</th>\n",
              "      <td>99441</td>\n",
              "      <td>99441</td>\n",
              "      <td>99441</td>\n",
              "      <td>99441</td>\n",
              "      <td>99281</td>\n",
              "      <td>97658</td>\n",
              "      <td>96476</td>\n",
              "      <td>99441</td>\n",
              "      <td>96475.000000</td>\n",
              "    </tr>\n",
              "    <tr>\n",
              "      <th>unique</th>\n",
              "      <td>99441</td>\n",
              "      <td>99441</td>\n",
              "      <td>8</td>\n",
              "      <td>NaN</td>\n",
              "      <td>NaN</td>\n",
              "      <td>NaN</td>\n",
              "      <td>NaN</td>\n",
              "      <td>NaN</td>\n",
              "      <td>NaN</td>\n",
              "    </tr>\n",
              "    <tr>\n",
              "      <th>top</th>\n",
              "      <td>66dea50a8b16d9b4dee7af250b4be1a5</td>\n",
              "      <td>edb027a75a1449115f6b43211ae02a24</td>\n",
              "      <td>delivered</td>\n",
              "      <td>NaN</td>\n",
              "      <td>NaN</td>\n",
              "      <td>NaN</td>\n",
              "      <td>NaN</td>\n",
              "      <td>NaN</td>\n",
              "      <td>NaN</td>\n",
              "    </tr>\n",
              "    <tr>\n",
              "      <th>freq</th>\n",
              "      <td>1</td>\n",
              "      <td>1</td>\n",
              "      <td>96478</td>\n",
              "      <td>NaN</td>\n",
              "      <td>NaN</td>\n",
              "      <td>NaN</td>\n",
              "      <td>NaN</td>\n",
              "      <td>NaN</td>\n",
              "      <td>NaN</td>\n",
              "    </tr>\n",
              "    <tr>\n",
              "      <th>mean</th>\n",
              "      <td>NaN</td>\n",
              "      <td>NaN</td>\n",
              "      <td>NaN</td>\n",
              "      <td>2017-12-31 08:43:12.776581120</td>\n",
              "      <td>2017-12-31 18:35:24.098800128</td>\n",
              "      <td>2018-01-04 21:49:48.138278656</td>\n",
              "      <td>2018-01-14 12:09:19.035542272</td>\n",
              "      <td>2018-01-24 03:08:37.730111232</td>\n",
              "      <td>9.292314</td>\n",
              "    </tr>\n",
              "    <tr>\n",
              "      <th>min</th>\n",
              "      <td>NaN</td>\n",
              "      <td>NaN</td>\n",
              "      <td>NaN</td>\n",
              "      <td>2016-09-04 21:15:19</td>\n",
              "      <td>2016-09-15 12:16:38</td>\n",
              "      <td>2016-10-08 10:34:01</td>\n",
              "      <td>2016-10-11 13:46:32</td>\n",
              "      <td>2016-09-30 00:00:00</td>\n",
              "      <td>-16.000000</td>\n",
              "    </tr>\n",
              "    <tr>\n",
              "      <th>25%</th>\n",
              "      <td>NaN</td>\n",
              "      <td>NaN</td>\n",
              "      <td>NaN</td>\n",
              "      <td>2017-09-12 14:46:19</td>\n",
              "      <td>2017-09-12 23:24:16</td>\n",
              "      <td>2017-09-15 22:28:50.249999872</td>\n",
              "      <td>2017-09-25 22:07:22.249999872</td>\n",
              "      <td>2017-10-03 00:00:00</td>\n",
              "      <td>4.000000</td>\n",
              "    </tr>\n",
              "    <tr>\n",
              "      <th>50%</th>\n",
              "      <td>NaN</td>\n",
              "      <td>NaN</td>\n",
              "      <td>NaN</td>\n",
              "      <td>2018-01-18 23:04:36</td>\n",
              "      <td>2018-01-19 11:36:13</td>\n",
              "      <td>2018-01-24 16:10:58</td>\n",
              "      <td>2018-02-02 19:28:10.500000</td>\n",
              "      <td>2018-02-15 00:00:00</td>\n",
              "      <td>7.000000</td>\n",
              "    </tr>\n",
              "    <tr>\n",
              "      <th>75%</th>\n",
              "      <td>NaN</td>\n",
              "      <td>NaN</td>\n",
              "      <td>NaN</td>\n",
              "      <td>2018-05-04 15:42:16</td>\n",
              "      <td>2018-05-04 20:35:10</td>\n",
              "      <td>2018-05-08 13:37:45</td>\n",
              "      <td>2018-05-15 22:48:52.249999872</td>\n",
              "      <td>2018-05-25 00:00:00</td>\n",
              "      <td>12.000000</td>\n",
              "    </tr>\n",
              "    <tr>\n",
              "      <th>max</th>\n",
              "      <td>NaN</td>\n",
              "      <td>NaN</td>\n",
              "      <td>NaN</td>\n",
              "      <td>2018-10-17 17:30:18</td>\n",
              "      <td>2018-09-03 17:40:06</td>\n",
              "      <td>2018-09-11 19:48:28</td>\n",
              "      <td>2018-10-17 13:22:46</td>\n",
              "      <td>2018-11-12 00:00:00</td>\n",
              "      <td>205.000000</td>\n",
              "    </tr>\n",
              "    <tr>\n",
              "      <th>std</th>\n",
              "      <td>NaN</td>\n",
              "      <td>NaN</td>\n",
              "      <td>NaN</td>\n",
              "      <td>NaN</td>\n",
              "      <td>NaN</td>\n",
              "      <td>NaN</td>\n",
              "      <td>NaN</td>\n",
              "      <td>NaN</td>\n",
              "      <td>8.776671</td>\n",
              "    </tr>\n",
              "  </tbody>\n",
              "</table>\n",
              "</div>"
            ],
            "text/plain": [
              "                                order_id                       customer_id  \\\n",
              "count                              99441                             99441   \n",
              "unique                             99441                             99441   \n",
              "top     66dea50a8b16d9b4dee7af250b4be1a5  edb027a75a1449115f6b43211ae02a24   \n",
              "freq                                   1                                 1   \n",
              "mean                                 NaN                               NaN   \n",
              "min                                  NaN                               NaN   \n",
              "25%                                  NaN                               NaN   \n",
              "50%                                  NaN                               NaN   \n",
              "75%                                  NaN                               NaN   \n",
              "max                                  NaN                               NaN   \n",
              "std                                  NaN                               NaN   \n",
              "\n",
              "       order_status       order_purchase_timestamp  \\\n",
              "count         99441                          99441   \n",
              "unique            8                            NaN   \n",
              "top       delivered                            NaN   \n",
              "freq          96478                            NaN   \n",
              "mean            NaN  2017-12-31 08:43:12.776581120   \n",
              "min             NaN            2016-09-04 21:15:19   \n",
              "25%             NaN            2017-09-12 14:46:19   \n",
              "50%             NaN            2018-01-18 23:04:36   \n",
              "75%             NaN            2018-05-04 15:42:16   \n",
              "max             NaN            2018-10-17 17:30:18   \n",
              "std             NaN                            NaN   \n",
              "\n",
              "                    order_approved_at   order_delivered_carrier_date  \\\n",
              "count                           99281                          97658   \n",
              "unique                            NaN                            NaN   \n",
              "top                               NaN                            NaN   \n",
              "freq                              NaN                            NaN   \n",
              "mean    2017-12-31 18:35:24.098800128  2018-01-04 21:49:48.138278656   \n",
              "min               2016-09-15 12:16:38            2016-10-08 10:34:01   \n",
              "25%               2017-09-12 23:24:16  2017-09-15 22:28:50.249999872   \n",
              "50%               2018-01-19 11:36:13            2018-01-24 16:10:58   \n",
              "75%               2018-05-04 20:35:10            2018-05-08 13:37:45   \n",
              "max               2018-09-03 17:40:06            2018-09-11 19:48:28   \n",
              "std                               NaN                            NaN   \n",
              "\n",
              "        order_delivered_customer_date  order_estimated_delivery_date  \\\n",
              "count                           96476                          99441   \n",
              "unique                            NaN                            NaN   \n",
              "top                               NaN                            NaN   \n",
              "freq                              NaN                            NaN   \n",
              "mean    2018-01-14 12:09:19.035542272  2018-01-24 03:08:37.730111232   \n",
              "min               2016-10-11 13:46:32            2016-09-30 00:00:00   \n",
              "25%     2017-09-25 22:07:22.249999872            2017-10-03 00:00:00   \n",
              "50%        2018-02-02 19:28:10.500000            2018-02-15 00:00:00   \n",
              "75%     2018-05-15 22:48:52.249999872            2018-05-25 00:00:00   \n",
              "max               2018-10-17 13:22:46            2018-11-12 00:00:00   \n",
              "std                               NaN                            NaN   \n",
              "\n",
              "        delivery_time  \n",
              "count    96475.000000  \n",
              "unique            NaN  \n",
              "top               NaN  \n",
              "freq              NaN  \n",
              "mean         9.292314  \n",
              "min        -16.000000  \n",
              "25%          4.000000  \n",
              "50%          7.000000  \n",
              "75%         12.000000  \n",
              "max        205.000000  \n",
              "std          8.776671  "
            ]
          },
          "execution_count": 35,
          "metadata": {},
          "output_type": "execute_result"
        }
      ],
      "source": [
        "orders_df.describe(include=\"all\")"
      ]
    },
    {
      "cell_type": "markdown",
      "metadata": {
        "id": "0Ilnt_9O087d"
      },
      "source": [
        "**Explore customers_df dan orders_df**"
      ]
    },
    {
      "cell_type": "code",
      "execution_count": 36,
      "metadata": {
        "colab": {
          "base_uri": "https://localhost:8080/",
          "height": 261
        },
        "id": "3MbqzkcL0_f2",
        "outputId": "a2581679-2381-4407-8757-3588245a95dd"
      },
      "outputs": [
        {
          "data": {
            "application/vnd.microsoft.datawrangler.viewer.v0+json": {
              "columns": [
                {
                  "name": "index",
                  "rawType": "int64",
                  "type": "integer"
                },
                {
                  "name": "customer_id",
                  "rawType": "object",
                  "type": "string"
                },
                {
                  "name": "customer_unique_id",
                  "rawType": "object",
                  "type": "string"
                },
                {
                  "name": "customer_zip_code_prefix",
                  "rawType": "int64",
                  "type": "integer"
                },
                {
                  "name": "customer_city",
                  "rawType": "object",
                  "type": "string"
                },
                {
                  "name": "customer_state",
                  "rawType": "object",
                  "type": "string"
                },
                {
                  "name": "order_id",
                  "rawType": "object",
                  "type": "string"
                },
                {
                  "name": "order_status",
                  "rawType": "object",
                  "type": "string"
                },
                {
                  "name": "order_purchase_timestamp",
                  "rawType": "datetime64[ns]",
                  "type": "datetime"
                },
                {
                  "name": "order_approved_at",
                  "rawType": "datetime64[ns]",
                  "type": "datetime"
                },
                {
                  "name": "order_delivered_carrier_date",
                  "rawType": "datetime64[ns]",
                  "type": "datetime"
                },
                {
                  "name": "order_delivered_customer_date",
                  "rawType": "datetime64[ns]",
                  "type": "datetime"
                },
                {
                  "name": "order_estimated_delivery_date",
                  "rawType": "datetime64[ns]",
                  "type": "datetime"
                },
                {
                  "name": "delivery_time",
                  "rawType": "float64",
                  "type": "float"
                }
              ],
              "conversionMethod": "pd.DataFrame",
              "ref": "34473e4b-1e7a-4807-a46b-fa0b71165300",
              "rows": [
                [
                  "0",
                  "06b8999e2fba1a1fbc88172c00ba8bc7",
                  "861eff4711a542e4b93843c6dd7febb0",
                  "14409",
                  "franca",
                  "SP",
                  "00e7ee1b050b8499577073aeb2a297a1",
                  "delivered",
                  "2017-05-16 15:05:35",
                  "2017-05-16 15:22:12",
                  "2017-05-23 10:47:57",
                  "2017-05-25 10:35:35",
                  "2017-06-05 00:00:00",
                  "2.0"
                ],
                [
                  "1",
                  "18955e83d337fd6b2def6b18a428ac77",
                  "290c77bc529b7ac935b93aa66c333dc3",
                  "9790",
                  "sao bernardo do campo",
                  "SP",
                  "29150127e6685892b6eab3eec79f59c7",
                  "delivered",
                  "2018-01-12 20:48:24",
                  "2018-01-12 20:58:32",
                  "2018-01-15 17:14:59",
                  "2018-01-29 12:41:19",
                  "2018-02-06 00:00:00",
                  "14.0"
                ],
                [
                  "2",
                  "4e7b3e00288586ebd08712fdd0374a03",
                  "060e732b5b29e8181a18229c7b0b2b5e",
                  "1151",
                  "sao paulo",
                  "SP",
                  "b2059ed67ce144a36e2aa97d2c9e9ad2",
                  "delivered",
                  "2018-05-19 16:07:45",
                  "2018-05-20 16:19:10",
                  "2018-06-11 14:31:00",
                  "2018-06-14 17:58:51",
                  "2018-06-13 00:00:00",
                  "3.0"
                ],
                [
                  "3",
                  "b2b6027bc5c5109e529d4dc6358b12c3",
                  "259dac757896d24d7702b9acbbff3f3c",
                  "8775",
                  "mogi das cruzes",
                  "SP",
                  "951670f92359f4fe4a63112aa7306eba",
                  "delivered",
                  "2018-03-13 16:06:38",
                  "2018-03-13 17:29:19",
                  "2018-03-27 23:22:42",
                  "2018-03-28 16:04:25",
                  "2018-04-10 00:00:00",
                  "1.0"
                ],
                [
                  "4",
                  "4f2d8ab171c80ec8364f7c12e35b23ad",
                  "345ecd01c38d18a9036ed96c73b8d066",
                  "13056",
                  "campinas",
                  "SP",
                  "6b7d50bd145f6fc7f33cebabd7e49d0f",
                  "delivered",
                  "2018-07-29 09:51:30",
                  "2018-07-29 10:10:09",
                  "2018-07-30 15:16:00",
                  "2018-08-09 20:55:48",
                  "2018-08-15 00:00:00",
                  "10.0"
                ]
              ],
              "shape": {
                "columns": 13,
                "rows": 5
              }
            },
            "text/html": [
              "<div>\n",
              "<style scoped>\n",
              "    .dataframe tbody tr th:only-of-type {\n",
              "        vertical-align: middle;\n",
              "    }\n",
              "\n",
              "    .dataframe tbody tr th {\n",
              "        vertical-align: top;\n",
              "    }\n",
              "\n",
              "    .dataframe thead th {\n",
              "        text-align: right;\n",
              "    }\n",
              "</style>\n",
              "<table border=\"1\" class=\"dataframe\">\n",
              "  <thead>\n",
              "    <tr style=\"text-align: right;\">\n",
              "      <th></th>\n",
              "      <th>customer_id</th>\n",
              "      <th>customer_unique_id</th>\n",
              "      <th>customer_zip_code_prefix</th>\n",
              "      <th>customer_city</th>\n",
              "      <th>customer_state</th>\n",
              "      <th>order_id</th>\n",
              "      <th>order_status</th>\n",
              "      <th>order_purchase_timestamp</th>\n",
              "      <th>order_approved_at</th>\n",
              "      <th>order_delivered_carrier_date</th>\n",
              "      <th>order_delivered_customer_date</th>\n",
              "      <th>order_estimated_delivery_date</th>\n",
              "      <th>delivery_time</th>\n",
              "    </tr>\n",
              "  </thead>\n",
              "  <tbody>\n",
              "    <tr>\n",
              "      <th>0</th>\n",
              "      <td>06b8999e2fba1a1fbc88172c00ba8bc7</td>\n",
              "      <td>861eff4711a542e4b93843c6dd7febb0</td>\n",
              "      <td>14409</td>\n",
              "      <td>franca</td>\n",
              "      <td>SP</td>\n",
              "      <td>00e7ee1b050b8499577073aeb2a297a1</td>\n",
              "      <td>delivered</td>\n",
              "      <td>2017-05-16 15:05:35</td>\n",
              "      <td>2017-05-16 15:22:12</td>\n",
              "      <td>2017-05-23 10:47:57</td>\n",
              "      <td>2017-05-25 10:35:35</td>\n",
              "      <td>2017-06-05</td>\n",
              "      <td>2.0</td>\n",
              "    </tr>\n",
              "    <tr>\n",
              "      <th>1</th>\n",
              "      <td>18955e83d337fd6b2def6b18a428ac77</td>\n",
              "      <td>290c77bc529b7ac935b93aa66c333dc3</td>\n",
              "      <td>9790</td>\n",
              "      <td>sao bernardo do campo</td>\n",
              "      <td>SP</td>\n",
              "      <td>29150127e6685892b6eab3eec79f59c7</td>\n",
              "      <td>delivered</td>\n",
              "      <td>2018-01-12 20:48:24</td>\n",
              "      <td>2018-01-12 20:58:32</td>\n",
              "      <td>2018-01-15 17:14:59</td>\n",
              "      <td>2018-01-29 12:41:19</td>\n",
              "      <td>2018-02-06</td>\n",
              "      <td>14.0</td>\n",
              "    </tr>\n",
              "    <tr>\n",
              "      <th>2</th>\n",
              "      <td>4e7b3e00288586ebd08712fdd0374a03</td>\n",
              "      <td>060e732b5b29e8181a18229c7b0b2b5e</td>\n",
              "      <td>1151</td>\n",
              "      <td>sao paulo</td>\n",
              "      <td>SP</td>\n",
              "      <td>b2059ed67ce144a36e2aa97d2c9e9ad2</td>\n",
              "      <td>delivered</td>\n",
              "      <td>2018-05-19 16:07:45</td>\n",
              "      <td>2018-05-20 16:19:10</td>\n",
              "      <td>2018-06-11 14:31:00</td>\n",
              "      <td>2018-06-14 17:58:51</td>\n",
              "      <td>2018-06-13</td>\n",
              "      <td>3.0</td>\n",
              "    </tr>\n",
              "    <tr>\n",
              "      <th>3</th>\n",
              "      <td>b2b6027bc5c5109e529d4dc6358b12c3</td>\n",
              "      <td>259dac757896d24d7702b9acbbff3f3c</td>\n",
              "      <td>8775</td>\n",
              "      <td>mogi das cruzes</td>\n",
              "      <td>SP</td>\n",
              "      <td>951670f92359f4fe4a63112aa7306eba</td>\n",
              "      <td>delivered</td>\n",
              "      <td>2018-03-13 16:06:38</td>\n",
              "      <td>2018-03-13 17:29:19</td>\n",
              "      <td>2018-03-27 23:22:42</td>\n",
              "      <td>2018-03-28 16:04:25</td>\n",
              "      <td>2018-04-10</td>\n",
              "      <td>1.0</td>\n",
              "    </tr>\n",
              "    <tr>\n",
              "      <th>4</th>\n",
              "      <td>4f2d8ab171c80ec8364f7c12e35b23ad</td>\n",
              "      <td>345ecd01c38d18a9036ed96c73b8d066</td>\n",
              "      <td>13056</td>\n",
              "      <td>campinas</td>\n",
              "      <td>SP</td>\n",
              "      <td>6b7d50bd145f6fc7f33cebabd7e49d0f</td>\n",
              "      <td>delivered</td>\n",
              "      <td>2018-07-29 09:51:30</td>\n",
              "      <td>2018-07-29 10:10:09</td>\n",
              "      <td>2018-07-30 15:16:00</td>\n",
              "      <td>2018-08-09 20:55:48</td>\n",
              "      <td>2018-08-15</td>\n",
              "      <td>10.0</td>\n",
              "    </tr>\n",
              "  </tbody>\n",
              "</table>\n",
              "</div>"
            ],
            "text/plain": [
              "                        customer_id                customer_unique_id  \\\n",
              "0  06b8999e2fba1a1fbc88172c00ba8bc7  861eff4711a542e4b93843c6dd7febb0   \n",
              "1  18955e83d337fd6b2def6b18a428ac77  290c77bc529b7ac935b93aa66c333dc3   \n",
              "2  4e7b3e00288586ebd08712fdd0374a03  060e732b5b29e8181a18229c7b0b2b5e   \n",
              "3  b2b6027bc5c5109e529d4dc6358b12c3  259dac757896d24d7702b9acbbff3f3c   \n",
              "4  4f2d8ab171c80ec8364f7c12e35b23ad  345ecd01c38d18a9036ed96c73b8d066   \n",
              "\n",
              "   customer_zip_code_prefix          customer_city customer_state  \\\n",
              "0                     14409                 franca             SP   \n",
              "1                      9790  sao bernardo do campo             SP   \n",
              "2                      1151              sao paulo             SP   \n",
              "3                      8775        mogi das cruzes             SP   \n",
              "4                     13056               campinas             SP   \n",
              "\n",
              "                           order_id order_status order_purchase_timestamp  \\\n",
              "0  00e7ee1b050b8499577073aeb2a297a1    delivered      2017-05-16 15:05:35   \n",
              "1  29150127e6685892b6eab3eec79f59c7    delivered      2018-01-12 20:48:24   \n",
              "2  b2059ed67ce144a36e2aa97d2c9e9ad2    delivered      2018-05-19 16:07:45   \n",
              "3  951670f92359f4fe4a63112aa7306eba    delivered      2018-03-13 16:06:38   \n",
              "4  6b7d50bd145f6fc7f33cebabd7e49d0f    delivered      2018-07-29 09:51:30   \n",
              "\n",
              "    order_approved_at order_delivered_carrier_date  \\\n",
              "0 2017-05-16 15:22:12          2017-05-23 10:47:57   \n",
              "1 2018-01-12 20:58:32          2018-01-15 17:14:59   \n",
              "2 2018-05-20 16:19:10          2018-06-11 14:31:00   \n",
              "3 2018-03-13 17:29:19          2018-03-27 23:22:42   \n",
              "4 2018-07-29 10:10:09          2018-07-30 15:16:00   \n",
              "\n",
              "  order_delivered_customer_date order_estimated_delivery_date  delivery_time  \n",
              "0           2017-05-25 10:35:35                    2017-06-05            2.0  \n",
              "1           2018-01-29 12:41:19                    2018-02-06           14.0  \n",
              "2           2018-06-14 17:58:51                    2018-06-13            3.0  \n",
              "3           2018-03-28 16:04:25                    2018-04-10            1.0  \n",
              "4           2018-08-09 20:55:48                    2018-08-15           10.0  "
            ]
          },
          "execution_count": 36,
          "metadata": {},
          "output_type": "execute_result"
        }
      ],
      "source": [
        "# Merge customers_df dan orders_df\n",
        "customer_orders_df = pd.merge(\n",
        "    left=customers_df,\n",
        "    right=orders_df,\n",
        "    how=\"left\",\n",
        "    left_on=\"customer_id\",\n",
        "    right_on=\"customer_id\"\n",
        ")\n",
        "customer_orders_df.head()"
      ]
    },
    {
      "cell_type": "markdown",
      "metadata": {
        "id": "HuEbzL4g1E21"
      },
      "source": [
        "**Explore order_payment dan order_reviews**"
      ]
    },
    {
      "cell_type": "code",
      "execution_count": 37,
      "metadata": {
        "colab": {
          "base_uri": "https://localhost:8080/",
          "height": 226
        },
        "id": "0uoUVYTQ1GuB",
        "outputId": "0ccd972f-02f2-4c95-c802-7d7acb4f1335"
      },
      "outputs": [
        {
          "data": {
            "application/vnd.microsoft.datawrangler.viewer.v0+json": {
              "columns": [
                {
                  "name": "index",
                  "rawType": "int64",
                  "type": "integer"
                },
                {
                  "name": "order_id",
                  "rawType": "object",
                  "type": "string"
                },
                {
                  "name": "payment_sequential",
                  "rawType": "int64",
                  "type": "integer"
                },
                {
                  "name": "payment_type",
                  "rawType": "object",
                  "type": "string"
                },
                {
                  "name": "payment_installments",
                  "rawType": "int64",
                  "type": "integer"
                },
                {
                  "name": "payment_value",
                  "rawType": "float64",
                  "type": "float"
                },
                {
                  "name": "review_id",
                  "rawType": "object",
                  "type": "string"
                },
                {
                  "name": "review_score",
                  "rawType": "float64",
                  "type": "float"
                },
                {
                  "name": "review_creation_date",
                  "rawType": "datetime64[ns]",
                  "type": "datetime"
                },
                {
                  "name": "review_answer_timestamp",
                  "rawType": "datetime64[ns]",
                  "type": "datetime"
                }
              ],
              "conversionMethod": "pd.DataFrame",
              "ref": "7826942a-f472-40dc-9568-bfbf2274a813",
              "rows": [
                [
                  "0",
                  "b81ef226f3fe1789b1e8b2acac839d17",
                  "1",
                  "credit_card",
                  "8",
                  "99.33",
                  "4ce650e117a5b292bf5ea980a61eb61e",
                  "1.0",
                  "2018-05-10 00:00:00",
                  "2018-05-15 23:38:00"
                ],
                [
                  "1",
                  "a9810da82917af2d9aefd1278f1dcfa0",
                  "1",
                  "credit_card",
                  "1",
                  "24.39",
                  "ad2036caca61484fc435d7e673c020f2",
                  "5.0",
                  "2018-06-30 00:00:00",
                  "2018-07-03 11:23:16"
                ],
                [
                  "2",
                  "25e8ea4e93396b6fa0d3dd708e76c1bd",
                  "1",
                  "credit_card",
                  "1",
                  "65.71",
                  "bcddfa0f7d2e54cfc74bae4f01b84d92",
                  "5.0",
                  "2017-12-19 00:00:00",
                  "2017-12-22 17:55:30"
                ],
                [
                  "3",
                  "ba78997921bbcdc1373bb41e913ab953",
                  "1",
                  "credit_card",
                  "8",
                  "107.78",
                  "c37a0e51e5df82bdb55d38ff0ffb6af3",
                  "5.0",
                  "2017-12-21 00:00:00",
                  "2017-12-21 21:42:31"
                ],
                [
                  "4",
                  "ba78997921bbcdc1373bb41e913ab953",
                  "1",
                  "credit_card",
                  "8",
                  "107.78",
                  "5bc7680443b4ef765fec11a8201eeb0c",
                  "5.0",
                  "2017-12-21 00:00:00",
                  "2017-12-22 01:10:39"
                ]
              ],
              "shape": {
                "columns": 9,
                "rows": 5
              }
            },
            "text/html": [
              "<div>\n",
              "<style scoped>\n",
              "    .dataframe tbody tr th:only-of-type {\n",
              "        vertical-align: middle;\n",
              "    }\n",
              "\n",
              "    .dataframe tbody tr th {\n",
              "        vertical-align: top;\n",
              "    }\n",
              "\n",
              "    .dataframe thead th {\n",
              "        text-align: right;\n",
              "    }\n",
              "</style>\n",
              "<table border=\"1\" class=\"dataframe\">\n",
              "  <thead>\n",
              "    <tr style=\"text-align: right;\">\n",
              "      <th></th>\n",
              "      <th>order_id</th>\n",
              "      <th>payment_sequential</th>\n",
              "      <th>payment_type</th>\n",
              "      <th>payment_installments</th>\n",
              "      <th>payment_value</th>\n",
              "      <th>review_id</th>\n",
              "      <th>review_score</th>\n",
              "      <th>review_creation_date</th>\n",
              "      <th>review_answer_timestamp</th>\n",
              "    </tr>\n",
              "  </thead>\n",
              "  <tbody>\n",
              "    <tr>\n",
              "      <th>0</th>\n",
              "      <td>b81ef226f3fe1789b1e8b2acac839d17</td>\n",
              "      <td>1</td>\n",
              "      <td>credit_card</td>\n",
              "      <td>8</td>\n",
              "      <td>99.33</td>\n",
              "      <td>4ce650e117a5b292bf5ea980a61eb61e</td>\n",
              "      <td>1.0</td>\n",
              "      <td>2018-05-10</td>\n",
              "      <td>2018-05-15 23:38:00</td>\n",
              "    </tr>\n",
              "    <tr>\n",
              "      <th>1</th>\n",
              "      <td>a9810da82917af2d9aefd1278f1dcfa0</td>\n",
              "      <td>1</td>\n",
              "      <td>credit_card</td>\n",
              "      <td>1</td>\n",
              "      <td>24.39</td>\n",
              "      <td>ad2036caca61484fc435d7e673c020f2</td>\n",
              "      <td>5.0</td>\n",
              "      <td>2018-06-30</td>\n",
              "      <td>2018-07-03 11:23:16</td>\n",
              "    </tr>\n",
              "    <tr>\n",
              "      <th>2</th>\n",
              "      <td>25e8ea4e93396b6fa0d3dd708e76c1bd</td>\n",
              "      <td>1</td>\n",
              "      <td>credit_card</td>\n",
              "      <td>1</td>\n",
              "      <td>65.71</td>\n",
              "      <td>bcddfa0f7d2e54cfc74bae4f01b84d92</td>\n",
              "      <td>5.0</td>\n",
              "      <td>2017-12-19</td>\n",
              "      <td>2017-12-22 17:55:30</td>\n",
              "    </tr>\n",
              "    <tr>\n",
              "      <th>3</th>\n",
              "      <td>ba78997921bbcdc1373bb41e913ab953</td>\n",
              "      <td>1</td>\n",
              "      <td>credit_card</td>\n",
              "      <td>8</td>\n",
              "      <td>107.78</td>\n",
              "      <td>c37a0e51e5df82bdb55d38ff0ffb6af3</td>\n",
              "      <td>5.0</td>\n",
              "      <td>2017-12-21</td>\n",
              "      <td>2017-12-21 21:42:31</td>\n",
              "    </tr>\n",
              "    <tr>\n",
              "      <th>4</th>\n",
              "      <td>ba78997921bbcdc1373bb41e913ab953</td>\n",
              "      <td>1</td>\n",
              "      <td>credit_card</td>\n",
              "      <td>8</td>\n",
              "      <td>107.78</td>\n",
              "      <td>5bc7680443b4ef765fec11a8201eeb0c</td>\n",
              "      <td>5.0</td>\n",
              "      <td>2017-12-21</td>\n",
              "      <td>2017-12-22 01:10:39</td>\n",
              "    </tr>\n",
              "  </tbody>\n",
              "</table>\n",
              "</div>"
            ],
            "text/plain": [
              "                           order_id  payment_sequential payment_type  \\\n",
              "0  b81ef226f3fe1789b1e8b2acac839d17                   1  credit_card   \n",
              "1  a9810da82917af2d9aefd1278f1dcfa0                   1  credit_card   \n",
              "2  25e8ea4e93396b6fa0d3dd708e76c1bd                   1  credit_card   \n",
              "3  ba78997921bbcdc1373bb41e913ab953                   1  credit_card   \n",
              "4  ba78997921bbcdc1373bb41e913ab953                   1  credit_card   \n",
              "\n",
              "   payment_installments  payment_value                         review_id  \\\n",
              "0                     8          99.33  4ce650e117a5b292bf5ea980a61eb61e   \n",
              "1                     1          24.39  ad2036caca61484fc435d7e673c020f2   \n",
              "2                     1          65.71  bcddfa0f7d2e54cfc74bae4f01b84d92   \n",
              "3                     8         107.78  c37a0e51e5df82bdb55d38ff0ffb6af3   \n",
              "4                     8         107.78  5bc7680443b4ef765fec11a8201eeb0c   \n",
              "\n",
              "   review_score review_creation_date review_answer_timestamp  \n",
              "0           1.0           2018-05-10     2018-05-15 23:38:00  \n",
              "1           5.0           2018-06-30     2018-07-03 11:23:16  \n",
              "2           5.0           2017-12-19     2017-12-22 17:55:30  \n",
              "3           5.0           2017-12-21     2017-12-21 21:42:31  \n",
              "4           5.0           2017-12-21     2017-12-22 01:10:39  "
            ]
          },
          "execution_count": 37,
          "metadata": {},
          "output_type": "execute_result"
        }
      ],
      "source": [
        "# Merge order_payment dan order_reviews\n",
        "order_payment_review_df = pd.merge(\n",
        "    left=order_payment_df,\n",
        "    right=order_reviews_df,\n",
        "    how=\"left\",\n",
        "    left_on=\"order_id\",\n",
        "    right_on=\"order_id\"\n",
        ")\n",
        "order_payment_review_df.head()"
      ]
    },
    {
      "cell_type": "code",
      "execution_count": 38,
      "metadata": {
        "colab": {
          "base_uri": "https://localhost:8080/",
          "height": 272
        },
        "id": "Yq4wP2iJ1NP_",
        "outputId": "b02d7f07-87ac-4d14-a3a8-e93cace74db1"
      },
      "outputs": [
        {
          "data": {
            "text/plain": [
              "payment_type\n",
              "credit_card    76505\n",
              "boleto         19784\n",
              "voucher         3866\n",
              "debit_card      1528\n",
              "not_defined        3\n",
              "Name: order_id, dtype: int64"
            ]
          },
          "execution_count": 38,
          "metadata": {},
          "output_type": "execute_result"
        }
      ],
      "source": [
        "#menganalisis pemesanan dan jenis pembayaran yang digunakan\n",
        "analysis_payment = order_payment_review_df.groupby(by=\"payment_type\").order_id.nunique().sort_values(ascending=False)\n",
        "analysis_payment"
      ]
    },
    {
      "cell_type": "code",
      "execution_count": 39,
      "metadata": {
        "colab": {
          "base_uri": "https://localhost:8080/",
          "height": 269
        },
        "id": "eoBHVnWS143u",
        "outputId": "e20524ae-5788-4ba0-85ab-1e143497a09f"
      },
      "outputs": [
        {
          "data": {
            "application/vnd.microsoft.datawrangler.viewer.v0+json": {
              "columns": [
                {
                  "name": "payment_type",
                  "rawType": "object",
                  "type": "string"
                },
                {
                  "name": "('order_id', 'nunique')",
                  "rawType": "int64",
                  "type": "integer"
                },
                {
                  "name": "('payment_value', 'min')",
                  "rawType": "float64",
                  "type": "float"
                },
                {
                  "name": "('payment_value', 'max')",
                  "rawType": "float64",
                  "type": "float"
                }
              ],
              "conversionMethod": "pd.DataFrame",
              "ref": "4dd22fcd-f8e5-40c4-8fbf-402550c71f4a",
              "rows": [
                [
                  "boleto",
                  "19784",
                  "11.62",
                  "7274.88"
                ],
                [
                  "credit_card",
                  "76505",
                  "0.01",
                  "13664.08"
                ],
                [
                  "debit_card",
                  "1528",
                  "13.38",
                  "4445.5"
                ],
                [
                  "not_defined",
                  "3",
                  "0.0",
                  "0.0"
                ],
                [
                  "voucher",
                  "3866",
                  "0.0",
                  "3184.34"
                ]
              ],
              "shape": {
                "columns": 3,
                "rows": 5
              }
            },
            "text/html": [
              "<div>\n",
              "<style scoped>\n",
              "    .dataframe tbody tr th:only-of-type {\n",
              "        vertical-align: middle;\n",
              "    }\n",
              "\n",
              "    .dataframe tbody tr th {\n",
              "        vertical-align: top;\n",
              "    }\n",
              "\n",
              "    .dataframe thead tr th {\n",
              "        text-align: left;\n",
              "    }\n",
              "\n",
              "    .dataframe thead tr:last-of-type th {\n",
              "        text-align: right;\n",
              "    }\n",
              "</style>\n",
              "<table border=\"1\" class=\"dataframe\">\n",
              "  <thead>\n",
              "    <tr>\n",
              "      <th></th>\n",
              "      <th>order_id</th>\n",
              "      <th colspan=\"2\" halign=\"left\">payment_value</th>\n",
              "    </tr>\n",
              "    <tr>\n",
              "      <th></th>\n",
              "      <th>nunique</th>\n",
              "      <th>min</th>\n",
              "      <th>max</th>\n",
              "    </tr>\n",
              "    <tr>\n",
              "      <th>payment_type</th>\n",
              "      <th></th>\n",
              "      <th></th>\n",
              "      <th></th>\n",
              "    </tr>\n",
              "  </thead>\n",
              "  <tbody>\n",
              "    <tr>\n",
              "      <th>boleto</th>\n",
              "      <td>19784</td>\n",
              "      <td>11.62</td>\n",
              "      <td>7274.88</td>\n",
              "    </tr>\n",
              "    <tr>\n",
              "      <th>credit_card</th>\n",
              "      <td>76505</td>\n",
              "      <td>0.01</td>\n",
              "      <td>13664.08</td>\n",
              "    </tr>\n",
              "    <tr>\n",
              "      <th>debit_card</th>\n",
              "      <td>1528</td>\n",
              "      <td>13.38</td>\n",
              "      <td>4445.50</td>\n",
              "    </tr>\n",
              "    <tr>\n",
              "      <th>not_defined</th>\n",
              "      <td>3</td>\n",
              "      <td>0.00</td>\n",
              "      <td>0.00</td>\n",
              "    </tr>\n",
              "    <tr>\n",
              "      <th>voucher</th>\n",
              "      <td>3866</td>\n",
              "      <td>0.00</td>\n",
              "      <td>3184.34</td>\n",
              "    </tr>\n",
              "  </tbody>\n",
              "</table>\n",
              "</div>"
            ],
            "text/plain": [
              "             order_id payment_value          \n",
              "              nunique           min       max\n",
              "payment_type                                 \n",
              "boleto          19784         11.62   7274.88\n",
              "credit_card     76505          0.01  13664.08\n",
              "debit_card       1528         13.38   4445.50\n",
              "not_defined         3          0.00      0.00\n",
              "voucher          3866          0.00   3184.34"
            ]
          },
          "execution_count": 39,
          "metadata": {},
          "output_type": "execute_result"
        }
      ],
      "source": [
        "payment_type = order_payment_review_df.groupby(by=\"payment_type\").agg({\n",
        "    \"order_id\": \"nunique\",\n",
        "    \"payment_value\":  [\"min\", \"max\"]\n",
        "})\n",
        "payment_type"
      ]
    },
    {
      "cell_type": "code",
      "execution_count": 40,
      "metadata": {
        "colab": {
          "base_uri": "https://localhost:8080/",
          "height": 431
        },
        "id": "b4DEvwU72F7O",
        "outputId": "6cdd243c-6ce2-4fe5-aa9d-ff9152a79db9"
      },
      "outputs": [
        {
          "data": {
            "application/vnd.microsoft.datawrangler.viewer.v0+json": {
              "columns": [
                {
                  "name": "index",
                  "rawType": "object",
                  "type": "string"
                },
                {
                  "name": "order_id",
                  "rawType": "object",
                  "type": "unknown"
                },
                {
                  "name": "payment_sequential",
                  "rawType": "float64",
                  "type": "float"
                },
                {
                  "name": "payment_type",
                  "rawType": "object",
                  "type": "unknown"
                },
                {
                  "name": "payment_installments",
                  "rawType": "float64",
                  "type": "float"
                },
                {
                  "name": "payment_value",
                  "rawType": "float64",
                  "type": "float"
                },
                {
                  "name": "review_id",
                  "rawType": "object",
                  "type": "unknown"
                },
                {
                  "name": "review_score",
                  "rawType": "float64",
                  "type": "float"
                },
                {
                  "name": "review_creation_date",
                  "rawType": "object",
                  "type": "unknown"
                },
                {
                  "name": "review_answer_timestamp",
                  "rawType": "object",
                  "type": "unknown"
                }
              ],
              "conversionMethod": "pd.DataFrame",
              "ref": "0ded1a59-a5e1-49a8-a2a3-4abacaf40d7d",
              "rows": [
                [
                  "count",
                  "104477",
                  "104477.0",
                  "104477",
                  "104477.0",
                  "104477.0",
                  "103677",
                  "103677.0",
                  "103677",
                  "103677"
                ],
                [
                  "unique",
                  "99440",
                  null,
                  "5",
                  null,
                  null,
                  "98409",
                  null,
                  null,
                  null
                ],
                [
                  "top",
                  "fa65dad1b0e818e3ccc5cb0e39231352",
                  null,
                  "credit_card",
                  null,
                  null,
                  "f28281373ab8815bafafe371218f02ce",
                  null,
                  null,
                  null
                ],
                [
                  "freq",
                  "29",
                  null,
                  "77198",
                  null,
                  null,
                  "29",
                  null,
                  null,
                  null
                ],
                [
                  "mean",
                  null,
                  "1.0933794040793667",
                  null,
                  "2.8564181590206457",
                  "153.9230714894187",
                  null,
                  "4.083885529095171",
                  "2018-01-11 09:45:35.808327680",
                  "2018-01-14 13:31:44.002912768"
                ],
                [
                  "min",
                  null,
                  "1.0",
                  null,
                  "0.0",
                  "0.0",
                  null,
                  "1.0",
                  "2016-10-02 00:00:00",
                  "2016-10-11 14:31:29"
                ],
                [
                  "25%",
                  null,
                  "1.0",
                  null,
                  "1.0",
                  "56.78",
                  null,
                  "4.0",
                  "2017-09-21 00:00:00",
                  "2017-09-23 22:17:51"
                ],
                [
                  "50%",
                  null,
                  "1.0",
                  null,
                  "1.0",
                  "100.0",
                  null,
                  "5.0",
                  "2018-01-31 00:00:00",
                  "2018-02-03 02:04:58"
                ],
                [
                  "75%",
                  null,
                  "1.0",
                  null,
                  "4.0",
                  "171.69",
                  null,
                  "5.0",
                  "2018-05-15 00:00:00",
                  "2018-05-17 13:13:46"
                ],
                [
                  "max",
                  null,
                  "29.0",
                  null,
                  "24.0",
                  "13664.08",
                  null,
                  "5.0",
                  "2018-08-31 00:00:00",
                  "2018-10-29 12:27:35"
                ],
                [
                  "std",
                  null,
                  "0.7092894532709471",
                  null,
                  "2.6900753354401994",
                  "217.1201869380223",
                  null,
                  "1.3491850276214359",
                  null,
                  null
                ]
              ],
              "shape": {
                "columns": 9,
                "rows": 11
              }
            },
            "text/html": [
              "<div>\n",
              "<style scoped>\n",
              "    .dataframe tbody tr th:only-of-type {\n",
              "        vertical-align: middle;\n",
              "    }\n",
              "\n",
              "    .dataframe tbody tr th {\n",
              "        vertical-align: top;\n",
              "    }\n",
              "\n",
              "    .dataframe thead th {\n",
              "        text-align: right;\n",
              "    }\n",
              "</style>\n",
              "<table border=\"1\" class=\"dataframe\">\n",
              "  <thead>\n",
              "    <tr style=\"text-align: right;\">\n",
              "      <th></th>\n",
              "      <th>order_id</th>\n",
              "      <th>payment_sequential</th>\n",
              "      <th>payment_type</th>\n",
              "      <th>payment_installments</th>\n",
              "      <th>payment_value</th>\n",
              "      <th>review_id</th>\n",
              "      <th>review_score</th>\n",
              "      <th>review_creation_date</th>\n",
              "      <th>review_answer_timestamp</th>\n",
              "    </tr>\n",
              "  </thead>\n",
              "  <tbody>\n",
              "    <tr>\n",
              "      <th>count</th>\n",
              "      <td>104477</td>\n",
              "      <td>104477.000000</td>\n",
              "      <td>104477</td>\n",
              "      <td>104477.000000</td>\n",
              "      <td>104477.000000</td>\n",
              "      <td>103677</td>\n",
              "      <td>103677.000000</td>\n",
              "      <td>103677</td>\n",
              "      <td>103677</td>\n",
              "    </tr>\n",
              "    <tr>\n",
              "      <th>unique</th>\n",
              "      <td>99440</td>\n",
              "      <td>NaN</td>\n",
              "      <td>5</td>\n",
              "      <td>NaN</td>\n",
              "      <td>NaN</td>\n",
              "      <td>98409</td>\n",
              "      <td>NaN</td>\n",
              "      <td>NaN</td>\n",
              "      <td>NaN</td>\n",
              "    </tr>\n",
              "    <tr>\n",
              "      <th>top</th>\n",
              "      <td>fa65dad1b0e818e3ccc5cb0e39231352</td>\n",
              "      <td>NaN</td>\n",
              "      <td>credit_card</td>\n",
              "      <td>NaN</td>\n",
              "      <td>NaN</td>\n",
              "      <td>f28281373ab8815bafafe371218f02ce</td>\n",
              "      <td>NaN</td>\n",
              "      <td>NaN</td>\n",
              "      <td>NaN</td>\n",
              "    </tr>\n",
              "    <tr>\n",
              "      <th>freq</th>\n",
              "      <td>29</td>\n",
              "      <td>NaN</td>\n",
              "      <td>77198</td>\n",
              "      <td>NaN</td>\n",
              "      <td>NaN</td>\n",
              "      <td>29</td>\n",
              "      <td>NaN</td>\n",
              "      <td>NaN</td>\n",
              "      <td>NaN</td>\n",
              "    </tr>\n",
              "    <tr>\n",
              "      <th>mean</th>\n",
              "      <td>NaN</td>\n",
              "      <td>1.093379</td>\n",
              "      <td>NaN</td>\n",
              "      <td>2.856418</td>\n",
              "      <td>153.923071</td>\n",
              "      <td>NaN</td>\n",
              "      <td>4.083886</td>\n",
              "      <td>2018-01-11 09:45:35.808327680</td>\n",
              "      <td>2018-01-14 13:31:44.002912768</td>\n",
              "    </tr>\n",
              "    <tr>\n",
              "      <th>min</th>\n",
              "      <td>NaN</td>\n",
              "      <td>1.000000</td>\n",
              "      <td>NaN</td>\n",
              "      <td>0.000000</td>\n",
              "      <td>0.000000</td>\n",
              "      <td>NaN</td>\n",
              "      <td>1.000000</td>\n",
              "      <td>2016-10-02 00:00:00</td>\n",
              "      <td>2016-10-11 14:31:29</td>\n",
              "    </tr>\n",
              "    <tr>\n",
              "      <th>25%</th>\n",
              "      <td>NaN</td>\n",
              "      <td>1.000000</td>\n",
              "      <td>NaN</td>\n",
              "      <td>1.000000</td>\n",
              "      <td>56.780000</td>\n",
              "      <td>NaN</td>\n",
              "      <td>4.000000</td>\n",
              "      <td>2017-09-21 00:00:00</td>\n",
              "      <td>2017-09-23 22:17:51</td>\n",
              "    </tr>\n",
              "    <tr>\n",
              "      <th>50%</th>\n",
              "      <td>NaN</td>\n",
              "      <td>1.000000</td>\n",
              "      <td>NaN</td>\n",
              "      <td>1.000000</td>\n",
              "      <td>100.000000</td>\n",
              "      <td>NaN</td>\n",
              "      <td>5.000000</td>\n",
              "      <td>2018-01-31 00:00:00</td>\n",
              "      <td>2018-02-03 02:04:58</td>\n",
              "    </tr>\n",
              "    <tr>\n",
              "      <th>75%</th>\n",
              "      <td>NaN</td>\n",
              "      <td>1.000000</td>\n",
              "      <td>NaN</td>\n",
              "      <td>4.000000</td>\n",
              "      <td>171.690000</td>\n",
              "      <td>NaN</td>\n",
              "      <td>5.000000</td>\n",
              "      <td>2018-05-15 00:00:00</td>\n",
              "      <td>2018-05-17 13:13:46</td>\n",
              "    </tr>\n",
              "    <tr>\n",
              "      <th>max</th>\n",
              "      <td>NaN</td>\n",
              "      <td>29.000000</td>\n",
              "      <td>NaN</td>\n",
              "      <td>24.000000</td>\n",
              "      <td>13664.080000</td>\n",
              "      <td>NaN</td>\n",
              "      <td>5.000000</td>\n",
              "      <td>2018-08-31 00:00:00</td>\n",
              "      <td>2018-10-29 12:27:35</td>\n",
              "    </tr>\n",
              "    <tr>\n",
              "      <th>std</th>\n",
              "      <td>NaN</td>\n",
              "      <td>0.709289</td>\n",
              "      <td>NaN</td>\n",
              "      <td>2.690075</td>\n",
              "      <td>217.120187</td>\n",
              "      <td>NaN</td>\n",
              "      <td>1.349185</td>\n",
              "      <td>NaN</td>\n",
              "      <td>NaN</td>\n",
              "    </tr>\n",
              "  </tbody>\n",
              "</table>\n",
              "</div>"
            ],
            "text/plain": [
              "                                order_id  payment_sequential payment_type  \\\n",
              "count                             104477       104477.000000       104477   \n",
              "unique                             99440                 NaN            5   \n",
              "top     fa65dad1b0e818e3ccc5cb0e39231352                 NaN  credit_card   \n",
              "freq                                  29                 NaN        77198   \n",
              "mean                                 NaN            1.093379          NaN   \n",
              "min                                  NaN            1.000000          NaN   \n",
              "25%                                  NaN            1.000000          NaN   \n",
              "50%                                  NaN            1.000000          NaN   \n",
              "75%                                  NaN            1.000000          NaN   \n",
              "max                                  NaN           29.000000          NaN   \n",
              "std                                  NaN            0.709289          NaN   \n",
              "\n",
              "        payment_installments  payment_value                         review_id  \\\n",
              "count          104477.000000  104477.000000                            103677   \n",
              "unique                   NaN            NaN                             98409   \n",
              "top                      NaN            NaN  f28281373ab8815bafafe371218f02ce   \n",
              "freq                     NaN            NaN                                29   \n",
              "mean                2.856418     153.923071                               NaN   \n",
              "min                 0.000000       0.000000                               NaN   \n",
              "25%                 1.000000      56.780000                               NaN   \n",
              "50%                 1.000000     100.000000                               NaN   \n",
              "75%                 4.000000     171.690000                               NaN   \n",
              "max                24.000000   13664.080000                               NaN   \n",
              "std                 2.690075     217.120187                               NaN   \n",
              "\n",
              "         review_score           review_creation_date  \\\n",
              "count   103677.000000                         103677   \n",
              "unique            NaN                            NaN   \n",
              "top               NaN                            NaN   \n",
              "freq              NaN                            NaN   \n",
              "mean         4.083886  2018-01-11 09:45:35.808327680   \n",
              "min          1.000000            2016-10-02 00:00:00   \n",
              "25%          4.000000            2017-09-21 00:00:00   \n",
              "50%          5.000000            2018-01-31 00:00:00   \n",
              "75%          5.000000            2018-05-15 00:00:00   \n",
              "max          5.000000            2018-08-31 00:00:00   \n",
              "std          1.349185                            NaN   \n",
              "\n",
              "              review_answer_timestamp  \n",
              "count                          103677  \n",
              "unique                            NaN  \n",
              "top                               NaN  \n",
              "freq                              NaN  \n",
              "mean    2018-01-14 13:31:44.002912768  \n",
              "min               2016-10-11 14:31:29  \n",
              "25%               2017-09-23 22:17:51  \n",
              "50%               2018-02-03 02:04:58  \n",
              "75%               2018-05-17 13:13:46  \n",
              "max               2018-10-29 12:27:35  \n",
              "std                               NaN  "
            ]
          },
          "execution_count": 40,
          "metadata": {},
          "output_type": "execute_result"
        }
      ],
      "source": [
        "#Describe data payment\n",
        "order_payment_review_df.describe(include=\"all\")"
      ]
    },
    {
      "cell_type": "markdown",
      "metadata": {
        "id": "ZAMUeWa31KvL"
      },
      "source": [
        "**Explore customers_orders dan payments_reviews**"
      ]
    },
    {
      "cell_type": "code",
      "execution_count": 41,
      "metadata": {
        "colab": {
          "base_uri": "https://localhost:8080/",
          "height": 290
        },
        "id": "Cs-tUYVL2W5Z",
        "outputId": "e8242ceb-427f-43eb-c345-e74bc1492776"
      },
      "outputs": [
        {
          "data": {
            "application/vnd.microsoft.datawrangler.viewer.v0+json": {
              "columns": [
                {
                  "name": "index",
                  "rawType": "int64",
                  "type": "integer"
                },
                {
                  "name": "customer_id",
                  "rawType": "object",
                  "type": "string"
                },
                {
                  "name": "customer_unique_id",
                  "rawType": "object",
                  "type": "string"
                },
                {
                  "name": "customer_zip_code_prefix",
                  "rawType": "int64",
                  "type": "integer"
                },
                {
                  "name": "customer_city",
                  "rawType": "object",
                  "type": "string"
                },
                {
                  "name": "customer_state",
                  "rawType": "object",
                  "type": "string"
                },
                {
                  "name": "order_id",
                  "rawType": "object",
                  "type": "string"
                },
                {
                  "name": "order_status",
                  "rawType": "object",
                  "type": "string"
                },
                {
                  "name": "order_purchase_timestamp",
                  "rawType": "datetime64[ns]",
                  "type": "datetime"
                },
                {
                  "name": "order_approved_at",
                  "rawType": "datetime64[ns]",
                  "type": "datetime"
                },
                {
                  "name": "order_delivered_carrier_date",
                  "rawType": "datetime64[ns]",
                  "type": "datetime"
                },
                {
                  "name": "order_delivered_customer_date",
                  "rawType": "datetime64[ns]",
                  "type": "datetime"
                },
                {
                  "name": "order_estimated_delivery_date",
                  "rawType": "datetime64[ns]",
                  "type": "datetime"
                },
                {
                  "name": "delivery_time",
                  "rawType": "float64",
                  "type": "float"
                },
                {
                  "name": "payment_sequential",
                  "rawType": "float64",
                  "type": "float"
                },
                {
                  "name": "payment_type",
                  "rawType": "object",
                  "type": "string"
                },
                {
                  "name": "payment_installments",
                  "rawType": "float64",
                  "type": "float"
                },
                {
                  "name": "payment_value",
                  "rawType": "float64",
                  "type": "float"
                },
                {
                  "name": "review_id",
                  "rawType": "object",
                  "type": "string"
                },
                {
                  "name": "review_score",
                  "rawType": "float64",
                  "type": "float"
                },
                {
                  "name": "review_creation_date",
                  "rawType": "datetime64[ns]",
                  "type": "datetime"
                },
                {
                  "name": "review_answer_timestamp",
                  "rawType": "datetime64[ns]",
                  "type": "datetime"
                }
              ],
              "conversionMethod": "pd.DataFrame",
              "ref": "f8d41f07-11c3-4b07-8e2e-b95c7ad59e40",
              "rows": [
                [
                  "0",
                  "06b8999e2fba1a1fbc88172c00ba8bc7",
                  "861eff4711a542e4b93843c6dd7febb0",
                  "14409",
                  "franca",
                  "SP",
                  "00e7ee1b050b8499577073aeb2a297a1",
                  "delivered",
                  "2017-05-16 15:05:35",
                  "2017-05-16 15:22:12",
                  "2017-05-23 10:47:57",
                  "2017-05-25 10:35:35",
                  "2017-06-05 00:00:00",
                  "2.0",
                  "1.0",
                  "credit_card",
                  "2.0",
                  "146.87",
                  "88b8b52d46df026a9d1ad2136a59b30b",
                  "4.0",
                  "2017-05-26 00:00:00",
                  "2017-05-30 22:34:40"
                ],
                [
                  "1",
                  "18955e83d337fd6b2def6b18a428ac77",
                  "290c77bc529b7ac935b93aa66c333dc3",
                  "9790",
                  "sao bernardo do campo",
                  "SP",
                  "29150127e6685892b6eab3eec79f59c7",
                  "delivered",
                  "2018-01-12 20:48:24",
                  "2018-01-12 20:58:32",
                  "2018-01-15 17:14:59",
                  "2018-01-29 12:41:19",
                  "2018-02-06 00:00:00",
                  "14.0",
                  "1.0",
                  "credit_card",
                  "8.0",
                  "335.48",
                  "02fc48a9efa3e3d0f1a8ea26507eeec3",
                  "5.0",
                  "2018-01-30 00:00:00",
                  "2018-02-10 22:43:29"
                ],
                [
                  "2",
                  "4e7b3e00288586ebd08712fdd0374a03",
                  "060e732b5b29e8181a18229c7b0b2b5e",
                  "1151",
                  "sao paulo",
                  "SP",
                  "b2059ed67ce144a36e2aa97d2c9e9ad2",
                  "delivered",
                  "2018-05-19 16:07:45",
                  "2018-05-20 16:19:10",
                  "2018-06-11 14:31:00",
                  "2018-06-14 17:58:51",
                  "2018-06-13 00:00:00",
                  "3.0",
                  "1.0",
                  "credit_card",
                  "7.0",
                  "157.73",
                  "5ad6695d76ee186dc473c42706984d87",
                  "5.0",
                  "2018-06-15 00:00:00",
                  "2018-06-15 12:10:59"
                ],
                [
                  "3",
                  "b2b6027bc5c5109e529d4dc6358b12c3",
                  "259dac757896d24d7702b9acbbff3f3c",
                  "8775",
                  "mogi das cruzes",
                  "SP",
                  "951670f92359f4fe4a63112aa7306eba",
                  "delivered",
                  "2018-03-13 16:06:38",
                  "2018-03-13 17:29:19",
                  "2018-03-27 23:22:42",
                  "2018-03-28 16:04:25",
                  "2018-04-10 00:00:00",
                  "1.0",
                  "1.0",
                  "credit_card",
                  "1.0",
                  "173.3",
                  "059a801bb31f6aab2266e672cab87bc5",
                  "5.0",
                  "2018-03-29 00:00:00",
                  "2018-04-02 18:36:47"
                ],
                [
                  "4",
                  "4f2d8ab171c80ec8364f7c12e35b23ad",
                  "345ecd01c38d18a9036ed96c73b8d066",
                  "13056",
                  "campinas",
                  "SP",
                  "6b7d50bd145f6fc7f33cebabd7e49d0f",
                  "delivered",
                  "2018-07-29 09:51:30",
                  "2018-07-29 10:10:09",
                  "2018-07-30 15:16:00",
                  "2018-08-09 20:55:48",
                  "2018-08-15 00:00:00",
                  "10.0",
                  "1.0",
                  "credit_card",
                  "8.0",
                  "252.25",
                  "8490879d58d6c5d7773f2739a03f089a",
                  "5.0",
                  "2018-08-10 00:00:00",
                  "2018-08-17 01:59:52"
                ]
              ],
              "shape": {
                "columns": 21,
                "rows": 5
              }
            },
            "text/html": [
              "<div>\n",
              "<style scoped>\n",
              "    .dataframe tbody tr th:only-of-type {\n",
              "        vertical-align: middle;\n",
              "    }\n",
              "\n",
              "    .dataframe tbody tr th {\n",
              "        vertical-align: top;\n",
              "    }\n",
              "\n",
              "    .dataframe thead th {\n",
              "        text-align: right;\n",
              "    }\n",
              "</style>\n",
              "<table border=\"1\" class=\"dataframe\">\n",
              "  <thead>\n",
              "    <tr style=\"text-align: right;\">\n",
              "      <th></th>\n",
              "      <th>customer_id</th>\n",
              "      <th>customer_unique_id</th>\n",
              "      <th>customer_zip_code_prefix</th>\n",
              "      <th>customer_city</th>\n",
              "      <th>customer_state</th>\n",
              "      <th>order_id</th>\n",
              "      <th>order_status</th>\n",
              "      <th>order_purchase_timestamp</th>\n",
              "      <th>order_approved_at</th>\n",
              "      <th>order_delivered_carrier_date</th>\n",
              "      <th>...</th>\n",
              "      <th>order_estimated_delivery_date</th>\n",
              "      <th>delivery_time</th>\n",
              "      <th>payment_sequential</th>\n",
              "      <th>payment_type</th>\n",
              "      <th>payment_installments</th>\n",
              "      <th>payment_value</th>\n",
              "      <th>review_id</th>\n",
              "      <th>review_score</th>\n",
              "      <th>review_creation_date</th>\n",
              "      <th>review_answer_timestamp</th>\n",
              "    </tr>\n",
              "  </thead>\n",
              "  <tbody>\n",
              "    <tr>\n",
              "      <th>0</th>\n",
              "      <td>06b8999e2fba1a1fbc88172c00ba8bc7</td>\n",
              "      <td>861eff4711a542e4b93843c6dd7febb0</td>\n",
              "      <td>14409</td>\n",
              "      <td>franca</td>\n",
              "      <td>SP</td>\n",
              "      <td>00e7ee1b050b8499577073aeb2a297a1</td>\n",
              "      <td>delivered</td>\n",
              "      <td>2017-05-16 15:05:35</td>\n",
              "      <td>2017-05-16 15:22:12</td>\n",
              "      <td>2017-05-23 10:47:57</td>\n",
              "      <td>...</td>\n",
              "      <td>2017-06-05</td>\n",
              "      <td>2.0</td>\n",
              "      <td>1.0</td>\n",
              "      <td>credit_card</td>\n",
              "      <td>2.0</td>\n",
              "      <td>146.87</td>\n",
              "      <td>88b8b52d46df026a9d1ad2136a59b30b</td>\n",
              "      <td>4.0</td>\n",
              "      <td>2017-05-26</td>\n",
              "      <td>2017-05-30 22:34:40</td>\n",
              "    </tr>\n",
              "    <tr>\n",
              "      <th>1</th>\n",
              "      <td>18955e83d337fd6b2def6b18a428ac77</td>\n",
              "      <td>290c77bc529b7ac935b93aa66c333dc3</td>\n",
              "      <td>9790</td>\n",
              "      <td>sao bernardo do campo</td>\n",
              "      <td>SP</td>\n",
              "      <td>29150127e6685892b6eab3eec79f59c7</td>\n",
              "      <td>delivered</td>\n",
              "      <td>2018-01-12 20:48:24</td>\n",
              "      <td>2018-01-12 20:58:32</td>\n",
              "      <td>2018-01-15 17:14:59</td>\n",
              "      <td>...</td>\n",
              "      <td>2018-02-06</td>\n",
              "      <td>14.0</td>\n",
              "      <td>1.0</td>\n",
              "      <td>credit_card</td>\n",
              "      <td>8.0</td>\n",
              "      <td>335.48</td>\n",
              "      <td>02fc48a9efa3e3d0f1a8ea26507eeec3</td>\n",
              "      <td>5.0</td>\n",
              "      <td>2018-01-30</td>\n",
              "      <td>2018-02-10 22:43:29</td>\n",
              "    </tr>\n",
              "    <tr>\n",
              "      <th>2</th>\n",
              "      <td>4e7b3e00288586ebd08712fdd0374a03</td>\n",
              "      <td>060e732b5b29e8181a18229c7b0b2b5e</td>\n",
              "      <td>1151</td>\n",
              "      <td>sao paulo</td>\n",
              "      <td>SP</td>\n",
              "      <td>b2059ed67ce144a36e2aa97d2c9e9ad2</td>\n",
              "      <td>delivered</td>\n",
              "      <td>2018-05-19 16:07:45</td>\n",
              "      <td>2018-05-20 16:19:10</td>\n",
              "      <td>2018-06-11 14:31:00</td>\n",
              "      <td>...</td>\n",
              "      <td>2018-06-13</td>\n",
              "      <td>3.0</td>\n",
              "      <td>1.0</td>\n",
              "      <td>credit_card</td>\n",
              "      <td>7.0</td>\n",
              "      <td>157.73</td>\n",
              "      <td>5ad6695d76ee186dc473c42706984d87</td>\n",
              "      <td>5.0</td>\n",
              "      <td>2018-06-15</td>\n",
              "      <td>2018-06-15 12:10:59</td>\n",
              "    </tr>\n",
              "    <tr>\n",
              "      <th>3</th>\n",
              "      <td>b2b6027bc5c5109e529d4dc6358b12c3</td>\n",
              "      <td>259dac757896d24d7702b9acbbff3f3c</td>\n",
              "      <td>8775</td>\n",
              "      <td>mogi das cruzes</td>\n",
              "      <td>SP</td>\n",
              "      <td>951670f92359f4fe4a63112aa7306eba</td>\n",
              "      <td>delivered</td>\n",
              "      <td>2018-03-13 16:06:38</td>\n",
              "      <td>2018-03-13 17:29:19</td>\n",
              "      <td>2018-03-27 23:22:42</td>\n",
              "      <td>...</td>\n",
              "      <td>2018-04-10</td>\n",
              "      <td>1.0</td>\n",
              "      <td>1.0</td>\n",
              "      <td>credit_card</td>\n",
              "      <td>1.0</td>\n",
              "      <td>173.30</td>\n",
              "      <td>059a801bb31f6aab2266e672cab87bc5</td>\n",
              "      <td>5.0</td>\n",
              "      <td>2018-03-29</td>\n",
              "      <td>2018-04-02 18:36:47</td>\n",
              "    </tr>\n",
              "    <tr>\n",
              "      <th>4</th>\n",
              "      <td>4f2d8ab171c80ec8364f7c12e35b23ad</td>\n",
              "      <td>345ecd01c38d18a9036ed96c73b8d066</td>\n",
              "      <td>13056</td>\n",
              "      <td>campinas</td>\n",
              "      <td>SP</td>\n",
              "      <td>6b7d50bd145f6fc7f33cebabd7e49d0f</td>\n",
              "      <td>delivered</td>\n",
              "      <td>2018-07-29 09:51:30</td>\n",
              "      <td>2018-07-29 10:10:09</td>\n",
              "      <td>2018-07-30 15:16:00</td>\n",
              "      <td>...</td>\n",
              "      <td>2018-08-15</td>\n",
              "      <td>10.0</td>\n",
              "      <td>1.0</td>\n",
              "      <td>credit_card</td>\n",
              "      <td>8.0</td>\n",
              "      <td>252.25</td>\n",
              "      <td>8490879d58d6c5d7773f2739a03f089a</td>\n",
              "      <td>5.0</td>\n",
              "      <td>2018-08-10</td>\n",
              "      <td>2018-08-17 01:59:52</td>\n",
              "    </tr>\n",
              "  </tbody>\n",
              "</table>\n",
              "<p>5 rows × 21 columns</p>\n",
              "</div>"
            ],
            "text/plain": [
              "                        customer_id                customer_unique_id  \\\n",
              "0  06b8999e2fba1a1fbc88172c00ba8bc7  861eff4711a542e4b93843c6dd7febb0   \n",
              "1  18955e83d337fd6b2def6b18a428ac77  290c77bc529b7ac935b93aa66c333dc3   \n",
              "2  4e7b3e00288586ebd08712fdd0374a03  060e732b5b29e8181a18229c7b0b2b5e   \n",
              "3  b2b6027bc5c5109e529d4dc6358b12c3  259dac757896d24d7702b9acbbff3f3c   \n",
              "4  4f2d8ab171c80ec8364f7c12e35b23ad  345ecd01c38d18a9036ed96c73b8d066   \n",
              "\n",
              "   customer_zip_code_prefix          customer_city customer_state  \\\n",
              "0                     14409                 franca             SP   \n",
              "1                      9790  sao bernardo do campo             SP   \n",
              "2                      1151              sao paulo             SP   \n",
              "3                      8775        mogi das cruzes             SP   \n",
              "4                     13056               campinas             SP   \n",
              "\n",
              "                           order_id order_status order_purchase_timestamp  \\\n",
              "0  00e7ee1b050b8499577073aeb2a297a1    delivered      2017-05-16 15:05:35   \n",
              "1  29150127e6685892b6eab3eec79f59c7    delivered      2018-01-12 20:48:24   \n",
              "2  b2059ed67ce144a36e2aa97d2c9e9ad2    delivered      2018-05-19 16:07:45   \n",
              "3  951670f92359f4fe4a63112aa7306eba    delivered      2018-03-13 16:06:38   \n",
              "4  6b7d50bd145f6fc7f33cebabd7e49d0f    delivered      2018-07-29 09:51:30   \n",
              "\n",
              "    order_approved_at order_delivered_carrier_date  ...  \\\n",
              "0 2017-05-16 15:22:12          2017-05-23 10:47:57  ...   \n",
              "1 2018-01-12 20:58:32          2018-01-15 17:14:59  ...   \n",
              "2 2018-05-20 16:19:10          2018-06-11 14:31:00  ...   \n",
              "3 2018-03-13 17:29:19          2018-03-27 23:22:42  ...   \n",
              "4 2018-07-29 10:10:09          2018-07-30 15:16:00  ...   \n",
              "\n",
              "  order_estimated_delivery_date delivery_time  payment_sequential  \\\n",
              "0                    2017-06-05           2.0                 1.0   \n",
              "1                    2018-02-06          14.0                 1.0   \n",
              "2                    2018-06-13           3.0                 1.0   \n",
              "3                    2018-04-10           1.0                 1.0   \n",
              "4                    2018-08-15          10.0                 1.0   \n",
              "\n",
              "   payment_type payment_installments  payment_value  \\\n",
              "0   credit_card                  2.0         146.87   \n",
              "1   credit_card                  8.0         335.48   \n",
              "2   credit_card                  7.0         157.73   \n",
              "3   credit_card                  1.0         173.30   \n",
              "4   credit_card                  8.0         252.25   \n",
              "\n",
              "                          review_id review_score  review_creation_date  \\\n",
              "0  88b8b52d46df026a9d1ad2136a59b30b          4.0            2017-05-26   \n",
              "1  02fc48a9efa3e3d0f1a8ea26507eeec3          5.0            2018-01-30   \n",
              "2  5ad6695d76ee186dc473c42706984d87          5.0            2018-06-15   \n",
              "3  059a801bb31f6aab2266e672cab87bc5          5.0            2018-03-29   \n",
              "4  8490879d58d6c5d7773f2739a03f089a          5.0            2018-08-10   \n",
              "\n",
              "  review_answer_timestamp  \n",
              "0     2017-05-30 22:34:40  \n",
              "1     2018-02-10 22:43:29  \n",
              "2     2018-06-15 12:10:59  \n",
              "3     2018-04-02 18:36:47  \n",
              "4     2018-08-17 01:59:52  \n",
              "\n",
              "[5 rows x 21 columns]"
            ]
          },
          "execution_count": 41,
          "metadata": {},
          "output_type": "execute_result"
        }
      ],
      "source": [
        "# Merge customers_orders dan payments_reviews\n",
        "customer_df = pd.merge(\n",
        "    left=customer_orders_df,\n",
        "    right=order_payment_review_df,\n",
        "    how=\"left\",\n",
        "    left_on=\"order_id\",\n",
        "    right_on=\"order_id\"\n",
        ")\n",
        "customer_df.head()"
      ]
    },
    {
      "cell_type": "markdown",
      "metadata": {
        "id": "FWFrtsxmLVUU"
      },
      "source": [
        "**Explore order_items dan sellers**"
      ]
    },
    {
      "cell_type": "code",
      "execution_count": 42,
      "metadata": {
        "colab": {
          "base_uri": "https://localhost:8080/",
          "height": 261
        },
        "id": "30utVAnV1ZT-",
        "outputId": "a4b0c70f-6c3a-4467-cc34-639ba9f08135"
      },
      "outputs": [
        {
          "data": {
            "application/vnd.microsoft.datawrangler.viewer.v0+json": {
              "columns": [
                {
                  "name": "index",
                  "rawType": "int64",
                  "type": "integer"
                },
                {
                  "name": "order_id",
                  "rawType": "object",
                  "type": "string"
                },
                {
                  "name": "order_item_id",
                  "rawType": "int64",
                  "type": "integer"
                },
                {
                  "name": "product_id",
                  "rawType": "object",
                  "type": "string"
                },
                {
                  "name": "seller_id",
                  "rawType": "object",
                  "type": "string"
                },
                {
                  "name": "shipping_limit_date",
                  "rawType": "datetime64[ns]",
                  "type": "datetime"
                },
                {
                  "name": "price",
                  "rawType": "float64",
                  "type": "float"
                },
                {
                  "name": "freight_value",
                  "rawType": "float64",
                  "type": "float"
                },
                {
                  "name": "seller_zip_code_prefix",
                  "rawType": "int64",
                  "type": "integer"
                },
                {
                  "name": "seller_city",
                  "rawType": "object",
                  "type": "string"
                },
                {
                  "name": "seller_state",
                  "rawType": "object",
                  "type": "string"
                }
              ],
              "conversionMethod": "pd.DataFrame",
              "ref": "2ec94e94-520d-4f0d-bcc9-5ea6ab7f78f3",
              "rows": [
                [
                  "0",
                  "00010242fe8c5a6d1ba2dd792cb16214",
                  "1",
                  "4244733e06e7ecb4970a6e2683c13e61",
                  "48436dade18ac8b2bce089ec2a041202",
                  "2017-09-19 09:45:35",
                  "58.9",
                  "13.29",
                  "27277",
                  "volta redonda",
                  "SP"
                ],
                [
                  "1",
                  "00018f77f2f0320c557190d7a144bdd3",
                  "1",
                  "e5f2d52b802189ee658865ca93d83a8f",
                  "dd7ddc04e1b6c2c614352b383efe2d36",
                  "2017-05-03 11:05:13",
                  "239.9",
                  "19.93",
                  "3471",
                  "sao paulo",
                  "SP"
                ],
                [
                  "2",
                  "000229ec398224ef6ca0657da4fc703e",
                  "1",
                  "c777355d18b72b67abbeef9df44fd0fd",
                  "5b51032eddd242adc84c38acab88f23d",
                  "2018-01-18 14:48:30",
                  "199.0",
                  "17.87",
                  "37564",
                  "borda da mata",
                  "MG"
                ],
                [
                  "3",
                  "00024acbcdf0a6daa1e931b038114c75",
                  "1",
                  "7634da152a4610f1595efa32f14722fc",
                  "9d7a1d34a5052409006425275ba1c2b4",
                  "2018-08-15 10:10:18",
                  "12.99",
                  "12.79",
                  "14403",
                  "franca",
                  "SP"
                ],
                [
                  "4",
                  "00042b26cf59d7ce69dfabb4e55b4fd9",
                  "1",
                  "ac6c3623068f30de03045865e4e10089",
                  "df560393f3a51e74553ab94004ba5c87",
                  "2017-02-13 13:57:51",
                  "199.9",
                  "18.14",
                  "87900",
                  "loanda",
                  "PR"
                ]
              ],
              "shape": {
                "columns": 10,
                "rows": 5
              }
            },
            "text/html": [
              "<div>\n",
              "<style scoped>\n",
              "    .dataframe tbody tr th:only-of-type {\n",
              "        vertical-align: middle;\n",
              "    }\n",
              "\n",
              "    .dataframe tbody tr th {\n",
              "        vertical-align: top;\n",
              "    }\n",
              "\n",
              "    .dataframe thead th {\n",
              "        text-align: right;\n",
              "    }\n",
              "</style>\n",
              "<table border=\"1\" class=\"dataframe\">\n",
              "  <thead>\n",
              "    <tr style=\"text-align: right;\">\n",
              "      <th></th>\n",
              "      <th>order_id</th>\n",
              "      <th>order_item_id</th>\n",
              "      <th>product_id</th>\n",
              "      <th>seller_id</th>\n",
              "      <th>shipping_limit_date</th>\n",
              "      <th>price</th>\n",
              "      <th>freight_value</th>\n",
              "      <th>seller_zip_code_prefix</th>\n",
              "      <th>seller_city</th>\n",
              "      <th>seller_state</th>\n",
              "    </tr>\n",
              "  </thead>\n",
              "  <tbody>\n",
              "    <tr>\n",
              "      <th>0</th>\n",
              "      <td>00010242fe8c5a6d1ba2dd792cb16214</td>\n",
              "      <td>1</td>\n",
              "      <td>4244733e06e7ecb4970a6e2683c13e61</td>\n",
              "      <td>48436dade18ac8b2bce089ec2a041202</td>\n",
              "      <td>2017-09-19 09:45:35</td>\n",
              "      <td>58.90</td>\n",
              "      <td>13.29</td>\n",
              "      <td>27277</td>\n",
              "      <td>volta redonda</td>\n",
              "      <td>SP</td>\n",
              "    </tr>\n",
              "    <tr>\n",
              "      <th>1</th>\n",
              "      <td>00018f77f2f0320c557190d7a144bdd3</td>\n",
              "      <td>1</td>\n",
              "      <td>e5f2d52b802189ee658865ca93d83a8f</td>\n",
              "      <td>dd7ddc04e1b6c2c614352b383efe2d36</td>\n",
              "      <td>2017-05-03 11:05:13</td>\n",
              "      <td>239.90</td>\n",
              "      <td>19.93</td>\n",
              "      <td>3471</td>\n",
              "      <td>sao paulo</td>\n",
              "      <td>SP</td>\n",
              "    </tr>\n",
              "    <tr>\n",
              "      <th>2</th>\n",
              "      <td>000229ec398224ef6ca0657da4fc703e</td>\n",
              "      <td>1</td>\n",
              "      <td>c777355d18b72b67abbeef9df44fd0fd</td>\n",
              "      <td>5b51032eddd242adc84c38acab88f23d</td>\n",
              "      <td>2018-01-18 14:48:30</td>\n",
              "      <td>199.00</td>\n",
              "      <td>17.87</td>\n",
              "      <td>37564</td>\n",
              "      <td>borda da mata</td>\n",
              "      <td>MG</td>\n",
              "    </tr>\n",
              "    <tr>\n",
              "      <th>3</th>\n",
              "      <td>00024acbcdf0a6daa1e931b038114c75</td>\n",
              "      <td>1</td>\n",
              "      <td>7634da152a4610f1595efa32f14722fc</td>\n",
              "      <td>9d7a1d34a5052409006425275ba1c2b4</td>\n",
              "      <td>2018-08-15 10:10:18</td>\n",
              "      <td>12.99</td>\n",
              "      <td>12.79</td>\n",
              "      <td>14403</td>\n",
              "      <td>franca</td>\n",
              "      <td>SP</td>\n",
              "    </tr>\n",
              "    <tr>\n",
              "      <th>4</th>\n",
              "      <td>00042b26cf59d7ce69dfabb4e55b4fd9</td>\n",
              "      <td>1</td>\n",
              "      <td>ac6c3623068f30de03045865e4e10089</td>\n",
              "      <td>df560393f3a51e74553ab94004ba5c87</td>\n",
              "      <td>2017-02-13 13:57:51</td>\n",
              "      <td>199.90</td>\n",
              "      <td>18.14</td>\n",
              "      <td>87900</td>\n",
              "      <td>loanda</td>\n",
              "      <td>PR</td>\n",
              "    </tr>\n",
              "  </tbody>\n",
              "</table>\n",
              "</div>"
            ],
            "text/plain": [
              "                           order_id  order_item_id  \\\n",
              "0  00010242fe8c5a6d1ba2dd792cb16214              1   \n",
              "1  00018f77f2f0320c557190d7a144bdd3              1   \n",
              "2  000229ec398224ef6ca0657da4fc703e              1   \n",
              "3  00024acbcdf0a6daa1e931b038114c75              1   \n",
              "4  00042b26cf59d7ce69dfabb4e55b4fd9              1   \n",
              "\n",
              "                         product_id                         seller_id  \\\n",
              "0  4244733e06e7ecb4970a6e2683c13e61  48436dade18ac8b2bce089ec2a041202   \n",
              "1  e5f2d52b802189ee658865ca93d83a8f  dd7ddc04e1b6c2c614352b383efe2d36   \n",
              "2  c777355d18b72b67abbeef9df44fd0fd  5b51032eddd242adc84c38acab88f23d   \n",
              "3  7634da152a4610f1595efa32f14722fc  9d7a1d34a5052409006425275ba1c2b4   \n",
              "4  ac6c3623068f30de03045865e4e10089  df560393f3a51e74553ab94004ba5c87   \n",
              "\n",
              "  shipping_limit_date   price  freight_value  seller_zip_code_prefix  \\\n",
              "0 2017-09-19 09:45:35   58.90          13.29                   27277   \n",
              "1 2017-05-03 11:05:13  239.90          19.93                    3471   \n",
              "2 2018-01-18 14:48:30  199.00          17.87                   37564   \n",
              "3 2018-08-15 10:10:18   12.99          12.79                   14403   \n",
              "4 2017-02-13 13:57:51  199.90          18.14                   87900   \n",
              "\n",
              "     seller_city seller_state  \n",
              "0  volta redonda           SP  \n",
              "1      sao paulo           SP  \n",
              "2  borda da mata           MG  \n",
              "3         franca           SP  \n",
              "4         loanda           PR  "
            ]
          },
          "execution_count": 42,
          "metadata": {},
          "output_type": "execute_result"
        }
      ],
      "source": [
        "# Merge order_items dan sellers\n",
        "item_seller_df = pd.merge(\n",
        "    left=order_items_df,\n",
        "    right=sellers_df,\n",
        "    how=\"left\",\n",
        "    left_on=\"seller_id\",\n",
        "    right_on=\"seller_id\"\n",
        ")\n",
        "item_seller_df.head()"
      ]
    },
    {
      "cell_type": "code",
      "execution_count": 43,
      "metadata": {
        "colab": {
          "base_uri": "https://localhost:8080/",
          "height": 429
        },
        "id": "tjcNoMjyLpWF",
        "outputId": "bf2dc649-e93e-4d6e-c044-44daf44869a8"
      },
      "outputs": [
        {
          "data": {
            "text/plain": [
              "seller_city\n",
              "sao paulo         694\n",
              "curitiba          127\n",
              "rio de janeiro     96\n",
              "belo horizonte     68\n",
              "ribeirao preto     52\n",
              "guarulhos          50\n",
              "ibitinga           49\n",
              "santo andre        45\n",
              "campinas           41\n",
              "maringa            40\n",
              "Name: seller_id, dtype: int64"
            ]
          },
          "execution_count": 43,
          "metadata": {},
          "output_type": "execute_result"
        }
      ],
      "source": [
        "item_seller_df.groupby(by=\"seller_city\").seller_id.nunique().sort_values(ascending=False).head(10)"
      ]
    },
    {
      "cell_type": "code",
      "execution_count": 44,
      "metadata": {
        "colab": {
          "base_uri": "https://localhost:8080/",
          "height": 429
        },
        "id": "wfnbvIV4LsYH",
        "outputId": "4131a6c6-ae08-4a87-d53b-9fbe7ecd91d3"
      },
      "outputs": [
        {
          "data": {
            "text/plain": [
              "seller_state\n",
              "SP    1849\n",
              "PR     349\n",
              "MG     244\n",
              "SC     190\n",
              "RJ     171\n",
              "RS     129\n",
              "GO      40\n",
              "DF      30\n",
              "ES      23\n",
              "BA      19\n",
              "Name: seller_id, dtype: int64"
            ]
          },
          "execution_count": 44,
          "metadata": {},
          "output_type": "execute_result"
        }
      ],
      "source": [
        "item_seller_df.groupby(by=\"seller_state\").seller_id.nunique().sort_values(ascending=False).head(10)"
      ]
    },
    {
      "cell_type": "markdown",
      "metadata": {
        "id": "WWhPWSIBNrS5"
      },
      "source": [
        "**Explore products dan product_category**"
      ]
    },
    {
      "cell_type": "code",
      "execution_count": 45,
      "metadata": {
        "colab": {
          "base_uri": "https://localhost:8080/",
          "height": 226
        },
        "id": "al2zKrztNtX8",
        "outputId": "28860f9d-b81c-43cc-b4d0-08e6460de939"
      },
      "outputs": [
        {
          "data": {
            "application/vnd.microsoft.datawrangler.viewer.v0+json": {
              "columns": [
                {
                  "name": "index",
                  "rawType": "int64",
                  "type": "integer"
                },
                {
                  "name": "product_id",
                  "rawType": "object",
                  "type": "string"
                },
                {
                  "name": "product_category_name",
                  "rawType": "object",
                  "type": "string"
                },
                {
                  "name": "product_name_lenght",
                  "rawType": "float64",
                  "type": "float"
                },
                {
                  "name": "product_description_lenght",
                  "rawType": "float64",
                  "type": "float"
                },
                {
                  "name": "product_photos_qty",
                  "rawType": "float64",
                  "type": "float"
                },
                {
                  "name": "product_weight_g",
                  "rawType": "float64",
                  "type": "float"
                },
                {
                  "name": "product_length_cm",
                  "rawType": "float64",
                  "type": "float"
                },
                {
                  "name": "product_height_cm",
                  "rawType": "float64",
                  "type": "float"
                },
                {
                  "name": "product_width_cm",
                  "rawType": "float64",
                  "type": "float"
                },
                {
                  "name": "product_category_name_english",
                  "rawType": "object",
                  "type": "string"
                }
              ],
              "conversionMethod": "pd.DataFrame",
              "ref": "dad001d6-1478-4ab6-a4ce-2f4da71f1ea9",
              "rows": [
                [
                  "0",
                  "1e9e8ef04dbcff4541ed26657ea517e5",
                  "perfumaria",
                  "40.0",
                  "287.0",
                  "1.0",
                  "225.0",
                  "16.0",
                  "10.0",
                  "14.0",
                  "perfumery"
                ],
                [
                  "1",
                  "3aa071139cb16b67ca9e5dea641aaa2f",
                  "artes",
                  "44.0",
                  "276.0",
                  "1.0",
                  "1000.0",
                  "30.0",
                  "18.0",
                  "20.0",
                  "art"
                ],
                [
                  "2",
                  "96bd76ec8810374ed1b65e291975717f",
                  "esporte_lazer",
                  "46.0",
                  "250.0",
                  "1.0",
                  "154.0",
                  "18.0",
                  "9.0",
                  "15.0",
                  "sports_leisure"
                ],
                [
                  "3",
                  "cef67bcfe19066a932b7673e239eb23d",
                  "bebes",
                  "27.0",
                  "261.0",
                  "1.0",
                  "371.0",
                  "26.0",
                  "4.0",
                  "26.0",
                  "baby"
                ],
                [
                  "4",
                  "9dc1a7de274444849c219cff195d0b71",
                  "utilidades_domesticas",
                  "37.0",
                  "402.0",
                  "4.0",
                  "625.0",
                  "20.0",
                  "17.0",
                  "13.0",
                  "housewares"
                ]
              ],
              "shape": {
                "columns": 10,
                "rows": 5
              }
            },
            "text/html": [
              "<div>\n",
              "<style scoped>\n",
              "    .dataframe tbody tr th:only-of-type {\n",
              "        vertical-align: middle;\n",
              "    }\n",
              "\n",
              "    .dataframe tbody tr th {\n",
              "        vertical-align: top;\n",
              "    }\n",
              "\n",
              "    .dataframe thead th {\n",
              "        text-align: right;\n",
              "    }\n",
              "</style>\n",
              "<table border=\"1\" class=\"dataframe\">\n",
              "  <thead>\n",
              "    <tr style=\"text-align: right;\">\n",
              "      <th></th>\n",
              "      <th>product_id</th>\n",
              "      <th>product_category_name</th>\n",
              "      <th>product_name_lenght</th>\n",
              "      <th>product_description_lenght</th>\n",
              "      <th>product_photos_qty</th>\n",
              "      <th>product_weight_g</th>\n",
              "      <th>product_length_cm</th>\n",
              "      <th>product_height_cm</th>\n",
              "      <th>product_width_cm</th>\n",
              "      <th>product_category_name_english</th>\n",
              "    </tr>\n",
              "  </thead>\n",
              "  <tbody>\n",
              "    <tr>\n",
              "      <th>0</th>\n",
              "      <td>1e9e8ef04dbcff4541ed26657ea517e5</td>\n",
              "      <td>perfumaria</td>\n",
              "      <td>40.0</td>\n",
              "      <td>287.0</td>\n",
              "      <td>1.0</td>\n",
              "      <td>225.0</td>\n",
              "      <td>16.0</td>\n",
              "      <td>10.0</td>\n",
              "      <td>14.0</td>\n",
              "      <td>perfumery</td>\n",
              "    </tr>\n",
              "    <tr>\n",
              "      <th>1</th>\n",
              "      <td>3aa071139cb16b67ca9e5dea641aaa2f</td>\n",
              "      <td>artes</td>\n",
              "      <td>44.0</td>\n",
              "      <td>276.0</td>\n",
              "      <td>1.0</td>\n",
              "      <td>1000.0</td>\n",
              "      <td>30.0</td>\n",
              "      <td>18.0</td>\n",
              "      <td>20.0</td>\n",
              "      <td>art</td>\n",
              "    </tr>\n",
              "    <tr>\n",
              "      <th>2</th>\n",
              "      <td>96bd76ec8810374ed1b65e291975717f</td>\n",
              "      <td>esporte_lazer</td>\n",
              "      <td>46.0</td>\n",
              "      <td>250.0</td>\n",
              "      <td>1.0</td>\n",
              "      <td>154.0</td>\n",
              "      <td>18.0</td>\n",
              "      <td>9.0</td>\n",
              "      <td>15.0</td>\n",
              "      <td>sports_leisure</td>\n",
              "    </tr>\n",
              "    <tr>\n",
              "      <th>3</th>\n",
              "      <td>cef67bcfe19066a932b7673e239eb23d</td>\n",
              "      <td>bebes</td>\n",
              "      <td>27.0</td>\n",
              "      <td>261.0</td>\n",
              "      <td>1.0</td>\n",
              "      <td>371.0</td>\n",
              "      <td>26.0</td>\n",
              "      <td>4.0</td>\n",
              "      <td>26.0</td>\n",
              "      <td>baby</td>\n",
              "    </tr>\n",
              "    <tr>\n",
              "      <th>4</th>\n",
              "      <td>9dc1a7de274444849c219cff195d0b71</td>\n",
              "      <td>utilidades_domesticas</td>\n",
              "      <td>37.0</td>\n",
              "      <td>402.0</td>\n",
              "      <td>4.0</td>\n",
              "      <td>625.0</td>\n",
              "      <td>20.0</td>\n",
              "      <td>17.0</td>\n",
              "      <td>13.0</td>\n",
              "      <td>housewares</td>\n",
              "    </tr>\n",
              "  </tbody>\n",
              "</table>\n",
              "</div>"
            ],
            "text/plain": [
              "                         product_id  product_category_name  \\\n",
              "0  1e9e8ef04dbcff4541ed26657ea517e5             perfumaria   \n",
              "1  3aa071139cb16b67ca9e5dea641aaa2f                  artes   \n",
              "2  96bd76ec8810374ed1b65e291975717f          esporte_lazer   \n",
              "3  cef67bcfe19066a932b7673e239eb23d                  bebes   \n",
              "4  9dc1a7de274444849c219cff195d0b71  utilidades_domesticas   \n",
              "\n",
              "   product_name_lenght  product_description_lenght  product_photos_qty  \\\n",
              "0                 40.0                       287.0                 1.0   \n",
              "1                 44.0                       276.0                 1.0   \n",
              "2                 46.0                       250.0                 1.0   \n",
              "3                 27.0                       261.0                 1.0   \n",
              "4                 37.0                       402.0                 4.0   \n",
              "\n",
              "   product_weight_g  product_length_cm  product_height_cm  product_width_cm  \\\n",
              "0             225.0               16.0               10.0              14.0   \n",
              "1            1000.0               30.0               18.0              20.0   \n",
              "2             154.0               18.0                9.0              15.0   \n",
              "3             371.0               26.0                4.0              26.0   \n",
              "4             625.0               20.0               17.0              13.0   \n",
              "\n",
              "  product_category_name_english  \n",
              "0                     perfumery  \n",
              "1                           art  \n",
              "2                sports_leisure  \n",
              "3                          baby  \n",
              "4                    housewares  "
            ]
          },
          "execution_count": 45,
          "metadata": {},
          "output_type": "execute_result"
        }
      ],
      "source": [
        "# Merge products dan product_category\n",
        "products_df = pd.merge(\n",
        "    left=products_df,\n",
        "    right=product_category_df,\n",
        "    how=\"left\",\n",
        "    left_on=\"product_category_name\",\n",
        "    right_on=\"product_category_name\"\n",
        ")\n",
        "products_df.head()"
      ]
    },
    {
      "cell_type": "code",
      "execution_count": 46,
      "metadata": {
        "colab": {
          "base_uri": "https://localhost:8080/",
          "height": 489
        },
        "id": "2sH_6hkGVha3",
        "outputId": "901fc869-db43-4103-bb82-254e9969dac0"
      },
      "outputs": [
        {
          "data": {
            "text/plain": [
              "product_category_name_english\n",
              "bed_bath_table               3029\n",
              "sports_leisure               2867\n",
              "furniture_decor              2657\n",
              "health_beauty                2444\n",
              "housewares                   2335\n",
              "                             ... \n",
              "tablets_printing_image          9\n",
              "home_comfort_2                  5\n",
              "fashion_childrens_clothes       5\n",
              "security_and_services           2\n",
              "cds_dvds_musicals               1\n",
              "Name: product_id, Length: 71, dtype: int64"
            ]
          },
          "execution_count": 46,
          "metadata": {},
          "output_type": "execute_result"
        }
      ],
      "source": [
        "products_df.groupby(by=\"product_category_name_english\").product_id.nunique().sort_values(ascending=False)"
      ]
    },
    {
      "cell_type": "markdown",
      "metadata": {
        "id": "57qFWZ2GVk0S"
      },
      "source": [
        "**Explore item_seller dan products**"
      ]
    },
    {
      "cell_type": "code",
      "execution_count": 47,
      "metadata": {
        "colab": {
          "base_uri": "https://localhost:8080/",
          "height": 226
        },
        "id": "VZQKo7ejVmvU",
        "outputId": "8b468a09-a342-40e6-aa26-096e9118cbfe"
      },
      "outputs": [
        {
          "data": {
            "application/vnd.microsoft.datawrangler.viewer.v0+json": {
              "columns": [
                {
                  "name": "index",
                  "rawType": "int64",
                  "type": "integer"
                },
                {
                  "name": "product_id",
                  "rawType": "object",
                  "type": "string"
                },
                {
                  "name": "product_category_name",
                  "rawType": "object",
                  "type": "string"
                },
                {
                  "name": "product_name_lenght",
                  "rawType": "float64",
                  "type": "float"
                },
                {
                  "name": "product_description_lenght",
                  "rawType": "float64",
                  "type": "float"
                },
                {
                  "name": "product_photos_qty",
                  "rawType": "float64",
                  "type": "float"
                },
                {
                  "name": "product_weight_g",
                  "rawType": "float64",
                  "type": "float"
                },
                {
                  "name": "product_length_cm",
                  "rawType": "float64",
                  "type": "float"
                },
                {
                  "name": "product_height_cm",
                  "rawType": "float64",
                  "type": "float"
                },
                {
                  "name": "product_width_cm",
                  "rawType": "float64",
                  "type": "float"
                },
                {
                  "name": "product_category_name_english",
                  "rawType": "object",
                  "type": "string"
                },
                {
                  "name": "order_id",
                  "rawType": "object",
                  "type": "string"
                },
                {
                  "name": "order_item_id",
                  "rawType": "int64",
                  "type": "integer"
                },
                {
                  "name": "seller_id",
                  "rawType": "object",
                  "type": "string"
                },
                {
                  "name": "shipping_limit_date",
                  "rawType": "datetime64[ns]",
                  "type": "datetime"
                },
                {
                  "name": "price",
                  "rawType": "float64",
                  "type": "float"
                },
                {
                  "name": "freight_value",
                  "rawType": "float64",
                  "type": "float"
                },
                {
                  "name": "seller_zip_code_prefix",
                  "rawType": "int64",
                  "type": "integer"
                },
                {
                  "name": "seller_city",
                  "rawType": "object",
                  "type": "string"
                },
                {
                  "name": "seller_state",
                  "rawType": "object",
                  "type": "string"
                }
              ],
              "conversionMethod": "pd.DataFrame",
              "ref": "e3ceaf10-6708-4e38-bb87-3b0528a7149c",
              "rows": [
                [
                  "0",
                  "1e9e8ef04dbcff4541ed26657ea517e5",
                  "perfumaria",
                  "40.0",
                  "287.0",
                  "1.0",
                  "225.0",
                  "16.0",
                  "10.0",
                  "14.0",
                  "perfumery",
                  "e17e4f88e31525f7deef66779844ddce",
                  "1",
                  "5670f4db5b62c43d542e1b2d56b0cf7c",
                  "2018-04-30 17:33:54",
                  "10.91",
                  "7.39",
                  "3694",
                  "sao paulo",
                  "SP"
                ],
                [
                  "1",
                  "3aa071139cb16b67ca9e5dea641aaa2f",
                  "artes",
                  "44.0",
                  "276.0",
                  "1.0",
                  "1000.0",
                  "30.0",
                  "18.0",
                  "20.0",
                  "art",
                  "5236307716393b7114b53ee991f36956",
                  "1",
                  "b561927807645834b59ef0d16ba55a24",
                  "2018-02-06 19:11:15",
                  "248.0",
                  "17.99",
                  "2955",
                  "sao paulo",
                  "SP"
                ],
                [
                  "2",
                  "96bd76ec8810374ed1b65e291975717f",
                  "esporte_lazer",
                  "46.0",
                  "250.0",
                  "1.0",
                  "154.0",
                  "18.0",
                  "9.0",
                  "15.0",
                  "sports_leisure",
                  "01f66e58769f84129811d43eefd187fb",
                  "1",
                  "7b07b3c7487f0ea825fc6df75abd658b",
                  "2018-07-11 21:30:20",
                  "79.8",
                  "7.82",
                  "2016",
                  "sao paulo",
                  "SP"
                ],
                [
                  "3",
                  "cef67bcfe19066a932b7673e239eb23d",
                  "bebes",
                  "27.0",
                  "261.0",
                  "1.0",
                  "371.0",
                  "26.0",
                  "4.0",
                  "26.0",
                  "baby",
                  "143d00a4f2dde4e0364ee1821577adb3",
                  "1",
                  "c510bc1718f0f2961eaa42a23330681a",
                  "2018-08-07 09:10:13",
                  "112.3",
                  "9.54",
                  "13330",
                  "indaiatuba",
                  "SP"
                ],
                [
                  "4",
                  "9dc1a7de274444849c219cff195d0b71",
                  "utilidades_domesticas",
                  "37.0",
                  "402.0",
                  "4.0",
                  "625.0",
                  "20.0",
                  "17.0",
                  "13.0",
                  "housewares",
                  "86cafb8794cb99a9b1b77fc8e48fbbbb",
                  "1",
                  "0be8ff43f22e456b4e0371b2245e4d01",
                  "2018-04-17 01:30:23",
                  "37.9",
                  "8.29",
                  "4461",
                  "sao paulo",
                  "SP"
                ]
              ],
              "shape": {
                "columns": 19,
                "rows": 5
              }
            },
            "text/html": [
              "<div>\n",
              "<style scoped>\n",
              "    .dataframe tbody tr th:only-of-type {\n",
              "        vertical-align: middle;\n",
              "    }\n",
              "\n",
              "    .dataframe tbody tr th {\n",
              "        vertical-align: top;\n",
              "    }\n",
              "\n",
              "    .dataframe thead th {\n",
              "        text-align: right;\n",
              "    }\n",
              "</style>\n",
              "<table border=\"1\" class=\"dataframe\">\n",
              "  <thead>\n",
              "    <tr style=\"text-align: right;\">\n",
              "      <th></th>\n",
              "      <th>product_id</th>\n",
              "      <th>product_category_name</th>\n",
              "      <th>product_name_lenght</th>\n",
              "      <th>product_description_lenght</th>\n",
              "      <th>product_photos_qty</th>\n",
              "      <th>product_weight_g</th>\n",
              "      <th>product_length_cm</th>\n",
              "      <th>product_height_cm</th>\n",
              "      <th>product_width_cm</th>\n",
              "      <th>product_category_name_english</th>\n",
              "      <th>order_id</th>\n",
              "      <th>order_item_id</th>\n",
              "      <th>seller_id</th>\n",
              "      <th>shipping_limit_date</th>\n",
              "      <th>price</th>\n",
              "      <th>freight_value</th>\n",
              "      <th>seller_zip_code_prefix</th>\n",
              "      <th>seller_city</th>\n",
              "      <th>seller_state</th>\n",
              "    </tr>\n",
              "  </thead>\n",
              "  <tbody>\n",
              "    <tr>\n",
              "      <th>0</th>\n",
              "      <td>1e9e8ef04dbcff4541ed26657ea517e5</td>\n",
              "      <td>perfumaria</td>\n",
              "      <td>40.0</td>\n",
              "      <td>287.0</td>\n",
              "      <td>1.0</td>\n",
              "      <td>225.0</td>\n",
              "      <td>16.0</td>\n",
              "      <td>10.0</td>\n",
              "      <td>14.0</td>\n",
              "      <td>perfumery</td>\n",
              "      <td>e17e4f88e31525f7deef66779844ddce</td>\n",
              "      <td>1</td>\n",
              "      <td>5670f4db5b62c43d542e1b2d56b0cf7c</td>\n",
              "      <td>2018-04-30 17:33:54</td>\n",
              "      <td>10.91</td>\n",
              "      <td>7.39</td>\n",
              "      <td>3694</td>\n",
              "      <td>sao paulo</td>\n",
              "      <td>SP</td>\n",
              "    </tr>\n",
              "    <tr>\n",
              "      <th>1</th>\n",
              "      <td>3aa071139cb16b67ca9e5dea641aaa2f</td>\n",
              "      <td>artes</td>\n",
              "      <td>44.0</td>\n",
              "      <td>276.0</td>\n",
              "      <td>1.0</td>\n",
              "      <td>1000.0</td>\n",
              "      <td>30.0</td>\n",
              "      <td>18.0</td>\n",
              "      <td>20.0</td>\n",
              "      <td>art</td>\n",
              "      <td>5236307716393b7114b53ee991f36956</td>\n",
              "      <td>1</td>\n",
              "      <td>b561927807645834b59ef0d16ba55a24</td>\n",
              "      <td>2018-02-06 19:11:15</td>\n",
              "      <td>248.00</td>\n",
              "      <td>17.99</td>\n",
              "      <td>2955</td>\n",
              "      <td>sao paulo</td>\n",
              "      <td>SP</td>\n",
              "    </tr>\n",
              "    <tr>\n",
              "      <th>2</th>\n",
              "      <td>96bd76ec8810374ed1b65e291975717f</td>\n",
              "      <td>esporte_lazer</td>\n",
              "      <td>46.0</td>\n",
              "      <td>250.0</td>\n",
              "      <td>1.0</td>\n",
              "      <td>154.0</td>\n",
              "      <td>18.0</td>\n",
              "      <td>9.0</td>\n",
              "      <td>15.0</td>\n",
              "      <td>sports_leisure</td>\n",
              "      <td>01f66e58769f84129811d43eefd187fb</td>\n",
              "      <td>1</td>\n",
              "      <td>7b07b3c7487f0ea825fc6df75abd658b</td>\n",
              "      <td>2018-07-11 21:30:20</td>\n",
              "      <td>79.80</td>\n",
              "      <td>7.82</td>\n",
              "      <td>2016</td>\n",
              "      <td>sao paulo</td>\n",
              "      <td>SP</td>\n",
              "    </tr>\n",
              "    <tr>\n",
              "      <th>3</th>\n",
              "      <td>cef67bcfe19066a932b7673e239eb23d</td>\n",
              "      <td>bebes</td>\n",
              "      <td>27.0</td>\n",
              "      <td>261.0</td>\n",
              "      <td>1.0</td>\n",
              "      <td>371.0</td>\n",
              "      <td>26.0</td>\n",
              "      <td>4.0</td>\n",
              "      <td>26.0</td>\n",
              "      <td>baby</td>\n",
              "      <td>143d00a4f2dde4e0364ee1821577adb3</td>\n",
              "      <td>1</td>\n",
              "      <td>c510bc1718f0f2961eaa42a23330681a</td>\n",
              "      <td>2018-08-07 09:10:13</td>\n",
              "      <td>112.30</td>\n",
              "      <td>9.54</td>\n",
              "      <td>13330</td>\n",
              "      <td>indaiatuba</td>\n",
              "      <td>SP</td>\n",
              "    </tr>\n",
              "    <tr>\n",
              "      <th>4</th>\n",
              "      <td>9dc1a7de274444849c219cff195d0b71</td>\n",
              "      <td>utilidades_domesticas</td>\n",
              "      <td>37.0</td>\n",
              "      <td>402.0</td>\n",
              "      <td>4.0</td>\n",
              "      <td>625.0</td>\n",
              "      <td>20.0</td>\n",
              "      <td>17.0</td>\n",
              "      <td>13.0</td>\n",
              "      <td>housewares</td>\n",
              "      <td>86cafb8794cb99a9b1b77fc8e48fbbbb</td>\n",
              "      <td>1</td>\n",
              "      <td>0be8ff43f22e456b4e0371b2245e4d01</td>\n",
              "      <td>2018-04-17 01:30:23</td>\n",
              "      <td>37.90</td>\n",
              "      <td>8.29</td>\n",
              "      <td>4461</td>\n",
              "      <td>sao paulo</td>\n",
              "      <td>SP</td>\n",
              "    </tr>\n",
              "  </tbody>\n",
              "</table>\n",
              "</div>"
            ],
            "text/plain": [
              "                         product_id  product_category_name  \\\n",
              "0  1e9e8ef04dbcff4541ed26657ea517e5             perfumaria   \n",
              "1  3aa071139cb16b67ca9e5dea641aaa2f                  artes   \n",
              "2  96bd76ec8810374ed1b65e291975717f          esporte_lazer   \n",
              "3  cef67bcfe19066a932b7673e239eb23d                  bebes   \n",
              "4  9dc1a7de274444849c219cff195d0b71  utilidades_domesticas   \n",
              "\n",
              "   product_name_lenght  product_description_lenght  product_photos_qty  \\\n",
              "0                 40.0                       287.0                 1.0   \n",
              "1                 44.0                       276.0                 1.0   \n",
              "2                 46.0                       250.0                 1.0   \n",
              "3                 27.0                       261.0                 1.0   \n",
              "4                 37.0                       402.0                 4.0   \n",
              "\n",
              "   product_weight_g  product_length_cm  product_height_cm  product_width_cm  \\\n",
              "0             225.0               16.0               10.0              14.0   \n",
              "1            1000.0               30.0               18.0              20.0   \n",
              "2             154.0               18.0                9.0              15.0   \n",
              "3             371.0               26.0                4.0              26.0   \n",
              "4             625.0               20.0               17.0              13.0   \n",
              "\n",
              "  product_category_name_english                          order_id  \\\n",
              "0                     perfumery  e17e4f88e31525f7deef66779844ddce   \n",
              "1                           art  5236307716393b7114b53ee991f36956   \n",
              "2                sports_leisure  01f66e58769f84129811d43eefd187fb   \n",
              "3                          baby  143d00a4f2dde4e0364ee1821577adb3   \n",
              "4                    housewares  86cafb8794cb99a9b1b77fc8e48fbbbb   \n",
              "\n",
              "   order_item_id                         seller_id shipping_limit_date  \\\n",
              "0              1  5670f4db5b62c43d542e1b2d56b0cf7c 2018-04-30 17:33:54   \n",
              "1              1  b561927807645834b59ef0d16ba55a24 2018-02-06 19:11:15   \n",
              "2              1  7b07b3c7487f0ea825fc6df75abd658b 2018-07-11 21:30:20   \n",
              "3              1  c510bc1718f0f2961eaa42a23330681a 2018-08-07 09:10:13   \n",
              "4              1  0be8ff43f22e456b4e0371b2245e4d01 2018-04-17 01:30:23   \n",
              "\n",
              "    price  freight_value  seller_zip_code_prefix seller_city seller_state  \n",
              "0   10.91           7.39                    3694   sao paulo           SP  \n",
              "1  248.00          17.99                    2955   sao paulo           SP  \n",
              "2   79.80           7.82                    2016   sao paulo           SP  \n",
              "3  112.30           9.54                   13330  indaiatuba           SP  \n",
              "4   37.90           8.29                    4461   sao paulo           SP  "
            ]
          },
          "execution_count": 47,
          "metadata": {},
          "output_type": "execute_result"
        }
      ],
      "source": [
        "sellers_df = pd.merge(\n",
        "    left=products_df,\n",
        "    right=item_seller_df,\n",
        "    how=\"left\",\n",
        "    left_on=\"product_id\",\n",
        "    right_on=\"product_id\"\n",
        ")\n",
        "sellers_df.head()"
      ]
    },
    {
      "cell_type": "code",
      "execution_count": 48,
      "metadata": {
        "colab": {
          "base_uri": "https://localhost:8080/",
          "height": 486
        },
        "id": "r-XZOd6UV2dn",
        "outputId": "6a6a82da-bd3d-4556-fb20-7516f30b404b"
      },
      "outputs": [
        {
          "data": {
            "application/vnd.microsoft.datawrangler.viewer.v0+json": {
              "columns": [
                {
                  "name": "product_category_name_english",
                  "rawType": "object",
                  "type": "string"
                },
                {
                  "name": "('order_id', 'nunique')",
                  "rawType": "int64",
                  "type": "integer"
                },
                {
                  "name": "('price', 'min')",
                  "rawType": "float64",
                  "type": "float"
                },
                {
                  "name": "('price', 'max')",
                  "rawType": "float64",
                  "type": "float"
                }
              ],
              "conversionMethod": "pd.DataFrame",
              "ref": "6ead2f7b-24e0-446c-a7a1-0d5eeac39f25",
              "rows": [
                [
                  "agro_industry_and_commerce",
                  "182",
                  "12.99",
                  "2990.0"
                ],
                [
                  "air_conditioning",
                  "253",
                  "10.9",
                  "1599.0"
                ],
                [
                  "art",
                  "202",
                  "3.5",
                  "6499.0"
                ],
                [
                  "arts_and_craftmanship",
                  "23",
                  "9.8",
                  "289.49"
                ],
                [
                  "audio",
                  "350",
                  "14.9",
                  "598.99"
                ],
                [
                  "auto",
                  "3897",
                  "3.49",
                  "2258.0"
                ],
                [
                  "baby",
                  "2885",
                  "3.54",
                  "3899.0"
                ],
                [
                  "bed_bath_table",
                  "9417",
                  "6.99",
                  "1999.98"
                ],
                [
                  "books_general_interest",
                  "512",
                  "6.0",
                  "899.9"
                ],
                [
                  "books_imported",
                  "53",
                  "18.99",
                  "749.0"
                ],
                [
                  "books_technical",
                  "260",
                  "9.95",
                  "384.93"
                ],
                [
                  "cds_dvds_musicals",
                  "12",
                  "45.0",
                  "65.0"
                ],
                [
                  "christmas_supplies",
                  "128",
                  "5.5",
                  "295.0"
                ],
                [
                  "cine_photo",
                  "65",
                  "6.8",
                  "873.99"
                ],
                [
                  "computers",
                  "181",
                  "34.5",
                  "6729.0"
                ],
                [
                  "computers_accessories",
                  "6689",
                  "3.9",
                  "3699.99"
                ],
                [
                  "consoles_games",
                  "1062",
                  "5.18",
                  "4099.99"
                ],
                [
                  "construction_tools_construction",
                  "748",
                  "0.85",
                  "2300.0"
                ],
                [
                  "construction_tools_lights",
                  "244",
                  "12.51",
                  "1290.0"
                ],
                [
                  "construction_tools_safety",
                  "167",
                  "8.9",
                  "3099.9"
                ],
                [
                  "cool_stuff",
                  "3632",
                  "7.0",
                  "3109.99"
                ],
                [
                  "costruction_tools_garden",
                  "194",
                  "8.82",
                  "1349.9"
                ],
                [
                  "costruction_tools_tools",
                  "97",
                  "6.8",
                  "1899.0"
                ],
                [
                  "diapers_and_hygiene",
                  "27",
                  "25.0",
                  "139.89"
                ],
                [
                  "drinks",
                  "297",
                  "6.0",
                  "623.0"
                ],
                [
                  "dvds_blu_ray",
                  "59",
                  "8.9",
                  "1420.0"
                ],
                [
                  "electronics",
                  "2550",
                  "3.99",
                  "2470.5"
                ],
                [
                  "fashio_female_clothing",
                  "39",
                  "19.9",
                  "198.9"
                ],
                [
                  "fashion_bags_accessories",
                  "1864",
                  "6.0",
                  "1699.99"
                ],
                [
                  "fashion_childrens_clothes",
                  "8",
                  "39.99",
                  "110.0"
                ],
                [
                  "fashion_male_clothing",
                  "112",
                  "14.9",
                  "292.5"
                ],
                [
                  "fashion_shoes",
                  "240",
                  "25.9",
                  "365.0"
                ],
                [
                  "fashion_sport",
                  "27",
                  "24.99",
                  "225.0"
                ],
                [
                  "fashion_underwear_beach",
                  "121",
                  "3.9",
                  "192.0"
                ],
                [
                  "fixed_telephony",
                  "217",
                  "6.0",
                  "1790.0"
                ],
                [
                  "flowers",
                  "29",
                  "15.6",
                  "65.9"
                ],
                [
                  "food",
                  "450",
                  "9.99",
                  "274.99"
                ],
                [
                  "food_drink",
                  "227",
                  "6.5",
                  "699.9"
                ],
                [
                  "furniture_bedroom",
                  "95",
                  "6.9",
                  "650.0"
                ],
                [
                  "furniture_decor",
                  "6449",
                  "4.9",
                  "1899.0"
                ],
                [
                  "furniture_living_room",
                  "422",
                  "13.9",
                  "839.99"
                ],
                [
                  "furniture_mattress_and_upholstery",
                  "38",
                  "44.7",
                  "399.99"
                ],
                [
                  "garden_tools",
                  "3518",
                  "6.35",
                  "3930.0"
                ],
                [
                  "health_beauty",
                  "8836",
                  "1.2",
                  "3124.0"
                ],
                [
                  "home_appliances",
                  "764",
                  "6.19",
                  "2090.0"
                ],
                [
                  "home_appliances_2",
                  "234",
                  "13.9",
                  "2350.0"
                ],
                [
                  "home_comfort_2",
                  "24",
                  "12.9",
                  "219.99"
                ],
                [
                  "home_confort",
                  "397",
                  "6.99",
                  "799.0"
                ],
                [
                  "home_construction",
                  "490",
                  "8.97",
                  "1097.99"
                ],
                [
                  "housewares",
                  "5884",
                  "3.06",
                  "6735.0"
                ]
              ],
              "shape": {
                "columns": 3,
                "rows": 71
              }
            },
            "text/html": [
              "<div>\n",
              "<style scoped>\n",
              "    .dataframe tbody tr th:only-of-type {\n",
              "        vertical-align: middle;\n",
              "    }\n",
              "\n",
              "    .dataframe tbody tr th {\n",
              "        vertical-align: top;\n",
              "    }\n",
              "\n",
              "    .dataframe thead tr th {\n",
              "        text-align: left;\n",
              "    }\n",
              "\n",
              "    .dataframe thead tr:last-of-type th {\n",
              "        text-align: right;\n",
              "    }\n",
              "</style>\n",
              "<table border=\"1\" class=\"dataframe\">\n",
              "  <thead>\n",
              "    <tr>\n",
              "      <th></th>\n",
              "      <th>order_id</th>\n",
              "      <th colspan=\"2\" halign=\"left\">price</th>\n",
              "    </tr>\n",
              "    <tr>\n",
              "      <th></th>\n",
              "      <th>nunique</th>\n",
              "      <th>min</th>\n",
              "      <th>max</th>\n",
              "    </tr>\n",
              "    <tr>\n",
              "      <th>product_category_name_english</th>\n",
              "      <th></th>\n",
              "      <th></th>\n",
              "      <th></th>\n",
              "    </tr>\n",
              "  </thead>\n",
              "  <tbody>\n",
              "    <tr>\n",
              "      <th>agro_industry_and_commerce</th>\n",
              "      <td>182</td>\n",
              "      <td>12.99</td>\n",
              "      <td>2990.00</td>\n",
              "    </tr>\n",
              "    <tr>\n",
              "      <th>air_conditioning</th>\n",
              "      <td>253</td>\n",
              "      <td>10.90</td>\n",
              "      <td>1599.00</td>\n",
              "    </tr>\n",
              "    <tr>\n",
              "      <th>art</th>\n",
              "      <td>202</td>\n",
              "      <td>3.50</td>\n",
              "      <td>6499.00</td>\n",
              "    </tr>\n",
              "    <tr>\n",
              "      <th>arts_and_craftmanship</th>\n",
              "      <td>23</td>\n",
              "      <td>9.80</td>\n",
              "      <td>289.49</td>\n",
              "    </tr>\n",
              "    <tr>\n",
              "      <th>audio</th>\n",
              "      <td>350</td>\n",
              "      <td>14.90</td>\n",
              "      <td>598.99</td>\n",
              "    </tr>\n",
              "    <tr>\n",
              "      <th>...</th>\n",
              "      <td>...</td>\n",
              "      <td>...</td>\n",
              "      <td>...</td>\n",
              "    </tr>\n",
              "    <tr>\n",
              "      <th>stationery</th>\n",
              "      <td>2311</td>\n",
              "      <td>2.29</td>\n",
              "      <td>1693.00</td>\n",
              "    </tr>\n",
              "    <tr>\n",
              "      <th>tablets_printing_image</th>\n",
              "      <td>79</td>\n",
              "      <td>14.90</td>\n",
              "      <td>889.99</td>\n",
              "    </tr>\n",
              "    <tr>\n",
              "      <th>telephony</th>\n",
              "      <td>4199</td>\n",
              "      <td>5.00</td>\n",
              "      <td>2428.00</td>\n",
              "    </tr>\n",
              "    <tr>\n",
              "      <th>toys</th>\n",
              "      <td>3886</td>\n",
              "      <td>4.90</td>\n",
              "      <td>1699.99</td>\n",
              "    </tr>\n",
              "    <tr>\n",
              "      <th>watches_gifts</th>\n",
              "      <td>5624</td>\n",
              "      <td>8.99</td>\n",
              "      <td>3999.90</td>\n",
              "    </tr>\n",
              "  </tbody>\n",
              "</table>\n",
              "<p>71 rows × 3 columns</p>\n",
              "</div>"
            ],
            "text/plain": [
              "                              order_id  price         \n",
              "                               nunique    min      max\n",
              "product_category_name_english                         \n",
              "agro_industry_and_commerce         182  12.99  2990.00\n",
              "air_conditioning                   253  10.90  1599.00\n",
              "art                                202   3.50  6499.00\n",
              "arts_and_craftmanship               23   9.80   289.49\n",
              "audio                              350  14.90   598.99\n",
              "...                                ...    ...      ...\n",
              "stationery                        2311   2.29  1693.00\n",
              "tablets_printing_image              79  14.90   889.99\n",
              "telephony                         4199   5.00  2428.00\n",
              "toys                              3886   4.90  1699.99\n",
              "watches_gifts                     5624   8.99  3999.90\n",
              "\n",
              "[71 rows x 3 columns]"
            ]
          },
          "execution_count": 48,
          "metadata": {},
          "output_type": "execute_result"
        }
      ],
      "source": [
        "sellers_df.groupby(by=\"product_category_name_english\").agg({\n",
        "    \"order_id\": \"nunique\",\n",
        "    \"price\":  [\"min\", \"max\"]\n",
        "})"
      ]
    },
    {
      "cell_type": "markdown",
      "metadata": {
        "id": "HscV963uV7s5"
      },
      "source": [
        "### **Explore All Data**"
      ]
    },
    {
      "cell_type": "code",
      "execution_count": 49,
      "metadata": {
        "colab": {
          "base_uri": "https://localhost:8080/",
          "height": 290
        },
        "id": "JJTUyhSWV9di",
        "outputId": "ebbd43db-7e48-44a0-e646-8887850f06fa"
      },
      "outputs": [
        {
          "data": {
            "application/vnd.microsoft.datawrangler.viewer.v0+json": {
              "columns": [
                {
                  "name": "index",
                  "rawType": "int64",
                  "type": "integer"
                },
                {
                  "name": "customer_id",
                  "rawType": "object",
                  "type": "string"
                },
                {
                  "name": "customer_unique_id",
                  "rawType": "object",
                  "type": "string"
                },
                {
                  "name": "customer_zip_code_prefix",
                  "rawType": "int64",
                  "type": "integer"
                },
                {
                  "name": "customer_city",
                  "rawType": "object",
                  "type": "string"
                },
                {
                  "name": "customer_state",
                  "rawType": "object",
                  "type": "string"
                },
                {
                  "name": "order_id",
                  "rawType": "object",
                  "type": "string"
                },
                {
                  "name": "order_status",
                  "rawType": "object",
                  "type": "string"
                },
                {
                  "name": "order_purchase_timestamp",
                  "rawType": "datetime64[ns]",
                  "type": "datetime"
                },
                {
                  "name": "order_approved_at",
                  "rawType": "datetime64[ns]",
                  "type": "datetime"
                },
                {
                  "name": "order_delivered_carrier_date",
                  "rawType": "datetime64[ns]",
                  "type": "datetime"
                },
                {
                  "name": "order_delivered_customer_date",
                  "rawType": "datetime64[ns]",
                  "type": "datetime"
                },
                {
                  "name": "order_estimated_delivery_date",
                  "rawType": "datetime64[ns]",
                  "type": "datetime"
                },
                {
                  "name": "delivery_time",
                  "rawType": "float64",
                  "type": "float"
                },
                {
                  "name": "payment_sequential",
                  "rawType": "float64",
                  "type": "float"
                },
                {
                  "name": "payment_type",
                  "rawType": "object",
                  "type": "string"
                },
                {
                  "name": "payment_installments",
                  "rawType": "float64",
                  "type": "float"
                },
                {
                  "name": "payment_value",
                  "rawType": "float64",
                  "type": "float"
                },
                {
                  "name": "review_id",
                  "rawType": "object",
                  "type": "string"
                },
                {
                  "name": "review_score",
                  "rawType": "float64",
                  "type": "float"
                },
                {
                  "name": "review_creation_date",
                  "rawType": "datetime64[ns]",
                  "type": "datetime"
                },
                {
                  "name": "review_answer_timestamp",
                  "rawType": "datetime64[ns]",
                  "type": "datetime"
                },
                {
                  "name": "product_id",
                  "rawType": "object",
                  "type": "string"
                },
                {
                  "name": "product_category_name",
                  "rawType": "object",
                  "type": "string"
                },
                {
                  "name": "product_name_lenght",
                  "rawType": "float64",
                  "type": "float"
                },
                {
                  "name": "product_description_lenght",
                  "rawType": "float64",
                  "type": "float"
                },
                {
                  "name": "product_photos_qty",
                  "rawType": "float64",
                  "type": "float"
                },
                {
                  "name": "product_weight_g",
                  "rawType": "float64",
                  "type": "float"
                },
                {
                  "name": "product_length_cm",
                  "rawType": "float64",
                  "type": "float"
                },
                {
                  "name": "product_height_cm",
                  "rawType": "float64",
                  "type": "float"
                },
                {
                  "name": "product_width_cm",
                  "rawType": "float64",
                  "type": "float"
                },
                {
                  "name": "product_category_name_english",
                  "rawType": "object",
                  "type": "string"
                },
                {
                  "name": "order_item_id",
                  "rawType": "float64",
                  "type": "float"
                },
                {
                  "name": "seller_id",
                  "rawType": "object",
                  "type": "string"
                },
                {
                  "name": "shipping_limit_date",
                  "rawType": "datetime64[ns]",
                  "type": "datetime"
                },
                {
                  "name": "price",
                  "rawType": "float64",
                  "type": "float"
                },
                {
                  "name": "freight_value",
                  "rawType": "float64",
                  "type": "float"
                },
                {
                  "name": "seller_zip_code_prefix",
                  "rawType": "float64",
                  "type": "float"
                },
                {
                  "name": "seller_city",
                  "rawType": "object",
                  "type": "string"
                },
                {
                  "name": "seller_state",
                  "rawType": "object",
                  "type": "string"
                }
              ],
              "conversionMethod": "pd.DataFrame",
              "ref": "156bd873-1039-4ff8-8084-f0c0f911b871",
              "rows": [
                [
                  "0",
                  "06b8999e2fba1a1fbc88172c00ba8bc7",
                  "861eff4711a542e4b93843c6dd7febb0",
                  "14409",
                  "franca",
                  "SP",
                  "00e7ee1b050b8499577073aeb2a297a1",
                  "delivered",
                  "2017-05-16 15:05:35",
                  "2017-05-16 15:22:12",
                  "2017-05-23 10:47:57",
                  "2017-05-25 10:35:35",
                  "2017-06-05 00:00:00",
                  "2.0",
                  "1.0",
                  "credit_card",
                  "2.0",
                  "146.87",
                  "88b8b52d46df026a9d1ad2136a59b30b",
                  "4.0",
                  "2017-05-26 00:00:00",
                  "2017-05-30 22:34:40",
                  "a9516a079e37a9c9c36b9b78b10169e8",
                  "moveis_escritorio",
                  "41.0",
                  "1141.0",
                  "1.0",
                  "8683.0",
                  "54.0",
                  "64.0",
                  "31.0",
                  "office_furniture",
                  "1.0",
                  "7c67e1448b00f6e969d365cea6b010ab",
                  "2017-05-22 15:22:12",
                  "124.99",
                  "21.88",
                  "8577.0",
                  "itaquaquecetuba",
                  "SP"
                ],
                [
                  "1",
                  "18955e83d337fd6b2def6b18a428ac77",
                  "290c77bc529b7ac935b93aa66c333dc3",
                  "9790",
                  "sao bernardo do campo",
                  "SP",
                  "29150127e6685892b6eab3eec79f59c7",
                  "delivered",
                  "2018-01-12 20:48:24",
                  "2018-01-12 20:58:32",
                  "2018-01-15 17:14:59",
                  "2018-01-29 12:41:19",
                  "2018-02-06 00:00:00",
                  "14.0",
                  "1.0",
                  "credit_card",
                  "8.0",
                  "335.48",
                  "02fc48a9efa3e3d0f1a8ea26507eeec3",
                  "5.0",
                  "2018-01-30 00:00:00",
                  "2018-02-10 22:43:29",
                  "4aa6014eceb682077f9dc4bffebc05b0",
                  "utilidades_domesticas",
                  "43.0",
                  "1002.0",
                  "3.0",
                  "10150.0",
                  "89.0",
                  "15.0",
                  "40.0",
                  "housewares",
                  "1.0",
                  "b8bc237ba3788b23da09c0f1f3a3288c",
                  "2018-01-18 20:58:32",
                  "289.0",
                  "46.48",
                  "88303.0",
                  "itajai",
                  "SC"
                ],
                [
                  "2",
                  "4e7b3e00288586ebd08712fdd0374a03",
                  "060e732b5b29e8181a18229c7b0b2b5e",
                  "1151",
                  "sao paulo",
                  "SP",
                  "b2059ed67ce144a36e2aa97d2c9e9ad2",
                  "delivered",
                  "2018-05-19 16:07:45",
                  "2018-05-20 16:19:10",
                  "2018-06-11 14:31:00",
                  "2018-06-14 17:58:51",
                  "2018-06-13 00:00:00",
                  "3.0",
                  "1.0",
                  "credit_card",
                  "7.0",
                  "157.73",
                  "5ad6695d76ee186dc473c42706984d87",
                  "5.0",
                  "2018-06-15 00:00:00",
                  "2018-06-15 12:10:59",
                  "bd07b66896d6f1494f5b86251848ced7",
                  "moveis_escritorio",
                  "55.0",
                  "955.0",
                  "1.0",
                  "8267.0",
                  "52.0",
                  "52.0",
                  "17.0",
                  "office_furniture",
                  "1.0",
                  "7c67e1448b00f6e969d365cea6b010ab",
                  "2018-06-05 16:19:10",
                  "139.94",
                  "17.79",
                  "8577.0",
                  "itaquaquecetuba",
                  "SP"
                ],
                [
                  "3",
                  "b2b6027bc5c5109e529d4dc6358b12c3",
                  "259dac757896d24d7702b9acbbff3f3c",
                  "8775",
                  "mogi das cruzes",
                  "SP",
                  "951670f92359f4fe4a63112aa7306eba",
                  "delivered",
                  "2018-03-13 16:06:38",
                  "2018-03-13 17:29:19",
                  "2018-03-27 23:22:42",
                  "2018-03-28 16:04:25",
                  "2018-04-10 00:00:00",
                  "1.0",
                  "1.0",
                  "credit_card",
                  "1.0",
                  "173.3",
                  "059a801bb31f6aab2266e672cab87bc5",
                  "5.0",
                  "2018-03-29 00:00:00",
                  "2018-04-02 18:36:47",
                  "a5647c44af977b148e0a3a4751a09e2e",
                  "moveis_escritorio",
                  "48.0",
                  "1066.0",
                  "1.0",
                  "12160.0",
                  "56.0",
                  "51.0",
                  "28.0",
                  "office_furniture",
                  "1.0",
                  "7c67e1448b00f6e969d365cea6b010ab",
                  "2018-03-27 16:31:16",
                  "149.94",
                  "23.36",
                  "8577.0",
                  "itaquaquecetuba",
                  "SP"
                ],
                [
                  "4",
                  "4f2d8ab171c80ec8364f7c12e35b23ad",
                  "345ecd01c38d18a9036ed96c73b8d066",
                  "13056",
                  "campinas",
                  "SP",
                  "6b7d50bd145f6fc7f33cebabd7e49d0f",
                  "delivered",
                  "2018-07-29 09:51:30",
                  "2018-07-29 10:10:09",
                  "2018-07-30 15:16:00",
                  "2018-08-09 20:55:48",
                  "2018-08-15 00:00:00",
                  "10.0",
                  "1.0",
                  "credit_card",
                  "8.0",
                  "252.25",
                  "8490879d58d6c5d7773f2739a03f089a",
                  "5.0",
                  "2018-08-10 00:00:00",
                  "2018-08-17 01:59:52",
                  "9391a573abe00141c56e38d84d7d5b3b",
                  "casa_conforto",
                  "61.0",
                  "407.0",
                  "1.0",
                  "5200.0",
                  "45.0",
                  "15.0",
                  "35.0",
                  "home_confort",
                  "1.0",
                  "4a3ca9315b744ce9f8e9374361493884",
                  "2018-07-31 10:10:09",
                  "230.0",
                  "22.25",
                  "14940.0",
                  "ibitinga",
                  "SP"
                ]
              ],
              "shape": {
                "columns": 39,
                "rows": 5
              }
            },
            "text/html": [
              "<div>\n",
              "<style scoped>\n",
              "    .dataframe tbody tr th:only-of-type {\n",
              "        vertical-align: middle;\n",
              "    }\n",
              "\n",
              "    .dataframe tbody tr th {\n",
              "        vertical-align: top;\n",
              "    }\n",
              "\n",
              "    .dataframe thead th {\n",
              "        text-align: right;\n",
              "    }\n",
              "</style>\n",
              "<table border=\"1\" class=\"dataframe\">\n",
              "  <thead>\n",
              "    <tr style=\"text-align: right;\">\n",
              "      <th></th>\n",
              "      <th>customer_id</th>\n",
              "      <th>customer_unique_id</th>\n",
              "      <th>customer_zip_code_prefix</th>\n",
              "      <th>customer_city</th>\n",
              "      <th>customer_state</th>\n",
              "      <th>order_id</th>\n",
              "      <th>order_status</th>\n",
              "      <th>order_purchase_timestamp</th>\n",
              "      <th>order_approved_at</th>\n",
              "      <th>order_delivered_carrier_date</th>\n",
              "      <th>...</th>\n",
              "      <th>product_width_cm</th>\n",
              "      <th>product_category_name_english</th>\n",
              "      <th>order_item_id</th>\n",
              "      <th>seller_id</th>\n",
              "      <th>shipping_limit_date</th>\n",
              "      <th>price</th>\n",
              "      <th>freight_value</th>\n",
              "      <th>seller_zip_code_prefix</th>\n",
              "      <th>seller_city</th>\n",
              "      <th>seller_state</th>\n",
              "    </tr>\n",
              "  </thead>\n",
              "  <tbody>\n",
              "    <tr>\n",
              "      <th>0</th>\n",
              "      <td>06b8999e2fba1a1fbc88172c00ba8bc7</td>\n",
              "      <td>861eff4711a542e4b93843c6dd7febb0</td>\n",
              "      <td>14409</td>\n",
              "      <td>franca</td>\n",
              "      <td>SP</td>\n",
              "      <td>00e7ee1b050b8499577073aeb2a297a1</td>\n",
              "      <td>delivered</td>\n",
              "      <td>2017-05-16 15:05:35</td>\n",
              "      <td>2017-05-16 15:22:12</td>\n",
              "      <td>2017-05-23 10:47:57</td>\n",
              "      <td>...</td>\n",
              "      <td>31.0</td>\n",
              "      <td>office_furniture</td>\n",
              "      <td>1.0</td>\n",
              "      <td>7c67e1448b00f6e969d365cea6b010ab</td>\n",
              "      <td>2017-05-22 15:22:12</td>\n",
              "      <td>124.99</td>\n",
              "      <td>21.88</td>\n",
              "      <td>8577.0</td>\n",
              "      <td>itaquaquecetuba</td>\n",
              "      <td>SP</td>\n",
              "    </tr>\n",
              "    <tr>\n",
              "      <th>1</th>\n",
              "      <td>18955e83d337fd6b2def6b18a428ac77</td>\n",
              "      <td>290c77bc529b7ac935b93aa66c333dc3</td>\n",
              "      <td>9790</td>\n",
              "      <td>sao bernardo do campo</td>\n",
              "      <td>SP</td>\n",
              "      <td>29150127e6685892b6eab3eec79f59c7</td>\n",
              "      <td>delivered</td>\n",
              "      <td>2018-01-12 20:48:24</td>\n",
              "      <td>2018-01-12 20:58:32</td>\n",
              "      <td>2018-01-15 17:14:59</td>\n",
              "      <td>...</td>\n",
              "      <td>40.0</td>\n",
              "      <td>housewares</td>\n",
              "      <td>1.0</td>\n",
              "      <td>b8bc237ba3788b23da09c0f1f3a3288c</td>\n",
              "      <td>2018-01-18 20:58:32</td>\n",
              "      <td>289.00</td>\n",
              "      <td>46.48</td>\n",
              "      <td>88303.0</td>\n",
              "      <td>itajai</td>\n",
              "      <td>SC</td>\n",
              "    </tr>\n",
              "    <tr>\n",
              "      <th>2</th>\n",
              "      <td>4e7b3e00288586ebd08712fdd0374a03</td>\n",
              "      <td>060e732b5b29e8181a18229c7b0b2b5e</td>\n",
              "      <td>1151</td>\n",
              "      <td>sao paulo</td>\n",
              "      <td>SP</td>\n",
              "      <td>b2059ed67ce144a36e2aa97d2c9e9ad2</td>\n",
              "      <td>delivered</td>\n",
              "      <td>2018-05-19 16:07:45</td>\n",
              "      <td>2018-05-20 16:19:10</td>\n",
              "      <td>2018-06-11 14:31:00</td>\n",
              "      <td>...</td>\n",
              "      <td>17.0</td>\n",
              "      <td>office_furniture</td>\n",
              "      <td>1.0</td>\n",
              "      <td>7c67e1448b00f6e969d365cea6b010ab</td>\n",
              "      <td>2018-06-05 16:19:10</td>\n",
              "      <td>139.94</td>\n",
              "      <td>17.79</td>\n",
              "      <td>8577.0</td>\n",
              "      <td>itaquaquecetuba</td>\n",
              "      <td>SP</td>\n",
              "    </tr>\n",
              "    <tr>\n",
              "      <th>3</th>\n",
              "      <td>b2b6027bc5c5109e529d4dc6358b12c3</td>\n",
              "      <td>259dac757896d24d7702b9acbbff3f3c</td>\n",
              "      <td>8775</td>\n",
              "      <td>mogi das cruzes</td>\n",
              "      <td>SP</td>\n",
              "      <td>951670f92359f4fe4a63112aa7306eba</td>\n",
              "      <td>delivered</td>\n",
              "      <td>2018-03-13 16:06:38</td>\n",
              "      <td>2018-03-13 17:29:19</td>\n",
              "      <td>2018-03-27 23:22:42</td>\n",
              "      <td>...</td>\n",
              "      <td>28.0</td>\n",
              "      <td>office_furniture</td>\n",
              "      <td>1.0</td>\n",
              "      <td>7c67e1448b00f6e969d365cea6b010ab</td>\n",
              "      <td>2018-03-27 16:31:16</td>\n",
              "      <td>149.94</td>\n",
              "      <td>23.36</td>\n",
              "      <td>8577.0</td>\n",
              "      <td>itaquaquecetuba</td>\n",
              "      <td>SP</td>\n",
              "    </tr>\n",
              "    <tr>\n",
              "      <th>4</th>\n",
              "      <td>4f2d8ab171c80ec8364f7c12e35b23ad</td>\n",
              "      <td>345ecd01c38d18a9036ed96c73b8d066</td>\n",
              "      <td>13056</td>\n",
              "      <td>campinas</td>\n",
              "      <td>SP</td>\n",
              "      <td>6b7d50bd145f6fc7f33cebabd7e49d0f</td>\n",
              "      <td>delivered</td>\n",
              "      <td>2018-07-29 09:51:30</td>\n",
              "      <td>2018-07-29 10:10:09</td>\n",
              "      <td>2018-07-30 15:16:00</td>\n",
              "      <td>...</td>\n",
              "      <td>35.0</td>\n",
              "      <td>home_confort</td>\n",
              "      <td>1.0</td>\n",
              "      <td>4a3ca9315b744ce9f8e9374361493884</td>\n",
              "      <td>2018-07-31 10:10:09</td>\n",
              "      <td>230.00</td>\n",
              "      <td>22.25</td>\n",
              "      <td>14940.0</td>\n",
              "      <td>ibitinga</td>\n",
              "      <td>SP</td>\n",
              "    </tr>\n",
              "  </tbody>\n",
              "</table>\n",
              "<p>5 rows × 39 columns</p>\n",
              "</div>"
            ],
            "text/plain": [
              "                        customer_id                customer_unique_id  \\\n",
              "0  06b8999e2fba1a1fbc88172c00ba8bc7  861eff4711a542e4b93843c6dd7febb0   \n",
              "1  18955e83d337fd6b2def6b18a428ac77  290c77bc529b7ac935b93aa66c333dc3   \n",
              "2  4e7b3e00288586ebd08712fdd0374a03  060e732b5b29e8181a18229c7b0b2b5e   \n",
              "3  b2b6027bc5c5109e529d4dc6358b12c3  259dac757896d24d7702b9acbbff3f3c   \n",
              "4  4f2d8ab171c80ec8364f7c12e35b23ad  345ecd01c38d18a9036ed96c73b8d066   \n",
              "\n",
              "   customer_zip_code_prefix          customer_city customer_state  \\\n",
              "0                     14409                 franca             SP   \n",
              "1                      9790  sao bernardo do campo             SP   \n",
              "2                      1151              sao paulo             SP   \n",
              "3                      8775        mogi das cruzes             SP   \n",
              "4                     13056               campinas             SP   \n",
              "\n",
              "                           order_id order_status order_purchase_timestamp  \\\n",
              "0  00e7ee1b050b8499577073aeb2a297a1    delivered      2017-05-16 15:05:35   \n",
              "1  29150127e6685892b6eab3eec79f59c7    delivered      2018-01-12 20:48:24   \n",
              "2  b2059ed67ce144a36e2aa97d2c9e9ad2    delivered      2018-05-19 16:07:45   \n",
              "3  951670f92359f4fe4a63112aa7306eba    delivered      2018-03-13 16:06:38   \n",
              "4  6b7d50bd145f6fc7f33cebabd7e49d0f    delivered      2018-07-29 09:51:30   \n",
              "\n",
              "    order_approved_at order_delivered_carrier_date  ... product_width_cm  \\\n",
              "0 2017-05-16 15:22:12          2017-05-23 10:47:57  ...             31.0   \n",
              "1 2018-01-12 20:58:32          2018-01-15 17:14:59  ...             40.0   \n",
              "2 2018-05-20 16:19:10          2018-06-11 14:31:00  ...             17.0   \n",
              "3 2018-03-13 17:29:19          2018-03-27 23:22:42  ...             28.0   \n",
              "4 2018-07-29 10:10:09          2018-07-30 15:16:00  ...             35.0   \n",
              "\n",
              "  product_category_name_english  order_item_id  \\\n",
              "0              office_furniture            1.0   \n",
              "1                    housewares            1.0   \n",
              "2              office_furniture            1.0   \n",
              "3              office_furniture            1.0   \n",
              "4                  home_confort            1.0   \n",
              "\n",
              "                          seller_id shipping_limit_date   price  \\\n",
              "0  7c67e1448b00f6e969d365cea6b010ab 2017-05-22 15:22:12  124.99   \n",
              "1  b8bc237ba3788b23da09c0f1f3a3288c 2018-01-18 20:58:32  289.00   \n",
              "2  7c67e1448b00f6e969d365cea6b010ab 2018-06-05 16:19:10  139.94   \n",
              "3  7c67e1448b00f6e969d365cea6b010ab 2018-03-27 16:31:16  149.94   \n",
              "4  4a3ca9315b744ce9f8e9374361493884 2018-07-31 10:10:09  230.00   \n",
              "\n",
              "   freight_value seller_zip_code_prefix      seller_city seller_state  \n",
              "0          21.88                 8577.0  itaquaquecetuba           SP  \n",
              "1          46.48                88303.0           itajai           SC  \n",
              "2          17.79                 8577.0  itaquaquecetuba           SP  \n",
              "3          23.36                 8577.0  itaquaquecetuba           SP  \n",
              "4          22.25                14940.0         ibitinga           SP  \n",
              "\n",
              "[5 rows x 39 columns]"
            ]
          },
          "execution_count": 49,
          "metadata": {},
          "output_type": "execute_result"
        }
      ],
      "source": [
        "# Merge all data\n",
        "# Data geolocation tidak digunakan karena tidak berkaitan dengan pertanyaan bisnis yang akan diselesaikan\n",
        "all_data = pd.merge(\n",
        "    left=customer_df,\n",
        "    right=sellers_df,\n",
        "    how=\"left\",\n",
        "    left_on=\"order_id\",\n",
        "    right_on=\"order_id\"\n",
        ")\n",
        "all_data.head()"
      ]
    },
    {
      "cell_type": "code",
      "execution_count": 50,
      "metadata": {
        "colab": {
          "base_uri": "https://localhost:8080/",
          "height": 0
        },
        "id": "tBZ7EopWWX1Z",
        "outputId": "1740cc03-075f-41bf-b05a-fc4d46f1c738"
      },
      "outputs": [
        {
          "name": "stdout",
          "output_type": "stream",
          "text": [
            "<class 'pandas.core.frame.DataFrame'>\n",
            "RangeIndex: 119143 entries, 0 to 119142\n",
            "Data columns (total 39 columns):\n",
            " #   Column                         Non-Null Count   Dtype         \n",
            "---  ------                         --------------   -----         \n",
            " 0   customer_id                    119143 non-null  object        \n",
            " 1   customer_unique_id             119143 non-null  object        \n",
            " 2   customer_zip_code_prefix       119143 non-null  int64         \n",
            " 3   customer_city                  119143 non-null  object        \n",
            " 4   customer_state                 119143 non-null  object        \n",
            " 5   order_id                       119143 non-null  object        \n",
            " 6   order_status                   119143 non-null  object        \n",
            " 7   order_purchase_timestamp       119143 non-null  datetime64[ns]\n",
            " 8   order_approved_at              118966 non-null  datetime64[ns]\n",
            " 9   order_delivered_carrier_date   117057 non-null  datetime64[ns]\n",
            " 10  order_delivered_customer_date  115722 non-null  datetime64[ns]\n",
            " 11  order_estimated_delivery_date  119143 non-null  datetime64[ns]\n",
            " 12  delivery_time                  115721 non-null  float64       \n",
            " 13  payment_sequential             119140 non-null  float64       \n",
            " 14  payment_type                   119140 non-null  object        \n",
            " 15  payment_installments           119140 non-null  float64       \n",
            " 16  payment_value                  119140 non-null  float64       \n",
            " 17  review_id                      118143 non-null  object        \n",
            " 18  review_score                   118143 non-null  float64       \n",
            " 19  review_creation_date           118143 non-null  datetime64[ns]\n",
            " 20  review_answer_timestamp        118143 non-null  datetime64[ns]\n",
            " 21  product_id                     118310 non-null  object        \n",
            " 22  product_category_name          116601 non-null  object        \n",
            " 23  product_name_lenght            116601 non-null  float64       \n",
            " 24  product_description_lenght     116601 non-null  float64       \n",
            " 25  product_photos_qty             116601 non-null  float64       \n",
            " 26  product_weight_g               118290 non-null  float64       \n",
            " 27  product_length_cm              118290 non-null  float64       \n",
            " 28  product_height_cm              118290 non-null  float64       \n",
            " 29  product_width_cm               118290 non-null  float64       \n",
            " 30  product_category_name_english  116576 non-null  object        \n",
            " 31  order_item_id                  118310 non-null  float64       \n",
            " 32  seller_id                      118310 non-null  object        \n",
            " 33  shipping_limit_date            118310 non-null  datetime64[ns]\n",
            " 34  price                          118310 non-null  float64       \n",
            " 35  freight_value                  118310 non-null  float64       \n",
            " 36  seller_zip_code_prefix         118310 non-null  float64       \n",
            " 37  seller_city                    118310 non-null  object        \n",
            " 38  seller_state                   118310 non-null  object        \n",
            "dtypes: datetime64[ns](8), float64(16), int64(1), object(14)\n",
            "memory usage: 35.5+ MB\n"
          ]
        }
      ],
      "source": [
        "all_data.info()\n"
      ]
    },
    {
      "cell_type": "markdown",
      "metadata": {
        "id": "eI-pTDtkWemt"
      },
      "source": [
        "### **Cleaning all_data**"
      ]
    },
    {
      "cell_type": "code",
      "execution_count": 51,
      "metadata": {
        "colab": {
          "base_uri": "https://localhost:8080/",
          "height": 0
        },
        "id": "uiNF1nElWf4B",
        "outputId": "a95aac79-5d78-4534-c256-eb413820979a"
      },
      "outputs": [
        {
          "name": "stdout",
          "output_type": "stream",
          "text": [
            "\n",
            "---Info Tabel---\n",
            "\n",
            "<class 'pandas.core.frame.DataFrame'>\n",
            "RangeIndex: 119143 entries, 0 to 119142\n",
            "Data columns (total 39 columns):\n",
            " #   Column                         Non-Null Count   Dtype         \n",
            "---  ------                         --------------   -----         \n",
            " 0   customer_id                    119143 non-null  object        \n",
            " 1   customer_unique_id             119143 non-null  object        \n",
            " 2   customer_zip_code_prefix       119143 non-null  int64         \n",
            " 3   customer_city                  119143 non-null  object        \n",
            " 4   customer_state                 119143 non-null  object        \n",
            " 5   order_id                       119143 non-null  object        \n",
            " 6   order_status                   119143 non-null  object        \n",
            " 7   order_purchase_timestamp       119143 non-null  datetime64[ns]\n",
            " 8   order_approved_at              118966 non-null  datetime64[ns]\n",
            " 9   order_delivered_carrier_date   117057 non-null  datetime64[ns]\n",
            " 10  order_delivered_customer_date  115722 non-null  datetime64[ns]\n",
            " 11  order_estimated_delivery_date  119143 non-null  datetime64[ns]\n",
            " 12  delivery_time                  115721 non-null  float64       \n",
            " 13  payment_sequential             119140 non-null  float64       \n",
            " 14  payment_type                   119140 non-null  object        \n",
            " 15  payment_installments           119140 non-null  float64       \n",
            " 16  payment_value                  119140 non-null  float64       \n",
            " 17  review_id                      118143 non-null  object        \n",
            " 18  review_score                   118143 non-null  float64       \n",
            " 19  review_creation_date           118143 non-null  datetime64[ns]\n",
            " 20  review_answer_timestamp        118143 non-null  datetime64[ns]\n",
            " 21  product_id                     118310 non-null  object        \n",
            " 22  product_category_name          116601 non-null  object        \n",
            " 23  product_name_lenght            116601 non-null  float64       \n",
            " 24  product_description_lenght     116601 non-null  float64       \n",
            " 25  product_photos_qty             116601 non-null  float64       \n",
            " 26  product_weight_g               118290 non-null  float64       \n",
            " 27  product_length_cm              118290 non-null  float64       \n",
            " 28  product_height_cm              118290 non-null  float64       \n",
            " 29  product_width_cm               118290 non-null  float64       \n",
            " 30  product_category_name_english  116576 non-null  object        \n",
            " 31  order_item_id                  118310 non-null  float64       \n",
            " 32  seller_id                      118310 non-null  object        \n",
            " 33  shipping_limit_date            118310 non-null  datetime64[ns]\n",
            " 34  price                          118310 non-null  float64       \n",
            " 35  freight_value                  118310 non-null  float64       \n",
            " 36  seller_zip_code_prefix         118310 non-null  float64       \n",
            " 37  seller_city                    118310 non-null  object        \n",
            " 38  seller_state                   118310 non-null  object        \n",
            "dtypes: datetime64[ns](8), float64(16), int64(1), object(14)\n",
            "memory usage: 35.5+ MB\n",
            "\n",
            "---Missing Value---\n",
            "\n",
            "customer_id                         0\n",
            "customer_unique_id                  0\n",
            "customer_zip_code_prefix            0\n",
            "customer_city                       0\n",
            "customer_state                      0\n",
            "order_id                            0\n",
            "order_status                        0\n",
            "order_purchase_timestamp            0\n",
            "order_approved_at                 177\n",
            "order_delivered_carrier_date     2086\n",
            "order_delivered_customer_date    3421\n",
            "order_estimated_delivery_date       0\n",
            "delivery_time                    3422\n",
            "payment_sequential                  3\n",
            "payment_type                        3\n",
            "payment_installments                3\n",
            "payment_value                       3\n",
            "review_id                        1000\n",
            "review_score                     1000\n",
            "review_creation_date             1000\n",
            "review_answer_timestamp          1000\n",
            "product_id                        833\n",
            "product_category_name            2542\n",
            "product_name_lenght              2542\n",
            "product_description_lenght       2542\n",
            "product_photos_qty               2542\n",
            "product_weight_g                  853\n",
            "product_length_cm                 853\n",
            "product_height_cm                 853\n",
            "product_width_cm                  853\n",
            "product_category_name_english    2567\n",
            "order_item_id                     833\n",
            "seller_id                         833\n",
            "shipping_limit_date               833\n",
            "price                             833\n",
            "freight_value                     833\n",
            "seller_zip_code_prefix            833\n",
            "seller_city                       833\n",
            "seller_state                      833\n",
            "dtype: int64\n",
            "\n",
            "---Duplikat---\n",
            "\n",
            "0\n",
            "\n",
            "---Deskripsi Tabel---\n",
            "\n",
            "       customer_zip_code_prefix       order_purchase_timestamp  \\\n",
            "count             119143.000000                         119143   \n",
            "mean               35033.451298  2017-12-29 18:36:13.115760384   \n",
            "min                 1003.000000            2016-09-04 21:15:19   \n",
            "25%                11250.000000            2017-09-10 20:15:46   \n",
            "50%                24240.000000            2018-01-17 11:59:12   \n",
            "75%                58475.000000            2018-05-03 13:18:30   \n",
            "max                99990.000000            2018-10-17 17:30:18   \n",
            "std                29823.198969                            NaN   \n",
            "\n",
            "                   order_approved_at   order_delivered_carrier_date  \\\n",
            "count                         118966                         117057   \n",
            "mean   2017-12-30 04:49:18.425726720  2018-01-03 08:24:34.395525376   \n",
            "min              2016-09-15 12:16:38            2016-10-08 10:34:01   \n",
            "25%       2017-09-11 15:50:48.500000            2017-09-14 19:52:12   \n",
            "50%              2018-01-17 16:49:49            2018-01-23 17:03:08   \n",
            "75%              2018-05-03 16:56:53            2018-05-07 14:57:00   \n",
            "max              2018-09-03 17:40:06            2018-09-11 19:48:28   \n",
            "std                              NaN                            NaN   \n",
            "\n",
            "       order_delivered_customer_date  order_estimated_delivery_date  \\\n",
            "count                         115722                         119143   \n",
            "mean   2018-01-12 20:55:38.199616256  2018-01-22 15:21:10.241642496   \n",
            "min              2016-10-11 13:46:32            2016-09-30 00:00:00   \n",
            "25%    2017-09-22 21:54:31.249999872            2017-10-02 00:00:00   \n",
            "50%              2018-02-01 03:17:55            2018-02-14 00:00:00   \n",
            "75%       2018-05-15 00:08:31.500000            2018-05-25 00:00:00   \n",
            "max              2018-10-17 13:22:46            2018-11-12 00:00:00   \n",
            "std                              NaN                            NaN   \n",
            "\n",
            "       delivery_time  payment_sequential  payment_installments  payment_value  \\\n",
            "count  115721.000000       119140.000000         119140.000000  119140.000000   \n",
            "mean        9.165398            1.094737              2.941246     172.735135   \n",
            "min       -16.000000            1.000000              0.000000       0.000000   \n",
            "25%         4.000000            1.000000              1.000000      60.850000   \n",
            "50%         7.000000            1.000000              2.000000     108.160000   \n",
            "75%        12.000000            1.000000              4.000000     189.240000   \n",
            "max       205.000000           29.000000             24.000000   13664.080000   \n",
            "std         8.650795            0.730141              2.777848     267.776077   \n",
            "\n",
            "       ...  product_photos_qty product_weight_g product_length_cm  \\\n",
            "count  ...       116601.000000    118290.000000     118290.000000   \n",
            "mean   ...            2.205161      2112.250740         30.265145   \n",
            "min    ...            1.000000         0.000000          7.000000   \n",
            "25%    ...            1.000000       300.000000         18.000000   \n",
            "50%    ...            1.000000       700.000000         25.000000   \n",
            "75%    ...            3.000000      1800.000000         38.000000   \n",
            "max    ...           20.000000     40425.000000        105.000000   \n",
            "std    ...            1.717452      3786.695111         16.189367   \n",
            "\n",
            "       product_height_cm  product_width_cm  order_item_id  \\\n",
            "count      118290.000000     118290.000000  118310.000000   \n",
            "mean           16.619706         23.074799       1.196543   \n",
            "min             2.000000          6.000000       1.000000   \n",
            "25%             8.000000         15.000000       1.000000   \n",
            "50%            13.000000         20.000000       1.000000   \n",
            "75%            20.000000         30.000000       1.000000   \n",
            "max           105.000000        118.000000      21.000000   \n",
            "std            13.453584         11.749139       0.699489   \n",
            "\n",
            "                 shipping_limit_date          price  freight_value  \\\n",
            "count                         118310  118310.000000  118310.000000   \n",
            "mean   2018-01-05 22:06:13.308807680     120.646603      20.032387   \n",
            "min              2016-09-19 00:15:34       0.850000       0.000000   \n",
            "25%              2017-09-18 14:30:33      39.900000      13.080000   \n",
            "50%       2018-01-25 04:11:15.500000      74.900000      16.280000   \n",
            "75%    2018-05-10 02:51:40.249999872     134.900000      21.180000   \n",
            "max              2020-04-09 22:35:08    6735.000000     409.680000   \n",
            "std                              NaN     184.109691      15.836850   \n",
            "\n",
            "       seller_zip_code_prefix  \n",
            "count           118310.000000  \n",
            "mean             24442.410413  \n",
            "min               1001.000000  \n",
            "25%               6429.000000  \n",
            "50%              13660.000000  \n",
            "75%              27972.000000  \n",
            "max              99730.000000  \n",
            "std              27573.004511  \n",
            "\n",
            "[8 rows x 25 columns]\n"
          ]
        }
      ],
      "source": [
        "analyze_table(all_data)"
      ]
    },
    {
      "cell_type": "code",
      "execution_count": 52,
      "metadata": {
        "id": "p93a8c1hWjCX"
      },
      "outputs": [],
      "source": [
        "# Menggantikan missing values dengan mean pada kolom numerik\n",
        "numeric_columns = ['delivery_time', 'payment_sequential', 'payment_installments', 'payment_value', 'review_score',\n",
        "                    'product_photos_qty', 'price', 'freight_value']\n",
        "for col in numeric_columns:\n",
        "    mean_value = all_data[col].mean()\n",
        "    all_data[col].fillna(mean_value)"
      ]
    },
    {
      "cell_type": "code",
      "execution_count": 53,
      "metadata": {
        "id": "5V_OE-sOW6dX"
      },
      "outputs": [],
      "source": [
        "# Menggantikan missing values dengan mode pada kolom kategori\n",
        "categorical_columns = ['payment_type', 'product_category_name', 'seller_city']\n",
        "for col in categorical_columns:\n",
        "    mode_value = all_data[col].mode()[0]\n",
        "    all_data[col].fillna(mode_value)"
      ]
    },
    {
      "cell_type": "code",
      "execution_count": 54,
      "metadata": {
        "colab": {
          "base_uri": "https://localhost:8080/",
          "height": 0
        },
        "id": "7vGK9TcaXB4B",
        "outputId": "34f3944f-60b5-41e9-a2d5-591d23d8ac41"
      },
      "outputs": [],
      "source": [
        "# Menggantikan missing values dengan forward fill pada kolom tanggal\n",
        "date_columns = ['order_approved_at', 'order_delivered_carrier_date']\n",
        "for col in date_columns:\n",
        "    #all_data[col].fillna(method='ffill') -- deprecated\n",
        "    all_data[col] = all_data[col].ffill()"
      ]
    },
    {
      "cell_type": "code",
      "execution_count": 55,
      "metadata": {
        "id": "Q2fNUjQlXExk"
      },
      "outputs": [],
      "source": [
        "# Memastikan tidak ada missing values tersisa\n",
        "all_data.dropna(inplace=True)"
      ]
    },
    {
      "cell_type": "code",
      "execution_count": 56,
      "metadata": {
        "colab": {
          "base_uri": "https://localhost:8080/",
          "height": 1000
        },
        "id": "VV9xF5mYXLRN",
        "outputId": "88cb30bb-6f19-4ce5-ae5d-01f8e985a085"
      },
      "outputs": [
        {
          "data": {
            "text/plain": [
              "customer_id                      0\n",
              "customer_unique_id               0\n",
              "customer_zip_code_prefix         0\n",
              "customer_city                    0\n",
              "customer_state                   0\n",
              "order_id                         0\n",
              "order_status                     0\n",
              "order_purchase_timestamp         0\n",
              "order_approved_at                0\n",
              "order_delivered_carrier_date     0\n",
              "order_delivered_customer_date    0\n",
              "order_estimated_delivery_date    0\n",
              "delivery_time                    0\n",
              "payment_sequential               0\n",
              "payment_type                     0\n",
              "payment_installments             0\n",
              "payment_value                    0\n",
              "review_id                        0\n",
              "review_score                     0\n",
              "review_creation_date             0\n",
              "review_answer_timestamp          0\n",
              "product_id                       0\n",
              "product_category_name            0\n",
              "product_name_lenght              0\n",
              "product_description_lenght       0\n",
              "product_photos_qty               0\n",
              "product_weight_g                 0\n",
              "product_length_cm                0\n",
              "product_height_cm                0\n",
              "product_width_cm                 0\n",
              "product_category_name_english    0\n",
              "order_item_id                    0\n",
              "seller_id                        0\n",
              "shipping_limit_date              0\n",
              "price                            0\n",
              "freight_value                    0\n",
              "seller_zip_code_prefix           0\n",
              "seller_city                      0\n",
              "seller_state                     0\n",
              "dtype: int64"
            ]
          },
          "execution_count": 56,
          "metadata": {},
          "output_type": "execute_result"
        }
      ],
      "source": [
        "all_data.isna().sum()"
      ]
    },
    {
      "cell_type": "markdown",
      "metadata": {
        "id": "0JXTBKcpXT5b"
      },
      "source": [
        "## **EDA Pada Seluruh Data**"
      ]
    },
    {
      "cell_type": "code",
      "execution_count": 57,
      "metadata": {
        "colab": {
          "base_uri": "https://localhost:8080/",
          "height": 455
        },
        "id": "WBv8J5B6XWr2",
        "outputId": "145ec1e6-476f-4823-b36a-b955c4f1c636"
      },
      "outputs": [
        {
          "data": {
            "application/vnd.microsoft.datawrangler.viewer.v0+json": {
              "columns": [
                {
                  "name": "('customer_city', 'product_category_name_english')",
                  "rawType": "object",
                  "type": "unknown"
                },
                {
                  "name": "price",
                  "rawType": "float64",
                  "type": "float"
                },
                {
                  "name": "freight_value",
                  "rawType": "float64",
                  "type": "float"
                }
              ],
              "conversionMethod": "pd.DataFrame",
              "ref": "c9f17d90-f6f7-472e-89be-5681c1f9bcfd",
              "rows": [
                [
                  "('abadia dos dourados', 'books_general_interest')",
                  "39.9",
                  "18.38"
                ],
                [
                  "('abadia dos dourados', 'cool_stuff')",
                  "199.0",
                  "20.63"
                ],
                [
                  "('abadia dos dourados', 'sports_leisure')",
                  "120.0",
                  "15.59"
                ],
                [
                  "('abadiania', 'small_appliances')",
                  "949.99",
                  "75.53"
                ],
                [
                  "('abaete', 'baby')",
                  "65.0",
                  "17.7"
                ],
                [
                  "('abaete', 'bed_bath_table')",
                  "105.9",
                  "17.99"
                ],
                [
                  "('abaete', 'cool_stuff')",
                  "85.99",
                  "23.4"
                ],
                [
                  "('abaete', 'fashion_bags_accessories')",
                  "449.0",
                  "17.89"
                ],
                [
                  "('abaete', 'garden_tools')",
                  "135.0",
                  "19.23"
                ],
                [
                  "('abaete', 'health_beauty')",
                  "208.9",
                  "12.07"
                ],
                [
                  "('abaete', 'housewares')",
                  "54.16",
                  "23.25"
                ],
                [
                  "('abaete', 'stationery')",
                  "47.07",
                  "19.32"
                ],
                [
                  "('abaete', 'watches_gifts')",
                  "544.89",
                  "49.78"
                ],
                [
                  "('abaetetuba', 'auto')",
                  "70.8",
                  "93.65"
                ],
                [
                  "('abaetetuba', 'books_technical')",
                  "39.9",
                  "37.04"
                ],
                [
                  "('abaetetuba', 'computers_accessories')",
                  "1149.8700000000001",
                  "234.36"
                ],
                [
                  "('abaetetuba', 'garden_tools')",
                  "49.9",
                  "64.8"
                ],
                [
                  "('abaetetuba', 'health_beauty')",
                  "797.6",
                  "43.63"
                ],
                [
                  "('abaetetuba', 'sports_leisure')",
                  "134.99",
                  "68.09"
                ],
                [
                  "('abaetetuba', 'telephony')",
                  "59.8",
                  "74.08"
                ],
                [
                  "('abaetetuba', 'watches_gifts')",
                  "1755.6100000000001",
                  "65.09"
                ],
                [
                  "('abaiara', 'auto')",
                  "93.9",
                  "37.8"
                ],
                [
                  "('abaiara', 'toys')",
                  "169.0",
                  "31.45"
                ],
                [
                  "('abaira', 'telephony')",
                  "12.99",
                  "22.06"
                ],
                [
                  "('abaira', 'watches_gifts')",
                  "145.0",
                  "22.95"
                ],
                [
                  "('abare', 'auto')",
                  "36.19",
                  "22.06"
                ],
                [
                  "('abare', 'watches_gifts')",
                  "149.0",
                  "17.48"
                ],
                [
                  "('abatia', 'electronics')",
                  "50.0",
                  "19.32"
                ],
                [
                  "('abatia', 'home_confort')",
                  "89.9",
                  "17.88"
                ],
                [
                  "('abatia', 'telephony')",
                  "27.99",
                  "15.1"
                ],
                [
                  "('abdon batista', 'bed_bath_table')",
                  "125.4",
                  "31.3"
                ],
                [
                  "('abelardo luz', 'baby')",
                  "388.0",
                  "23.21"
                ],
                [
                  "('abelardo luz', 'fashion_shoes')",
                  "29.9",
                  "15.1"
                ],
                [
                  "('abelardo luz', 'garden_tools')",
                  "59.0",
                  "17.66"
                ],
                [
                  "('abelardo luz', 'housewares')",
                  "172.9",
                  "46.81"
                ],
                [
                  "('abelardo luz', 'telephony')",
                  "29.9",
                  "15.1"
                ],
                [
                  "('abrantes', 'computers_accessories')",
                  "139.0",
                  "61.35"
                ],
                [
                  "('abre campo', 'cool_stuff')",
                  "25.0",
                  "17.92"
                ],
                [
                  "('abre campo', 'furniture_decor')",
                  "37.99",
                  "17.6"
                ],
                [
                  "('abre campo', 'housewares')",
                  "109.9",
                  "21.26"
                ],
                [
                  "('abre campo', 'perfumery')",
                  "84.99",
                  "16.35"
                ],
                [
                  "('abre campo', 'sports_leisure')",
                  "23.8",
                  "12.48"
                ],
                [
                  "('abreu e lima', 'auto')",
                  "256.3",
                  "55.92"
                ],
                [
                  "('abreu e lima', 'cool_stuff')",
                  "618.0",
                  "90.95"
                ],
                [
                  "('abreu e lima', 'garden_tools')",
                  "609.69",
                  "137.61"
                ],
                [
                  "('abreu e lima', 'health_beauty')",
                  "84.99",
                  "19.13"
                ],
                [
                  "('abreu e lima', 'perfumery')",
                  "113.98",
                  "35.36"
                ],
                [
                  "('abreu e lima', 'small_appliances')",
                  "545.0",
                  "46.12"
                ],
                [
                  "('abreu e lima', 'sports_leisure')",
                  "131.0",
                  "92.25"
                ],
                [
                  "('acaiaca', 'computers_accessories')",
                  "29.9",
                  "15.1"
                ]
              ],
              "shape": {
                "columns": 2,
                "rows": 24815
              }
            },
            "text/html": [
              "<div>\n",
              "<style scoped>\n",
              "    .dataframe tbody tr th:only-of-type {\n",
              "        vertical-align: middle;\n",
              "    }\n",
              "\n",
              "    .dataframe tbody tr th {\n",
              "        vertical-align: top;\n",
              "    }\n",
              "\n",
              "    .dataframe thead th {\n",
              "        text-align: right;\n",
              "    }\n",
              "</style>\n",
              "<table border=\"1\" class=\"dataframe\">\n",
              "  <thead>\n",
              "    <tr style=\"text-align: right;\">\n",
              "      <th></th>\n",
              "      <th></th>\n",
              "      <th>price</th>\n",
              "      <th>freight_value</th>\n",
              "    </tr>\n",
              "    <tr>\n",
              "      <th>customer_city</th>\n",
              "      <th>product_category_name_english</th>\n",
              "      <th></th>\n",
              "      <th></th>\n",
              "    </tr>\n",
              "  </thead>\n",
              "  <tbody>\n",
              "    <tr>\n",
              "      <th rowspan=\"3\" valign=\"top\">abadia dos dourados</th>\n",
              "      <th>books_general_interest</th>\n",
              "      <td>39.90</td>\n",
              "      <td>18.38</td>\n",
              "    </tr>\n",
              "    <tr>\n",
              "      <th>cool_stuff</th>\n",
              "      <td>199.00</td>\n",
              "      <td>20.63</td>\n",
              "    </tr>\n",
              "    <tr>\n",
              "      <th>sports_leisure</th>\n",
              "      <td>120.00</td>\n",
              "      <td>15.59</td>\n",
              "    </tr>\n",
              "    <tr>\n",
              "      <th>abadiania</th>\n",
              "      <th>small_appliances</th>\n",
              "      <td>949.99</td>\n",
              "      <td>75.53</td>\n",
              "    </tr>\n",
              "    <tr>\n",
              "      <th>abaete</th>\n",
              "      <th>baby</th>\n",
              "      <td>65.00</td>\n",
              "      <td>17.70</td>\n",
              "    </tr>\n",
              "    <tr>\n",
              "      <th>...</th>\n",
              "      <th>...</th>\n",
              "      <td>...</td>\n",
              "      <td>...</td>\n",
              "    </tr>\n",
              "    <tr>\n",
              "      <th rowspan=\"4\" valign=\"top\">ze doca</th>\n",
              "      <th>food_drink</th>\n",
              "      <td>65.00</td>\n",
              "      <td>38.00</td>\n",
              "    </tr>\n",
              "    <tr>\n",
              "      <th>garden_tools</th>\n",
              "      <td>39.90</td>\n",
              "      <td>26.61</td>\n",
              "    </tr>\n",
              "    <tr>\n",
              "      <th>musical_instruments</th>\n",
              "      <td>359.00</td>\n",
              "      <td>49.04</td>\n",
              "    </tr>\n",
              "    <tr>\n",
              "      <th>sports_leisure</th>\n",
              "      <td>149.90</td>\n",
              "      <td>38.60</td>\n",
              "    </tr>\n",
              "    <tr>\n",
              "      <th>zortea</th>\n",
              "      <th>computers_accessories</th>\n",
              "      <td>69.90</td>\n",
              "      <td>20.98</td>\n",
              "    </tr>\n",
              "  </tbody>\n",
              "</table>\n",
              "<p>24815 rows × 2 columns</p>\n",
              "</div>"
            ],
            "text/plain": [
              "                                                    price  freight_value\n",
              "customer_city       product_category_name_english                       \n",
              "abadia dos dourados books_general_interest          39.90          18.38\n",
              "                    cool_stuff                     199.00          20.63\n",
              "                    sports_leisure                 120.00          15.59\n",
              "abadiania           small_appliances               949.99          75.53\n",
              "abaete              baby                            65.00          17.70\n",
              "...                                                   ...            ...\n",
              "ze doca             food_drink                      65.00          38.00\n",
              "                    garden_tools                    39.90          26.61\n",
              "                    musical_instruments            359.00          49.04\n",
              "                    sports_leisure                 149.90          38.60\n",
              "zortea              computers_accessories           69.90          20.98\n",
              "\n",
              "[24815 rows x 2 columns]"
            ]
          },
          "execution_count": 57,
          "metadata": {},
          "output_type": "execute_result"
        }
      ],
      "source": [
        "all_data.groupby(by=[\"customer_city\", \"product_category_name_english\"]).agg({\n",
        "    \"price\": \"sum\",\n",
        "    \"freight_value\": \"sum\"\n",
        "})"
      ]
    },
    {
      "cell_type": "code",
      "execution_count": 58,
      "metadata": {
        "colab": {
          "base_uri": "https://localhost:8080/",
          "height": 455
        },
        "id": "9QAjDKRfYGo-",
        "outputId": "e6aae04b-06a4-47ac-9696-d14ef3bb9f1c"
      },
      "outputs": [
        {
          "data": {
            "application/vnd.microsoft.datawrangler.viewer.v0+json": {
              "columns": [
                {
                  "name": "product_category_name_english",
                  "rawType": "object",
                  "type": "string"
                },
                {
                  "name": "order_id",
                  "rawType": "int64",
                  "type": "integer"
                },
                {
                  "name": "review_score",
                  "rawType": "float64",
                  "type": "float"
                }
              ],
              "conversionMethod": "pd.DataFrame",
              "ref": "ceaaf3c3-2903-4bf3-8770-0d42aa5ab46d",
              "rows": [
                [
                  "agro_industry_and_commerce",
                  "177",
                  "4.227642276422764"
                ],
                [
                  "air_conditioning",
                  "242",
                  "4.051903114186851"
                ],
                [
                  "art",
                  "193",
                  "4.073170731707317"
                ],
                [
                  "arts_and_craftmanship",
                  "23",
                  "4.125"
                ],
                [
                  "audio",
                  "345",
                  "3.8453333333333335"
                ],
                [
                  "auto",
                  "3791",
                  "4.113172106128199"
                ],
                [
                  "baby",
                  "2786",
                  "4.076898222940226"
                ],
                [
                  "bed_bath_table",
                  "9177",
                  "3.915275994865212"
                ],
                [
                  "books_general_interest",
                  "491",
                  "4.501838235294118"
                ],
                [
                  "books_imported",
                  "50",
                  "4.52542372881356"
                ],
                [
                  "books_technical",
                  "255",
                  "4.400749063670412"
                ],
                [
                  "cds_dvds_musicals",
                  "12",
                  "4.642857142857143"
                ],
                [
                  "christmas_supplies",
                  "123",
                  "4.068965517241379"
                ],
                [
                  "cine_photo",
                  "63",
                  "4.305555555555555"
                ],
                [
                  "computers",
                  "174",
                  "4.225352112676056"
                ],
                [
                  "computers_accessories",
                  "6498",
                  "3.9888973000252332"
                ],
                [
                  "consoles_games",
                  "1009",
                  "4.128318584070796"
                ],
                [
                  "construction_tools_construction",
                  "731",
                  "4.104589114194237"
                ],
                [
                  "construction_tools_lights",
                  "239",
                  "4.096026490066225"
                ],
                [
                  "construction_tools_safety",
                  "158",
                  "3.978494623655914"
                ],
                [
                  "cool_stuff",
                  "3531",
                  "4.188271604938271"
                ],
                [
                  "costruction_tools_garden",
                  "190",
                  "4.149377593360996"
                ],
                [
                  "costruction_tools_tools",
                  "94",
                  "4.415841584158416"
                ],
                [
                  "diapers_and_hygiene",
                  "25",
                  "3.3783783783783785"
                ],
                [
                  "drinks",
                  "287",
                  "4.132075471698113"
                ],
                [
                  "dvds_blu_ray",
                  "56",
                  "4.253731343283582"
                ],
                [
                  "electronics",
                  "2498",
                  "4.069558981713876"
                ],
                [
                  "fashio_female_clothing",
                  "36",
                  "3.9565217391304346"
                ],
                [
                  "fashion_bags_accessories",
                  "1812",
                  "4.1739952718676125"
                ],
                [
                  "fashion_childrens_clothes",
                  "7",
                  "5.0"
                ],
                [
                  "fashion_male_clothing",
                  "105",
                  "3.6496350364963503"
                ],
                [
                  "fashion_shoes",
                  "231",
                  "4.272388059701493"
                ],
                [
                  "fashion_sport",
                  "26",
                  "4.366666666666666"
                ],
                [
                  "fashion_underwear_beach",
                  "116",
                  "4.057553956834532"
                ],
                [
                  "fixed_telephony",
                  "209",
                  "3.7567567567567566"
                ],
                [
                  "flowers",
                  "28",
                  "4.419354838709677"
                ],
                [
                  "food",
                  "437",
                  "4.272365805168986"
                ],
                [
                  "food_drink",
                  "221",
                  "4.387900355871886"
                ],
                [
                  "furniture_bedroom",
                  "90",
                  "3.9411764705882355"
                ],
                [
                  "furniture_decor",
                  "6259",
                  "3.9600327217482763"
                ],
                [
                  "furniture_living_room",
                  "409",
                  "3.945525291828794"
                ],
                [
                  "furniture_mattress_and_upholstery",
                  "37",
                  "3.875"
                ],
                [
                  "garden_tools",
                  "3428",
                  "4.081536388140162"
                ],
                [
                  "health_beauty",
                  "8602",
                  "4.18627551543748"
                ],
                [
                  "home_appliances",
                  "744",
                  "4.227047146401985"
                ],
                [
                  "home_appliances_2",
                  "226",
                  "4.229007633587786"
                ],
                [
                  "home_comfort_2",
                  "23",
                  "3.642857142857143"
                ],
                [
                  "home_confort",
                  "390",
                  "3.9278131634819533"
                ],
                [
                  "home_construction",
                  "481",
                  "3.972712680577849"
                ],
                [
                  "housewares",
                  "5709",
                  "4.116578138104557"
                ]
              ],
              "shape": {
                "columns": 2,
                "rows": 71
              }
            },
            "text/html": [
              "<div>\n",
              "<style scoped>\n",
              "    .dataframe tbody tr th:only-of-type {\n",
              "        vertical-align: middle;\n",
              "    }\n",
              "\n",
              "    .dataframe tbody tr th {\n",
              "        vertical-align: top;\n",
              "    }\n",
              "\n",
              "    .dataframe thead th {\n",
              "        text-align: right;\n",
              "    }\n",
              "</style>\n",
              "<table border=\"1\" class=\"dataframe\">\n",
              "  <thead>\n",
              "    <tr style=\"text-align: right;\">\n",
              "      <th></th>\n",
              "      <th>order_id</th>\n",
              "      <th>review_score</th>\n",
              "    </tr>\n",
              "    <tr>\n",
              "      <th>product_category_name_english</th>\n",
              "      <th></th>\n",
              "      <th></th>\n",
              "    </tr>\n",
              "  </thead>\n",
              "  <tbody>\n",
              "    <tr>\n",
              "      <th>agro_industry_and_commerce</th>\n",
              "      <td>177</td>\n",
              "      <td>4.227642</td>\n",
              "    </tr>\n",
              "    <tr>\n",
              "      <th>air_conditioning</th>\n",
              "      <td>242</td>\n",
              "      <td>4.051903</td>\n",
              "    </tr>\n",
              "    <tr>\n",
              "      <th>art</th>\n",
              "      <td>193</td>\n",
              "      <td>4.073171</td>\n",
              "    </tr>\n",
              "    <tr>\n",
              "      <th>arts_and_craftmanship</th>\n",
              "      <td>23</td>\n",
              "      <td>4.125000</td>\n",
              "    </tr>\n",
              "    <tr>\n",
              "      <th>audio</th>\n",
              "      <td>345</td>\n",
              "      <td>3.845333</td>\n",
              "    </tr>\n",
              "    <tr>\n",
              "      <th>...</th>\n",
              "      <td>...</td>\n",
              "      <td>...</td>\n",
              "    </tr>\n",
              "    <tr>\n",
              "      <th>stationery</th>\n",
              "      <td>2251</td>\n",
              "      <td>4.235823</td>\n",
              "    </tr>\n",
              "    <tr>\n",
              "      <th>tablets_printing_image</th>\n",
              "      <td>77</td>\n",
              "      <td>4.117647</td>\n",
              "    </tr>\n",
              "    <tr>\n",
              "      <th>telephony</th>\n",
              "      <td>4069</td>\n",
              "      <td>3.995852</td>\n",
              "    </tr>\n",
              "    <tr>\n",
              "      <th>toys</th>\n",
              "      <td>3774</td>\n",
              "      <td>4.209805</td>\n",
              "    </tr>\n",
              "    <tr>\n",
              "      <th>watches_gifts</th>\n",
              "      <td>5452</td>\n",
              "      <td>4.069320</td>\n",
              "    </tr>\n",
              "  </tbody>\n",
              "</table>\n",
              "<p>71 rows × 2 columns</p>\n",
              "</div>"
            ],
            "text/plain": [
              "                               order_id  review_score\n",
              "product_category_name_english                        \n",
              "agro_industry_and_commerce          177      4.227642\n",
              "air_conditioning                    242      4.051903\n",
              "art                                 193      4.073171\n",
              "arts_and_craftmanship                23      4.125000\n",
              "audio                               345      3.845333\n",
              "...                                 ...           ...\n",
              "stationery                         2251      4.235823\n",
              "tablets_printing_image               77      4.117647\n",
              "telephony                          4069      3.995852\n",
              "toys                               3774      4.209805\n",
              "watches_gifts                      5452      4.069320\n",
              "\n",
              "[71 rows x 2 columns]"
            ]
          },
          "execution_count": 58,
          "metadata": {},
          "output_type": "execute_result"
        }
      ],
      "source": [
        "all_data.groupby(by=\"product_category_name_english\").agg({\n",
        "    \"order_id\": \"nunique\",\n",
        "    \"review_score\": \"mean\"\n",
        "})"
      ]
    },
    {
      "cell_type": "code",
      "execution_count": 59,
      "metadata": {
        "id": "pGskppgmYMP0"
      },
      "outputs": [],
      "source": [
        "all_data.to_csv(directory_file/'data/all_data_e-commerse.csv', index=False)"
      ]
    },
    {
      "cell_type": "markdown",
      "metadata": {
        "id": "cdAoh-erAdbp"
      },
      "source": [
        "## Visualization & Explanatory Analysis"
      ]
    },
    {
      "cell_type": "markdown",
      "metadata": {
        "id": "JMa9XspDAlk6"
      },
      "source": [
        "### **Pertanyaan 1:**\n",
        "**Seperti apa distribusi penjualan produk dengan penjualan tertinggi dan terendah?**"
      ]
    },
    {
      "cell_type": "code",
      "execution_count": 60,
      "metadata": {
        "colab": {
          "base_uri": "https://localhost:8080/",
          "height": 206
        },
        "id": "35lD-AWdZIeb",
        "outputId": "246ad33c-4e29-4765-d55a-8eddcd406749"
      },
      "outputs": [
        {
          "data": {
            "application/vnd.microsoft.datawrangler.viewer.v0+json": {
              "columns": [
                {
                  "name": "index",
                  "rawType": "int64",
                  "type": "integer"
                },
                {
                  "name": "product_category_name_english",
                  "rawType": "object",
                  "type": "string"
                },
                {
                  "name": "products",
                  "rawType": "int64",
                  "type": "integer"
                }
              ],
              "conversionMethod": "pd.DataFrame",
              "ref": "e3a081be-f6b1-4870-bff1-726ce9272f3a",
              "rows": [
                [
                  "7",
                  "bed_bath_table",
                  "11685"
                ],
                [
                  "43",
                  "health_beauty",
                  "9749"
                ],
                [
                  "65",
                  "sports_leisure",
                  "8736"
                ],
                [
                  "39",
                  "furniture_decor",
                  "8557"
                ],
                [
                  "15",
                  "computers_accessories",
                  "7926"
                ]
              ],
              "shape": {
                "columns": 2,
                "rows": 5
              }
            },
            "text/html": [
              "<div>\n",
              "<style scoped>\n",
              "    .dataframe tbody tr th:only-of-type {\n",
              "        vertical-align: middle;\n",
              "    }\n",
              "\n",
              "    .dataframe tbody tr th {\n",
              "        vertical-align: top;\n",
              "    }\n",
              "\n",
              "    .dataframe thead th {\n",
              "        text-align: right;\n",
              "    }\n",
              "</style>\n",
              "<table border=\"1\" class=\"dataframe\">\n",
              "  <thead>\n",
              "    <tr style=\"text-align: right;\">\n",
              "      <th></th>\n",
              "      <th>product_category_name_english</th>\n",
              "      <th>products</th>\n",
              "    </tr>\n",
              "  </thead>\n",
              "  <tbody>\n",
              "    <tr>\n",
              "      <th>7</th>\n",
              "      <td>bed_bath_table</td>\n",
              "      <td>11685</td>\n",
              "    </tr>\n",
              "    <tr>\n",
              "      <th>43</th>\n",
              "      <td>health_beauty</td>\n",
              "      <td>9749</td>\n",
              "    </tr>\n",
              "    <tr>\n",
              "      <th>65</th>\n",
              "      <td>sports_leisure</td>\n",
              "      <td>8736</td>\n",
              "    </tr>\n",
              "    <tr>\n",
              "      <th>39</th>\n",
              "      <td>furniture_decor</td>\n",
              "      <td>8557</td>\n",
              "    </tr>\n",
              "    <tr>\n",
              "      <th>15</th>\n",
              "      <td>computers_accessories</td>\n",
              "      <td>7926</td>\n",
              "    </tr>\n",
              "  </tbody>\n",
              "</table>\n",
              "</div>"
            ],
            "text/plain": [
              "   product_category_name_english  products\n",
              "7                 bed_bath_table     11685\n",
              "43                 health_beauty      9749\n",
              "65                sports_leisure      8736\n",
              "39               furniture_decor      8557\n",
              "15         computers_accessories      7926"
            ]
          },
          "execution_count": 60,
          "metadata": {},
          "output_type": "execute_result"
        }
      ],
      "source": [
        "sum_order_df = all_data.groupby(\"product_category_name_english\")[\"product_id\"].count().reset_index()\n",
        "sum_order_df = sum_order_df.rename(columns={\"product_id\": \"products\"})\n",
        "sum_order_df = sum_order_df.sort_values(by=\"products\", ascending=False)\n",
        "\n",
        "sum_order_df.head()"
      ]
    },
    {
      "cell_type": "code",
      "execution_count": 61,
      "metadata": {
        "colab": {
          "base_uri": "https://localhost:8080/",
          "height": 206
        },
        "id": "M97-OnxQZPG1",
        "outputId": "9c605164-d87a-48e7-c6a9-5c5db6074fe1"
      },
      "outputs": [
        {
          "data": {
            "application/vnd.microsoft.datawrangler.viewer.v0+json": {
              "columns": [
                {
                  "name": "index",
                  "rawType": "int64",
                  "type": "integer"
                },
                {
                  "name": "product_category_name_english",
                  "rawType": "object",
                  "type": "string"
                },
                {
                  "name": "products",
                  "rawType": "int64",
                  "type": "integer"
                }
              ],
              "conversionMethod": "pd.DataFrame",
              "ref": "6bfd636a-a20d-4e87-ab8f-c11c6331f44b",
              "rows": [
                [
                  "61",
                  "security_and_services",
                  "2"
                ],
                [
                  "29",
                  "fashion_childrens_clothes",
                  "7"
                ],
                [
                  "11",
                  "cds_dvds_musicals",
                  "14"
                ],
                [
                  "52",
                  "la_cuisine",
                  "15"
                ],
                [
                  "3",
                  "arts_and_craftmanship",
                  "24"
                ]
              ],
              "shape": {
                "columns": 2,
                "rows": 5
              }
            },
            "text/html": [
              "<div>\n",
              "<style scoped>\n",
              "    .dataframe tbody tr th:only-of-type {\n",
              "        vertical-align: middle;\n",
              "    }\n",
              "\n",
              "    .dataframe tbody tr th {\n",
              "        vertical-align: top;\n",
              "    }\n",
              "\n",
              "    .dataframe thead th {\n",
              "        text-align: right;\n",
              "    }\n",
              "</style>\n",
              "<table border=\"1\" class=\"dataframe\">\n",
              "  <thead>\n",
              "    <tr style=\"text-align: right;\">\n",
              "      <th></th>\n",
              "      <th>product_category_name_english</th>\n",
              "      <th>products</th>\n",
              "    </tr>\n",
              "  </thead>\n",
              "  <tbody>\n",
              "    <tr>\n",
              "      <th>61</th>\n",
              "      <td>security_and_services</td>\n",
              "      <td>2</td>\n",
              "    </tr>\n",
              "    <tr>\n",
              "      <th>29</th>\n",
              "      <td>fashion_childrens_clothes</td>\n",
              "      <td>7</td>\n",
              "    </tr>\n",
              "    <tr>\n",
              "      <th>11</th>\n",
              "      <td>cds_dvds_musicals</td>\n",
              "      <td>14</td>\n",
              "    </tr>\n",
              "    <tr>\n",
              "      <th>52</th>\n",
              "      <td>la_cuisine</td>\n",
              "      <td>15</td>\n",
              "    </tr>\n",
              "    <tr>\n",
              "      <th>3</th>\n",
              "      <td>arts_and_craftmanship</td>\n",
              "      <td>24</td>\n",
              "    </tr>\n",
              "  </tbody>\n",
              "</table>\n",
              "</div>"
            ],
            "text/plain": [
              "   product_category_name_english  products\n",
              "61         security_and_services         2\n",
              "29     fashion_childrens_clothes         7\n",
              "11             cds_dvds_musicals        14\n",
              "52                    la_cuisine        15\n",
              "3          arts_and_craftmanship        24"
            ]
          },
          "execution_count": 61,
          "metadata": {},
          "output_type": "execute_result"
        }
      ],
      "source": [
        "sum_order_df.sort_values(by=\"products\", ascending=True).head(5)"
      ]
    },
    {
      "cell_type": "code",
      "execution_count": 62,
      "metadata": {
        "colab": {
          "base_uri": "https://localhost:8080/",
          "height": 300
        },
        "id": "nNiJMZlNZ0Sk",
        "outputId": "e566978f-0b62-412d-c2e2-7b39ad92a0a5"
      },
      "outputs": [
        {
          "data": {
            "image/png": "[encoded data removed]",
            "text/plain": [
              "<Figure size 4800x1200 with 2 Axes>"
            ]
          },
          "metadata": {},
          "output_type": "display_data"
        }
      ],
      "source": [
        "fig, ax = plt.subplots(nrows=1, ncols=2, figsize=(48, 12))\n",
        "\n",
        "colors = [\"cyan\", \"#D3D3D3\", \"#D3D3D3\", \"#D3D3D3\", \"#D3D3D3\"]\n",
        "\n",
        "# Produk yang paling banyak dijual\n",
        "sns.barplot(x=\"products\", y=\"product_category_name_english\", data=sum_order_df.head(5), hue=\"product_category_name_english\", palette=colors, dodge=False, ax=ax[0], legend=False)\n",
        "ax[0].set_ylabel(None)\n",
        "ax[0].set_xlabel(None)\n",
        "ax[0].set_title(\"Produk Dengan Penjualan Tertinggi\", loc=\"center\", fontsize=18)\n",
        "ax[0].tick_params(axis='y', labelsize=15)\n",
        "\n",
        "# Label with specially formatted floats\n",
        "hbars = ax[0].containers[0]\n",
        "ax[0].bar_label(hbars, fmt='%.2f')\n",
        "\n",
        "# Produk yang paling sedikit dijual\n",
        "sns.barplot(x=\"products\", y=\"product_category_name_english\", data=sum_order_df.sort_values(by=\"products\", ascending=True).head(5), hue=\"product_category_name_english\", palette=colors, dodge=False, ax=ax[1], legend=False)\n",
        "ax[1].set_ylabel(None)\n",
        "ax[1].set_xlabel(None)\n",
        "ax[1].invert_xaxis()\n",
        "ax[1].yaxis.set_label_position(\"right\")\n",
        "ax[1].yaxis.tick_right()\n",
        "ax[1].set_title(\"Produk Dengan Penjualan Terendah\", loc=\"center\", fontsize=18)\n",
        "ax[1].tick_params(axis='y', labelsize=15)\n",
        "\n",
        "# Label with specially formatted floats\n",
        "hbars = ax[1].containers[0]\n",
        "ax[1].bar_label(hbars, fmt='%.2f')\n",
        "\n",
        "plt.suptitle(\"Penjualan Produk Tertinggi dan Terendah\", fontsize=20)\n",
        "plt.show()"
      ]
    },
    {
      "cell_type": "markdown",
      "metadata": {
        "id": "OUDfdy1seXPq"
      },
      "source": [
        "Dari grafik di atas, dapat disimpulkan bahwa kategori produk yang paling diminati oleh pelanggan adalah **bed_bath_table** dengan 16885 penjualan, sedangkan produk **security and services** merupakan produk yang memiliki penjualan paling rendah, hanya 2 penjualan."
      ]
    },
    {
      "cell_type": "markdown",
      "metadata": {
        "id": "0rFxE0F2AoZn"
      },
      "source": [
        "### **Pertanyaan 2:**\n",
        "**Bagaimana tingkat kepuasan pelanggan pada tahun 2018?**\n"
      ]
    },
    {
      "cell_type": "code",
      "execution_count": 63,
      "metadata": {
        "colab": {
          "base_uri": "https://localhost:8080/",
          "height": 489
        },
        "id": "8sMd1OHieiBq",
        "outputId": "3e0e2bf3-a5c8-4be3-c431-fd93e9f4f4ba"
      },
      "outputs": [
        {
          "data": {
            "image/png": "[encoded data removed]",
            "text/plain": [
              "<Figure size 1000x500 with 1 Axes>"
            ]
          },
          "metadata": {},
          "output_type": "display_data"
        }
      ],
      "source": [
        "all_data['review_creation_date'] = pd.to_datetime(all_data['review_creation_date'])\n",
        "\n",
        "# Filter data for the last 8 months\n",
        "last_six_months_data = all_data[all_data['review_creation_date'] >= all_data['review_creation_date'].max() - pd.DateOffset(months=7)]\n",
        "\n",
        "# Create a bar plot for review scores by month\n",
        "plt.figure(figsize=(10, 5))\n",
        "sns.countplot(x=last_six_months_data['review_creation_date'].dt.month,\n",
        "              hue=last_six_months_data['review_score'],\n",
        "              palette=\"turbo\")\n",
        "\n",
        "plt.title(\"Kepuasan Pelanggan Tahun 2018\", fontsize=15)\n",
        "plt.xlabel(\"Bulan\")\n",
        "plt.ylabel(\"Jumlah Reviews\")\n",
        "plt.legend(title=\"Review Score\", loc='upper right', bbox_to_anchor=(1.2, 1))\n",
        "\n",
        "months = ['Jan', 'Feb', 'Mar', 'Apr', 'May', 'Jun', 'Jul', 'Aug']\n",
        "plt.xticks(range(0, 8), months)\n",
        "\n",
        "plt.show()"
      ]
    },
    {
      "cell_type": "code",
      "execution_count": 64,
      "metadata": {
        "colab": {
          "base_uri": "https://localhost:8080/",
          "height": 0
        },
        "id": "UxOOv-o0f8_k",
        "outputId": "8b96101f-c702-400d-a7a0-624d1b8f5b66"
      },
      "outputs": [
        {
          "name": "stdout",
          "output_type": "stream",
          "text": [
            "Average Review Score: 4.05\n"
          ]
        }
      ],
      "source": [
        "avg_review = last_six_months_data['review_score'].mean()\n",
        "print(f\"Average Review Score: {avg_review:.2f}\")"
      ]
    },
    {
      "cell_type": "markdown",
      "metadata": {
        "id": "Ew2iFil2gy3E"
      },
      "source": [
        "Grafik di atas menunjukkan tingkat kepuasan pelanggan yang tinggi terhadap layanan yang diberikan. Hal ini dapat dilihat dari jumlah pelanggan yang memberikan rating 5 memiliki jumlah data paling banyak dibandingkan rating lainnya. Rata-rata review yang diberikan pada tahun 2018 adalah 4.05, atau sudah diatas rata-rata memuaskan."
      ]
    },
    {
      "cell_type": "markdown",
      "metadata": {
        "id": "nJOFdd_WWQO_"
      },
      "source": [
        "### **Pertanyaan 3:**\n",
        "**Bagaimana distribusi penjualan produk tiap bulannya?**"
      ]
    },
    {
      "cell_type": "code",
      "execution_count": 65,
      "metadata": {
        "id": "C_8Cw3WWV-tf"
      },
      "outputs": [],
      "source": [
        "monthly_order = all_data.resample(rule='ME', on='order_approved_at').agg({\n",
        "    \"order_id\": \"size\",\n",
        "})"
      ]
    },
    {
      "cell_type": "code",
      "execution_count": 66,
      "metadata": {
        "colab": {
          "base_uri": "https://localhost:8080/",
          "height": 770
        },
        "id": "BezbazeDhI5m",
        "outputId": "b4e01fad-da17-4626-d15d-f9618bcccd70"
      },
      "outputs": [
        {
          "data": {
            "application/vnd.microsoft.datawrangler.viewer.v0+json": {
              "columns": [
                {
                  "name": "index",
                  "rawType": "int64",
                  "type": "integer"
                },
                {
                  "name": "order_approved_at",
                  "rawType": "object",
                  "type": "string"
                },
                {
                  "name": "order_count",
                  "rawType": "int64",
                  "type": "integer"
                }
              ],
              "conversionMethod": "pd.DataFrame",
              "ref": "13793f8e-a575-44c1-bb07-7edb6126f49b",
              "rows": [
                [
                  "0",
                  "October",
                  "334"
                ],
                [
                  "1",
                  "November",
                  "0"
                ],
                [
                  "2",
                  "December",
                  "1"
                ],
                [
                  "3",
                  "January",
                  "914"
                ],
                [
                  "4",
                  "February",
                  "1892"
                ],
                [
                  "5",
                  "March",
                  "3023"
                ],
                [
                  "6",
                  "April",
                  "2592"
                ],
                [
                  "7",
                  "May",
                  "4170"
                ],
                [
                  "8",
                  "June",
                  "3651"
                ],
                [
                  "9",
                  "July",
                  "4614"
                ],
                [
                  "10",
                  "August",
                  "5005"
                ],
                [
                  "11",
                  "September",
                  "4938"
                ],
                [
                  "12",
                  "October",
                  "5337"
                ],
                [
                  "13",
                  "November",
                  "8533"
                ],
                [
                  "14",
                  "December",
                  "6466"
                ],
                [
                  "15",
                  "January",
                  "8040"
                ],
                [
                  "16",
                  "February",
                  "7653"
                ],
                [
                  "17",
                  "March",
                  "8276"
                ],
                [
                  "18",
                  "April",
                  "7795"
                ],
                [
                  "19",
                  "May",
                  "8254"
                ],
                [
                  "20",
                  "June",
                  "7253"
                ],
                [
                  "21",
                  "July",
                  "6979"
                ],
                [
                  "22",
                  "August",
                  "7487"
                ]
              ],
              "shape": {
                "columns": 2,
                "rows": 23
              }
            },
            "text/html": [
              "<div>\n",
              "<style scoped>\n",
              "    .dataframe tbody tr th:only-of-type {\n",
              "        vertical-align: middle;\n",
              "    }\n",
              "\n",
              "    .dataframe tbody tr th {\n",
              "        vertical-align: top;\n",
              "    }\n",
              "\n",
              "    .dataframe thead th {\n",
              "        text-align: right;\n",
              "    }\n",
              "</style>\n",
              "<table border=\"1\" class=\"dataframe\">\n",
              "  <thead>\n",
              "    <tr style=\"text-align: right;\">\n",
              "      <th></th>\n",
              "      <th>order_approved_at</th>\n",
              "      <th>order_count</th>\n",
              "    </tr>\n",
              "  </thead>\n",
              "  <tbody>\n",
              "    <tr>\n",
              "      <th>0</th>\n",
              "      <td>October</td>\n",
              "      <td>334</td>\n",
              "    </tr>\n",
              "    <tr>\n",
              "      <th>1</th>\n",
              "      <td>November</td>\n",
              "      <td>0</td>\n",
              "    </tr>\n",
              "    <tr>\n",
              "      <th>2</th>\n",
              "      <td>December</td>\n",
              "      <td>1</td>\n",
              "    </tr>\n",
              "    <tr>\n",
              "      <th>3</th>\n",
              "      <td>January</td>\n",
              "      <td>914</td>\n",
              "    </tr>\n",
              "    <tr>\n",
              "      <th>4</th>\n",
              "      <td>February</td>\n",
              "      <td>1892</td>\n",
              "    </tr>\n",
              "    <tr>\n",
              "      <th>5</th>\n",
              "      <td>March</td>\n",
              "      <td>3023</td>\n",
              "    </tr>\n",
              "    <tr>\n",
              "      <th>6</th>\n",
              "      <td>April</td>\n",
              "      <td>2592</td>\n",
              "    </tr>\n",
              "    <tr>\n",
              "      <th>7</th>\n",
              "      <td>May</td>\n",
              "      <td>4170</td>\n",
              "    </tr>\n",
              "    <tr>\n",
              "      <th>8</th>\n",
              "      <td>June</td>\n",
              "      <td>3651</td>\n",
              "    </tr>\n",
              "    <tr>\n",
              "      <th>9</th>\n",
              "      <td>July</td>\n",
              "      <td>4614</td>\n",
              "    </tr>\n",
              "    <tr>\n",
              "      <th>10</th>\n",
              "      <td>August</td>\n",
              "      <td>5005</td>\n",
              "    </tr>\n",
              "    <tr>\n",
              "      <th>11</th>\n",
              "      <td>September</td>\n",
              "      <td>4938</td>\n",
              "    </tr>\n",
              "    <tr>\n",
              "      <th>12</th>\n",
              "      <td>October</td>\n",
              "      <td>5337</td>\n",
              "    </tr>\n",
              "    <tr>\n",
              "      <th>13</th>\n",
              "      <td>November</td>\n",
              "      <td>8533</td>\n",
              "    </tr>\n",
              "    <tr>\n",
              "      <th>14</th>\n",
              "      <td>December</td>\n",
              "      <td>6466</td>\n",
              "    </tr>\n",
              "    <tr>\n",
              "      <th>15</th>\n",
              "      <td>January</td>\n",
              "      <td>8040</td>\n",
              "    </tr>\n",
              "    <tr>\n",
              "      <th>16</th>\n",
              "      <td>February</td>\n",
              "      <td>7653</td>\n",
              "    </tr>\n",
              "    <tr>\n",
              "      <th>17</th>\n",
              "      <td>March</td>\n",
              "      <td>8276</td>\n",
              "    </tr>\n",
              "    <tr>\n",
              "      <th>18</th>\n",
              "      <td>April</td>\n",
              "      <td>7795</td>\n",
              "    </tr>\n",
              "    <tr>\n",
              "      <th>19</th>\n",
              "      <td>May</td>\n",
              "      <td>8254</td>\n",
              "    </tr>\n",
              "    <tr>\n",
              "      <th>20</th>\n",
              "      <td>June</td>\n",
              "      <td>7253</td>\n",
              "    </tr>\n",
              "    <tr>\n",
              "      <th>21</th>\n",
              "      <td>July</td>\n",
              "      <td>6979</td>\n",
              "    </tr>\n",
              "    <tr>\n",
              "      <th>22</th>\n",
              "      <td>August</td>\n",
              "      <td>7487</td>\n",
              "    </tr>\n",
              "  </tbody>\n",
              "</table>\n",
              "</div>"
            ],
            "text/plain": [
              "   order_approved_at  order_count\n",
              "0            October          334\n",
              "1           November            0\n",
              "2           December            1\n",
              "3            January          914\n",
              "4           February         1892\n",
              "5              March         3023\n",
              "6              April         2592\n",
              "7                May         4170\n",
              "8               June         3651\n",
              "9               July         4614\n",
              "10            August         5005\n",
              "11         September         4938\n",
              "12           October         5337\n",
              "13          November         8533\n",
              "14          December         6466\n",
              "15           January         8040\n",
              "16          February         7653\n",
              "17             March         8276\n",
              "18             April         7795\n",
              "19               May         8254\n",
              "20              June         7253\n",
              "21              July         6979\n",
              "22            August         7487"
            ]
          },
          "execution_count": 66,
          "metadata": {},
          "output_type": "execute_result"
        }
      ],
      "source": [
        "monthly_order.index = monthly_order.index.strftime('%B')\n",
        "monthly_order = monthly_order.reset_index()\n",
        "monthly_order.rename(columns={\n",
        "    \"order_id\": \"order_count\",\n",
        "}, inplace=True)\n",
        "monthly_order"
      ]
    },
    {
      "cell_type": "code",
      "execution_count": 67,
      "metadata": {
        "colab": {
          "base_uri": "https://localhost:8080/",
          "height": 425
        },
        "id": "mdbpzM4fhjl3",
        "outputId": "b209cbc6-019f-47b8-9295-4a64fdfdfabf"
      },
      "outputs": [
        {
          "data": {
            "application/vnd.microsoft.datawrangler.viewer.v0+json": {
              "columns": [
                {
                  "name": "index",
                  "rawType": "int64",
                  "type": "integer"
                },
                {
                  "name": "order_approved_at",
                  "rawType": "object",
                  "type": "string"
                },
                {
                  "name": "order_count",
                  "rawType": "int64",
                  "type": "integer"
                }
              ],
              "conversionMethod": "pd.DataFrame",
              "ref": "f0367aef-7c07-48c7-ab9b-f328ea9802cd",
              "rows": [
                [
                  "11",
                  "September",
                  "4938"
                ],
                [
                  "12",
                  "October",
                  "5337"
                ],
                [
                  "14",
                  "December",
                  "6466"
                ],
                [
                  "21",
                  "July",
                  "6979"
                ],
                [
                  "20",
                  "June",
                  "7253"
                ],
                [
                  "22",
                  "August",
                  "7487"
                ],
                [
                  "16",
                  "February",
                  "7653"
                ],
                [
                  "18",
                  "April",
                  "7795"
                ],
                [
                  "15",
                  "January",
                  "8040"
                ],
                [
                  "19",
                  "May",
                  "8254"
                ],
                [
                  "17",
                  "March",
                  "8276"
                ],
                [
                  "13",
                  "November",
                  "8533"
                ]
              ],
              "shape": {
                "columns": 2,
                "rows": 12
              }
            },
            "text/html": [
              "<div>\n",
              "<style scoped>\n",
              "    .dataframe tbody tr th:only-of-type {\n",
              "        vertical-align: middle;\n",
              "    }\n",
              "\n",
              "    .dataframe tbody tr th {\n",
              "        vertical-align: top;\n",
              "    }\n",
              "\n",
              "    .dataframe thead th {\n",
              "        text-align: right;\n",
              "    }\n",
              "</style>\n",
              "<table border=\"1\" class=\"dataframe\">\n",
              "  <thead>\n",
              "    <tr style=\"text-align: right;\">\n",
              "      <th></th>\n",
              "      <th>order_approved_at</th>\n",
              "      <th>order_count</th>\n",
              "    </tr>\n",
              "  </thead>\n",
              "  <tbody>\n",
              "    <tr>\n",
              "      <th>11</th>\n",
              "      <td>September</td>\n",
              "      <td>4938</td>\n",
              "    </tr>\n",
              "    <tr>\n",
              "      <th>12</th>\n",
              "      <td>October</td>\n",
              "      <td>5337</td>\n",
              "    </tr>\n",
              "    <tr>\n",
              "      <th>14</th>\n",
              "      <td>December</td>\n",
              "      <td>6466</td>\n",
              "    </tr>\n",
              "    <tr>\n",
              "      <th>21</th>\n",
              "      <td>July</td>\n",
              "      <td>6979</td>\n",
              "    </tr>\n",
              "    <tr>\n",
              "      <th>20</th>\n",
              "      <td>June</td>\n",
              "      <td>7253</td>\n",
              "    </tr>\n",
              "    <tr>\n",
              "      <th>22</th>\n",
              "      <td>August</td>\n",
              "      <td>7487</td>\n",
              "    </tr>\n",
              "    <tr>\n",
              "      <th>16</th>\n",
              "      <td>February</td>\n",
              "      <td>7653</td>\n",
              "    </tr>\n",
              "    <tr>\n",
              "      <th>18</th>\n",
              "      <td>April</td>\n",
              "      <td>7795</td>\n",
              "    </tr>\n",
              "    <tr>\n",
              "      <th>15</th>\n",
              "      <td>January</td>\n",
              "      <td>8040</td>\n",
              "    </tr>\n",
              "    <tr>\n",
              "      <th>19</th>\n",
              "      <td>May</td>\n",
              "      <td>8254</td>\n",
              "    </tr>\n",
              "    <tr>\n",
              "      <th>17</th>\n",
              "      <td>March</td>\n",
              "      <td>8276</td>\n",
              "    </tr>\n",
              "    <tr>\n",
              "      <th>13</th>\n",
              "      <td>November</td>\n",
              "      <td>8533</td>\n",
              "    </tr>\n",
              "  </tbody>\n",
              "</table>\n",
              "</div>"
            ],
            "text/plain": [
              "   order_approved_at  order_count\n",
              "11         September         4938\n",
              "12           October         5337\n",
              "14          December         6466\n",
              "21              July         6979\n",
              "20              June         7253\n",
              "22            August         7487\n",
              "16          February         7653\n",
              "18             April         7795\n",
              "15           January         8040\n",
              "19               May         8254\n",
              "17             March         8276\n",
              "13          November         8533"
            ]
          },
          "execution_count": 67,
          "metadata": {},
          "output_type": "execute_result"
        }
      ],
      "source": [
        "monthly_order = monthly_order.sort_values('order_count').drop_duplicates('order_approved_at', keep='last')\n",
        "monthly_order"
      ]
    },
    {
      "cell_type": "code",
      "execution_count": 68,
      "metadata": {
        "id": "pzeZ6Il5hpAu"
      },
      "outputs": [
        {
          "name": "stdout",
          "output_type": "stream",
          "text": [
            "   order_approved_at  order_count  month_numeric\n",
            "15           January         8040              1\n",
            "16          February         7653              2\n",
            "17             March         8276              3\n",
            "18             April         7795              4\n",
            "19               May         8254              5\n",
            "20              June         7253              6\n",
            "21              July         6979              7\n",
            "22            August         7487              8\n",
            "11         September         4938              9\n",
            "12           October         5337             10\n",
            "13          November         8533             11\n",
            "14          December         6466             12\n"
          ]
        }
      ],
      "source": [
        "month_mapping = {\n",
        "    \"January\": 1,\n",
        "    \"February\": 2,\n",
        "    \"March\": 3,\n",
        "    \"April\": 4,\n",
        "    \"May\": 5,\n",
        "    \"June\": 6,\n",
        "    \"July\": 7,\n",
        "    \"August\": 8,\n",
        "    \"September\": 9,\n",
        "    \"October\": 10,\n",
        "    \"November\": 11,\n",
        "    \"December\": 12\n",
        "}\n",
        "\n",
        "monthly_order[\"month_numeric\"] = monthly_order[\"order_approved_at\"].map(month_mapping)\n",
        "monthly_order = monthly_order.sort_values(\"month_numeric\")\n",
        "\n",
        "print(monthly_order)"
      ]
    },
    {
      "cell_type": "code",
      "execution_count": 69,
      "metadata": {
        "colab": {
          "base_uri": "https://localhost:8080/",
          "height": 526
        },
        "id": "cRvRnu5ChsAb",
        "outputId": "ce6a44fe-b05d-4145-b619-16962db02c9d"
      },
      "outputs": [
        {
          "data": {
            "image/png": "[encoded data removed]",
            "text/plain": [
              "<Figure size 1000x500 with 1 Axes>"
            ]
          },
          "metadata": {},
          "output_type": "display_data"
        }
      ],
      "source": [
        "plt.figure(figsize=(10, 5))\n",
        "plt.plot(\n",
        "    monthly_order[\"order_approved_at\"],\n",
        "    monthly_order[\"order_count\"],\n",
        "    marker='o',\n",
        "    linewidth=2,\n",
        "    color=\"#72BCD4\"\n",
        ")\n",
        "plt.title(\"Jumlah Order Setiap Bulan\", loc=\"center\", fontsize=20)\n",
        "plt.xticks(fontsize=10, rotation=45, ha='right')\n",
        "plt.xlabel(\"Bulan\", fontsize=15)\n",
        "plt.yticks(fontsize=10)\n",
        "\n",
        "# Add value at each data point\n",
        "for x, y in zip(monthly_order[\"order_approved_at\"], monthly_order[\"order_count\"]):\n",
        "    label = \"{:.0f}\".format(y)  # Format the label (e.g., to remove decimals)\n",
        "    plt.text(x, y, label, ha='center', va='bottom') # Adjust ha and va for label position\n",
        "\n",
        "plt.show()"
      ]
    },
    {
      "cell_type": "markdown",
      "metadata": {
        "id": "EhWvTsMZiSMw"
      },
      "source": [
        "Dari visualisasi grafik, terlihat bahwa penjualan terendah pada bulan September, diikuti oleh kenaikan pada bulan Oktober dan kemudian puncaknya naik lagi pada bulan November."
      ]
    },
    {
      "cell_type": "markdown",
      "metadata": {
        "id": "WD3YfKUmnkIH"
      },
      "source": [
        "# **Memanggil Dashboard Streamlite**"
      ]
    },
    {
      "cell_type": "code",
      "execution_count": 70,
      "metadata": {
        "colab": {
          "base_uri": "https://localhost:8080/",
          "height": 0
        },
        "id": "GhwSJYhcsnoW",
        "outputId": "7929a6b8-2719-4160-bc90-782989943cb4"
      },
      "outputs": [
        {
          "name": "stdout",
          "output_type": "stream",
          "text": [
            "Requirement already satisfied: streamlit in d:\\zcode\\mycode\\dicoding-101\\dicoding101-py3.13.4\\lib\\site-packages (1.44.1)\n",
            "Requirement already satisfied: altair<6,>=4.0 in d:\\zcode\\mycode\\dicoding-101\\dicoding101-py3.13.4\\lib\\site-packages (from streamlit) (5.5.0)\n",
            "Requirement already satisfied: blinker<2,>=1.0.0 in d:\\zcode\\mycode\\dicoding-101\\dicoding101-py3.13.4\\lib\\site-packages (from streamlit) (1.9.0)\n",
            "Requirement already satisfied: cachetools<6,>=4.0 in d:\\zcode\\mycode\\dicoding-101\\dicoding101-py3.13.4\\lib\\site-packages (from streamlit) (5.5.2)\n",
            "Requirement already satisfied: click<9,>=7.0 in d:\\zcode\\mycode\\dicoding-101\\dicoding101-py3.13.4\\lib\\site-packages (from streamlit) (8.1.8)\n",
            "Requirement already satisfied: numpy<3,>=1.23 in d:\\zcode\\mycode\\dicoding-101\\dicoding101-py3.13.4\\lib\\site-packages (from streamlit) (2.2.4)\n",
            "Requirement already satisfied: packaging<25,>=20 in d:\\zcode\\mycode\\dicoding-101\\dicoding101-py3.13.4\\lib\\site-packages (from streamlit) (24.2)\n",
            "Requirement already satisfied: pandas<3,>=1.4.0 in d:\\zcode\\mycode\\dicoding-101\\dicoding101-py3.13.4\\lib\\site-packages (from streamlit) (2.2.3)\n",
            "Requirement already satisfied: pillow<12,>=7.1.0 in d:\\zcode\\mycode\\dicoding-101\\dicoding101-py3.13.4\\lib\\site-packages (from streamlit) (11.1.0)\n",
            "Requirement already satisfied: protobuf<6,>=3.20 in d:\\zcode\\mycode\\dicoding-101\\dicoding101-py3.13.4\\lib\\site-packages (from streamlit) (5.29.4)\n",
            "Requirement already satisfied: pyarrow>=7.0 in d:\\zcode\\mycode\\dicoding-101\\dicoding101-py3.13.4\\lib\\site-packages (from streamlit) (19.0.1)\n",
            "Requirement already satisfied: requests<3,>=2.27 in d:\\zcode\\mycode\\dicoding-101\\dicoding101-py3.13.4\\lib\\site-packages (from streamlit) (2.32.3)\n",
            "Requirement already satisfied: tenacity<10,>=8.1.0 in d:\\zcode\\mycode\\dicoding-101\\dicoding101-py3.13.4\\lib\\site-packages (from streamlit) (9.1.2)\n",
            "Requirement already satisfied: toml<2,>=0.10.1 in d:\\zcode\\mycode\\dicoding-101\\dicoding101-py3.13.4\\lib\\site-packages (from streamlit) (0.10.2)\n",
            "Requirement already satisfied: typing-extensions<5,>=4.4.0 in d:\\zcode\\mycode\\dicoding-101\\dicoding101-py3.13.4\\lib\\site-packages (from streamlit) (4.13.1)\n",
            "Requirement already satisfied: watchdog<7,>=2.1.5 in d:\\zcode\\mycode\\dicoding-101\\dicoding101-py3.13.4\\lib\\site-packages (from streamlit) (6.0.0)\n",
            "Requirement already satisfied: gitpython!=3.1.19,<4,>=3.0.7 in d:\\zcode\\mycode\\dicoding-101\\dicoding101-py3.13.4\\lib\\site-packages (from streamlit) (3.1.44)\n",
            "Requirement already satisfied: pydeck<1,>=0.8.0b4 in d:\\zcode\\mycode\\dicoding-101\\dicoding101-py3.13.4\\lib\\site-packages (from streamlit) (0.9.1)\n",
            "Requirement already satisfied: tornado<7,>=6.0.3 in d:\\zcode\\mycode\\dicoding-101\\dicoding101-py3.13.4\\lib\\site-packages (from streamlit) (6.4.2)\n",
            "Requirement already satisfied: jinja2 in d:\\zcode\\mycode\\dicoding-101\\dicoding101-py3.13.4\\lib\\site-packages (from altair<6,>=4.0->streamlit) (3.1.6)\n",
            "Requirement already satisfied: jsonschema>=3.0 in d:\\zcode\\mycode\\dicoding-101\\dicoding101-py3.13.4\\lib\\site-packages (from altair<6,>=4.0->streamlit) (4.23.0)\n",
            "Requirement already satisfied: narwhals>=1.14.2 in d:\\zcode\\mycode\\dicoding-101\\dicoding101-py3.13.4\\lib\\site-packages (from altair<6,>=4.0->streamlit) (1.33.0)\n",
            "Requirement already satisfied: colorama in d:\\zcode\\mycode\\dicoding-101\\dicoding101-py3.13.4\\lib\\site-packages (from click<9,>=7.0->streamlit) (0.4.6)\n",
            "Requirement already satisfied: gitdb<5,>=4.0.1 in d:\\zcode\\mycode\\dicoding-101\\dicoding101-py3.13.4\\lib\\site-packages (from gitpython!=3.1.19,<4,>=3.0.7->streamlit) (4.0.12)\n",
            "Requirement already satisfied: python-dateutil>=2.8.2 in d:\\zcode\\mycode\\dicoding-101\\dicoding101-py3.13.4\\lib\\site-packages (from pandas<3,>=1.4.0->streamlit) (2.9.0.post0)\n",
            "Requirement already satisfied: pytz>=2020.1 in d:\\zcode\\mycode\\dicoding-101\\dicoding101-py3.13.4\\lib\\site-packages (from pandas<3,>=1.4.0->streamlit) (2025.2)\n",
            "Requirement already satisfied: tzdata>=2022.7 in d:\\zcode\\mycode\\dicoding-101\\dicoding101-py3.13.4\\lib\\site-packages (from pandas<3,>=1.4.0->streamlit) (2025.2)\n",
            "Requirement already satisfied: charset-normalizer<4,>=2 in d:\\zcode\\mycode\\dicoding-101\\dicoding101-py3.13.4\\lib\\site-packages (from requests<3,>=2.27->streamlit) (3.4.1)\n",
            "Requirement already satisfied: idna<4,>=2.5 in d:\\zcode\\mycode\\dicoding-101\\dicoding101-py3.13.4\\lib\\site-packages (from requests<3,>=2.27->streamlit) (3.10)\n",
            "Requirement already satisfied: urllib3<3,>=1.21.1 in d:\\zcode\\mycode\\dicoding-101\\dicoding101-py3.13.4\\lib\\site-packages (from requests<3,>=2.27->streamlit) (2.3.0)\n",
            "Requirement already satisfied: certifi>=2017.4.17 in d:\\zcode\\mycode\\dicoding-101\\dicoding101-py3.13.4\\lib\\site-packages (from requests<3,>=2.27->streamlit) (2025.1.31)\n",
            "Requirement already satisfied: smmap<6,>=3.0.1 in d:\\zcode\\mycode\\dicoding-101\\dicoding101-py3.13.4\\lib\\site-packages (from gitdb<5,>=4.0.1->gitpython!=3.1.19,<4,>=3.0.7->streamlit) (5.0.2)\n",
            "Requirement already satisfied: MarkupSafe>=2.0 in d:\\zcode\\mycode\\dicoding-101\\dicoding101-py3.13.4\\lib\\site-packages (from jinja2->altair<6,>=4.0->streamlit) (3.0.2)\n",
            "Requirement already satisfied: attrs>=22.2.0 in d:\\zcode\\mycode\\dicoding-101\\dicoding101-py3.13.4\\lib\\site-packages (from jsonschema>=3.0->altair<6,>=4.0->streamlit) (25.3.0)\n",
            "Requirement already satisfied: jsonschema-specifications>=2023.03.6 in d:\\zcode\\mycode\\dicoding-101\\dicoding101-py3.13.4\\lib\\site-packages (from jsonschema>=3.0->altair<6,>=4.0->streamlit) (2024.10.1)\n",
            "Requirement already satisfied: referencing>=0.28.4 in d:\\zcode\\mycode\\dicoding-101\\dicoding101-py3.13.4\\lib\\site-packages (from jsonschema>=3.0->altair<6,>=4.0->streamlit) (0.36.2)\n",
            "Requirement already satisfied: rpds-py>=0.7.1 in d:\\zcode\\mycode\\dicoding-101\\dicoding101-py3.13.4\\lib\\site-packages (from jsonschema>=3.0->altair<6,>=4.0->streamlit) (0.24.0)\n",
            "Requirement already satisfied: six>=1.5 in d:\\zcode\\mycode\\dicoding-101\\dicoding101-py3.13.4\\lib\\site-packages (from python-dateutil>=2.8.2->pandas<3,>=1.4.0->streamlit) (1.17.0)\n",
            "Note: you may need to restart the kernel to use updated packages.\n"
          ]
        }
      ],
      "source": [
        "%pip install  streamlit"
      ]
    },
    {
      "cell_type": "code",
      "execution_count": 71,
      "metadata": {},
      "outputs": [
        {
          "name": "stdout",
          "output_type": "stream",
          "text": [
            "^C\n"
          ]
        }
      ],
      "source": [
        "!streamlit run dashboard/main.py\n"
      ]
    },
    {
      "cell_type": "markdown",
      "metadata": {
        "id": "Fu3GK_IZA048"
      },
      "source": [
        "# **Analisis Lanjutan (Opsional)**"
      ]
    },
    {
      "cell_type": "markdown",
      "metadata": {
        "id": "DVsBrltsilc4"
      },
      "source": [
        "## **RFM Analysis**"
      ]
    },
    {
      "cell_type": "code",
      "execution_count": 72,
      "metadata": {
        "id": "1TIjAQDjA2Bc"
      },
      "outputs": [],
      "source": [
        "import datetime as dt\n",
        "\n",
        "now = dt.datetime(2018, 10, 17)\n",
        "\n",
        "all_data['order_purchase_timestamp'] = pd.to_datetime(all_data['order_purchase_timestamp'])\n",
        "\n",
        "# Group by 'customer_id' and calculate Recency, Frequency, and Monetary\n",
        "recency = (now - all_data.groupby('customer_id')['order_purchase_timestamp'].max()).dt.days\n",
        "frequency = all_data.groupby('customer_id')['order_id'].count()\n",
        "monetary = all_data.groupby('customer_id')['price'].sum()"
      ]
    },
    {
      "cell_type": "code",
      "execution_count": 73,
      "metadata": {
        "id": "FtsK2ZniivrL"
      },
      "outputs": [],
      "source": [
        "rfm = pd.DataFrame({\n",
        "    'customer_id': recency.index,\n",
        "    'Recency': recency.values,\n",
        "    'Frequency': frequency.values,\n",
        "    'Monetary': monetary.values\n",
        "})\n",
        "\n",
        "# Calculate Percentiles\n",
        "rfm_percentiles = rfm[['Recency', 'Frequency', 'Monetary']].rank(pct=True)\n",
        "\n",
        "# RFM Segmentation\n",
        "rfm['RFM_Score'] = rfm_percentiles['Recency'] * 100 + rfm_percentiles['Frequency'] * 10 + rfm_percentiles['Monetary']\n",
        "rfm['RFM_Score'] = rfm['RFM_Score'].clip(0, 100)\n",
        "rfm_segment = pd.cut(rfm['RFM_Score'], bins=[0, 33, 66, 100], labels=['Low', 'Mid', 'High'])\n",
        "rfm['Segment'] = rfm_segment"
      ]
    },
    {
      "cell_type": "code",
      "execution_count": 74,
      "metadata": {
        "colab": {
          "base_uri": "https://localhost:8080/",
          "height": 472
        },
        "id": "7lpK4x0vizAO",
        "outputId": "332cd498-f638-405c-f835-49e18c3f67ab"
      },
      "outputs": [
        {
          "data": {
            "image/png": "[encoded data removed]",
            "text/plain": [
              "<Figure size 640x480 with 1 Axes>"
            ]
          },
          "metadata": {},
          "output_type": "display_data"
        }
      ],
      "source": [
        "# Visualize RFM Segments\n",
        "sns.scatterplot(x='Recency', y='Frequency', hue='Segment', data=rfm)\n",
        "plt.title('RFM Segmentation')\n",
        "plt.xlabel('Kekinian (Jumlah Hari Sejak Pembelian Terakhir)')\n",
        "plt.ylabel('Frekuansi (Jumlah Pembelian)')\n",
        "plt.show()"
      ]
    },
    {
      "cell_type": "markdown",
      "metadata": {
        "id": "yd2AQrwNjgit"
      },
      "source": [
        "Insight :\n",
        "\n",
        "* Sumbu horizontal (X-axis) menunjukkan nilai Recency, yang merupakan jumlah hari sejak pelanggan melakukan pembelian terakhir. Nilai yang lebih rendah menunjukkan pelanggan yang baru-baru ini melakukan pembelian.\n",
        "* Sumbu vertikal (Y-axis) menunjukkan nilai Frequency, yaitu jumlah pembelian yang dilakukan oleh pelanggan. Nilai yang lebih tinggi menunjukkan pelanggan yang sering melakukan pembelian.\n",
        "* Visualisasi tersebut menunjukkan bahwa frequency pembelian customer kebanyakan masih rendah, yaitu <10 pembelian. Juga kebanyakan pembeli telah lama tidak melakukan pembelian, ditandai dengan segment high yang lebih banyak dibandingkan segment lain"
      ]
    },
    {
      "cell_type": "markdown",
      "metadata": {
        "id": "zalgSeZ6jur7"
      },
      "source": [
        "### **Keterangan dari kolom-kolom analisis RFM**"
      ]
    },
    {
      "cell_type": "markdown",
      "metadata": {
        "id": "a7QogXX7jwPI"
      },
      "source": [
        "* Recency: Menunjukkan seberapa lama pelanggan terakhir kali melakukan pembelian. Semakin kecil nilai Recency, semakin baru pelanggan tersebut melakukan pembelian.\n",
        "\n",
        "* Frequency: Menunjukkan seberapa sering pelanggan melakukan pembelian dalam suatu periode waktu tertentu. Nilai Frequency yang tinggi menunjukkan bahwa pelanggan tersebut sering melakukan pembelian.\n",
        "\n",
        "* Monetary: Menunjukkan total nilai pembelian atau pengeluaran yang dilakukan oleh pelanggan. Nilai Monetary yang tinggi menunjukkan bahwa pelanggan tersebut menghabiskan lebih banyak uang.\n",
        "\n",
        "* RFM_Score: Merupakan nilai skor yang dihasilkan dari kombinasi Recency, Frequency, dan Monetary. RFM Score yang tinggi menunjukkan pelanggan yang masih aktif, berbelanja secara teratur, dan memberikan kontribusi signifikan terhadap pendapatan bisnis.\n",
        "\n",
        "* Segment: Segment \"High\" akan berisi pelanggan yang baru-baru ini sering berbelanja dan menghabiskan banyak uang, sedangkan segment \"Low\" akan berisi pelanggan yang jarang berbelanja dan menghabiskan sedikit uang. Segment \"Mid\" berada di tengah-tengah, menunjukkan perilaku yang tidak terlalu ekstrem dalam hal Recency, Frequency, dan Monetary."
      ]
    },
    {
      "cell_type": "code",
      "execution_count": 75,
      "metadata": {
        "colab": {
          "base_uri": "https://localhost:8080/",
          "height": 206
        },
        "id": "N7RE8Z61j4u6",
        "outputId": "4971b023-951d-427c-8351-ebe764aee46e"
      },
      "outputs": [
        {
          "data": {
            "application/vnd.microsoft.datawrangler.viewer.v0+json": {
              "columns": [
                {
                  "name": "index",
                  "rawType": "int64",
                  "type": "integer"
                },
                {
                  "name": "customer_id",
                  "rawType": "object",
                  "type": "string"
                },
                {
                  "name": "Recency",
                  "rawType": "int64",
                  "type": "integer"
                },
                {
                  "name": "Frequency",
                  "rawType": "int64",
                  "type": "integer"
                },
                {
                  "name": "Monetary",
                  "rawType": "float64",
                  "type": "float"
                },
                {
                  "name": "RFM_Score",
                  "rawType": "float64",
                  "type": "float"
                },
                {
                  "name": "Segment",
                  "rawType": "category",
                  "type": "unknown"
                }
              ],
              "conversionMethod": "pd.DataFrame",
              "ref": "68ad1f45-09f4-419a-a074-551c5752bae3",
              "rows": [
                [
                  "8146",
                  "1617b1357756262bfa56ab541c47bc16",
                  "382",
                  "8",
                  "13440.0",
                  "83.90578298971255",
                  "High"
                ],
                [
                  "82310",
                  "de832e8dbb1f588a47013e53feaa67cc",
                  "505",
                  "15",
                  "10856.1",
                  "99.94039202404639",
                  "High"
                ],
                [
                  "36711",
                  "63b964e79dee32a3587651701a2b8dbf",
                  "244",
                  "24",
                  "9888.0",
                  "55.61758604631472",
                  "Mid"
                ],
                [
                  "40915",
                  "6f241d5bbb142b6f764387c8c270645a",
                  "159",
                  "7",
                  "9520.14",
                  "34.77335845222471",
                  "Mid"
                ],
                [
                  "54008",
                  "926b6a6fb8b6081e00b335edaf578d35",
                  "546",
                  "2",
                  "7998.0",
                  "100.0",
                  "High"
                ]
              ],
              "shape": {
                "columns": 6,
                "rows": 5
              }
            },
            "text/html": [
              "<div>\n",
              "<style scoped>\n",
              "    .dataframe tbody tr th:only-of-type {\n",
              "        vertical-align: middle;\n",
              "    }\n",
              "\n",
              "    .dataframe tbody tr th {\n",
              "        vertical-align: top;\n",
              "    }\n",
              "\n",
              "    .dataframe thead th {\n",
              "        text-align: right;\n",
              "    }\n",
              "</style>\n",
              "<table border=\"1\" class=\"dataframe\">\n",
              "  <thead>\n",
              "    <tr style=\"text-align: right;\">\n",
              "      <th></th>\n",
              "      <th>customer_id</th>\n",
              "      <th>Recency</th>\n",
              "      <th>Frequency</th>\n",
              "      <th>Monetary</th>\n",
              "      <th>RFM_Score</th>\n",
              "      <th>Segment</th>\n",
              "    </tr>\n",
              "  </thead>\n",
              "  <tbody>\n",
              "    <tr>\n",
              "      <th>8146</th>\n",
              "      <td>1617b1357756262bfa56ab541c47bc16</td>\n",
              "      <td>382</td>\n",
              "      <td>8</td>\n",
              "      <td>13440.00</td>\n",
              "      <td>83.905783</td>\n",
              "      <td>High</td>\n",
              "    </tr>\n",
              "    <tr>\n",
              "      <th>82310</th>\n",
              "      <td>de832e8dbb1f588a47013e53feaa67cc</td>\n",
              "      <td>505</td>\n",
              "      <td>15</td>\n",
              "      <td>10856.10</td>\n",
              "      <td>99.940392</td>\n",
              "      <td>High</td>\n",
              "    </tr>\n",
              "    <tr>\n",
              "      <th>36711</th>\n",
              "      <td>63b964e79dee32a3587651701a2b8dbf</td>\n",
              "      <td>244</td>\n",
              "      <td>24</td>\n",
              "      <td>9888.00</td>\n",
              "      <td>55.617586</td>\n",
              "      <td>Mid</td>\n",
              "    </tr>\n",
              "    <tr>\n",
              "      <th>40915</th>\n",
              "      <td>6f241d5bbb142b6f764387c8c270645a</td>\n",
              "      <td>159</td>\n",
              "      <td>7</td>\n",
              "      <td>9520.14</td>\n",
              "      <td>34.773358</td>\n",
              "      <td>Mid</td>\n",
              "    </tr>\n",
              "    <tr>\n",
              "      <th>54008</th>\n",
              "      <td>926b6a6fb8b6081e00b335edaf578d35</td>\n",
              "      <td>546</td>\n",
              "      <td>2</td>\n",
              "      <td>7998.00</td>\n",
              "      <td>100.000000</td>\n",
              "      <td>High</td>\n",
              "    </tr>\n",
              "  </tbody>\n",
              "</table>\n",
              "</div>"
            ],
            "text/plain": [
              "                            customer_id  Recency  Frequency  Monetary  \\\n",
              "8146   1617b1357756262bfa56ab541c47bc16      382          8  13440.00   \n",
              "82310  de832e8dbb1f588a47013e53feaa67cc      505         15  10856.10   \n",
              "36711  63b964e79dee32a3587651701a2b8dbf      244         24   9888.00   \n",
              "40915  6f241d5bbb142b6f764387c8c270645a      159          7   9520.14   \n",
              "54008  926b6a6fb8b6081e00b335edaf578d35      546          2   7998.00   \n",
              "\n",
              "        RFM_Score Segment  \n",
              "8146    83.905783    High  \n",
              "82310   99.940392    High  \n",
              "36711   55.617586     Mid  \n",
              "40915   34.773358     Mid  \n",
              "54008  100.000000    High  "
            ]
          },
          "execution_count": 75,
          "metadata": {},
          "output_type": "execute_result"
        }
      ],
      "source": [
        "# Customer dengan pengeluaran terbesar\n",
        "top_monetary_customers = rfm.sort_values(by='Monetary', ascending=False).head(10)\n",
        "top_monetary_customers.head()"
      ]
    },
    {
      "cell_type": "code",
      "execution_count": 76,
      "metadata": {
        "colab": {
          "base_uri": "https://localhost:8080/",
          "height": 206
        },
        "id": "dOt2lSH9kAtV",
        "outputId": "e8c6f4de-6875-4d3f-e805-e9d1c0904416"
      },
      "outputs": [
        {
          "data": {
            "application/vnd.microsoft.datawrangler.viewer.v0+json": {
              "columns": [
                {
                  "name": "index",
                  "rawType": "int64",
                  "type": "integer"
                },
                {
                  "name": "customer_id",
                  "rawType": "object",
                  "type": "string"
                },
                {
                  "name": "Recency",
                  "rawType": "int64",
                  "type": "integer"
                },
                {
                  "name": "Frequency",
                  "rawType": "int64",
                  "type": "integer"
                },
                {
                  "name": "Monetary",
                  "rawType": "float64",
                  "type": "float"
                },
                {
                  "name": "RFM_Score",
                  "rawType": "float64",
                  "type": "float"
                },
                {
                  "name": "Segment",
                  "rawType": "category",
                  "type": "unknown"
                }
              ],
              "conversionMethod": "pd.DataFrame",
              "ref": "3fb47a98-0be4-4030-a013-339c249ef74d",
              "rows": [
                [
                  "81559",
                  "dc607dc98d6a11d5d04d9f2a70aa6c34",
                  "743",
                  "1",
                  "74.9",
                  "100.0",
                  "High"
                ],
                [
                  "41564",
                  "70fc57eeae292675927697fe03ad3ff5",
                  "743",
                  "1",
                  "21.5",
                  "100.0",
                  "High"
                ],
                [
                  "46795",
                  "7ec40b22510fdbea1b08921dd39e63d8",
                  "743",
                  "1",
                  "21.9",
                  "100.0",
                  "High"
                ],
                [
                  "41081",
                  "6f989332712d3222b6571b1cf5b835ce",
                  "743",
                  "1",
                  "36.49",
                  "100.0",
                  "High"
                ],
                [
                  "44277",
                  "7812fcebfc5e8065d31e1bb5f0017dae",
                  "743",
                  "1",
                  "29.99",
                  "100.0",
                  "High"
                ]
              ],
              "shape": {
                "columns": 6,
                "rows": 5
              }
            },
            "text/html": [
              "<div>\n",
              "<style scoped>\n",
              "    .dataframe tbody tr th:only-of-type {\n",
              "        vertical-align: middle;\n",
              "    }\n",
              "\n",
              "    .dataframe tbody tr th {\n",
              "        vertical-align: top;\n",
              "    }\n",
              "\n",
              "    .dataframe thead th {\n",
              "        text-align: right;\n",
              "    }\n",
              "</style>\n",
              "<table border=\"1\" class=\"dataframe\">\n",
              "  <thead>\n",
              "    <tr style=\"text-align: right;\">\n",
              "      <th></th>\n",
              "      <th>customer_id</th>\n",
              "      <th>Recency</th>\n",
              "      <th>Frequency</th>\n",
              "      <th>Monetary</th>\n",
              "      <th>RFM_Score</th>\n",
              "      <th>Segment</th>\n",
              "    </tr>\n",
              "  </thead>\n",
              "  <tbody>\n",
              "    <tr>\n",
              "      <th>81559</th>\n",
              "      <td>dc607dc98d6a11d5d04d9f2a70aa6c34</td>\n",
              "      <td>743</td>\n",
              "      <td>1</td>\n",
              "      <td>74.90</td>\n",
              "      <td>100.0</td>\n",
              "      <td>High</td>\n",
              "    </tr>\n",
              "    <tr>\n",
              "      <th>41564</th>\n",
              "      <td>70fc57eeae292675927697fe03ad3ff5</td>\n",
              "      <td>743</td>\n",
              "      <td>1</td>\n",
              "      <td>21.50</td>\n",
              "      <td>100.0</td>\n",
              "      <td>High</td>\n",
              "    </tr>\n",
              "    <tr>\n",
              "      <th>46795</th>\n",
              "      <td>7ec40b22510fdbea1b08921dd39e63d8</td>\n",
              "      <td>743</td>\n",
              "      <td>1</td>\n",
              "      <td>21.90</td>\n",
              "      <td>100.0</td>\n",
              "      <td>High</td>\n",
              "    </tr>\n",
              "    <tr>\n",
              "      <th>41081</th>\n",
              "      <td>6f989332712d3222b6571b1cf5b835ce</td>\n",
              "      <td>743</td>\n",
              "      <td>1</td>\n",
              "      <td>36.49</td>\n",
              "      <td>100.0</td>\n",
              "      <td>High</td>\n",
              "    </tr>\n",
              "    <tr>\n",
              "      <th>44277</th>\n",
              "      <td>7812fcebfc5e8065d31e1bb5f0017dae</td>\n",
              "      <td>743</td>\n",
              "      <td>1</td>\n",
              "      <td>29.99</td>\n",
              "      <td>100.0</td>\n",
              "      <td>High</td>\n",
              "    </tr>\n",
              "  </tbody>\n",
              "</table>\n",
              "</div>"
            ],
            "text/plain": [
              "                            customer_id  Recency  Frequency  Monetary  \\\n",
              "81559  dc607dc98d6a11d5d04d9f2a70aa6c34      743          1     74.90   \n",
              "41564  70fc57eeae292675927697fe03ad3ff5      743          1     21.50   \n",
              "46795  7ec40b22510fdbea1b08921dd39e63d8      743          1     21.90   \n",
              "41081  6f989332712d3222b6571b1cf5b835ce      743          1     36.49   \n",
              "44277  7812fcebfc5e8065d31e1bb5f0017dae      743          1     29.99   \n",
              "\n",
              "       RFM_Score Segment  \n",
              "81559      100.0    High  \n",
              "41564      100.0    High  \n",
              "46795      100.0    High  \n",
              "41081      100.0    High  \n",
              "44277      100.0    High  "
            ]
          },
          "execution_count": 76,
          "metadata": {},
          "output_type": "execute_result"
        }
      ],
      "source": [
        "# Customer yang terakhir belanja\n",
        "recent_customers = rfm.sort_values(by='Recency', ascending=False).head(10)\n",
        "recent_customers.head()"
      ]
    },
    {
      "cell_type": "code",
      "execution_count": 77,
      "metadata": {
        "colab": {
          "base_uri": "https://localhost:8080/",
          "height": 206
        },
        "id": "SYsbCGbHkEWS",
        "outputId": "3889d5d4-79a3-46cd-e106-ba65245516f2"
      },
      "outputs": [
        {
          "data": {
            "application/vnd.microsoft.datawrangler.viewer.v0+json": {
              "columns": [
                {
                  "name": "index",
                  "rawType": "int64",
                  "type": "integer"
                },
                {
                  "name": "customer_id",
                  "rawType": "object",
                  "type": "string"
                },
                {
                  "name": "Recency",
                  "rawType": "int64",
                  "type": "integer"
                },
                {
                  "name": "Frequency",
                  "rawType": "int64",
                  "type": "integer"
                },
                {
                  "name": "Monetary",
                  "rawType": "float64",
                  "type": "float"
                },
                {
                  "name": "RFM_Score",
                  "rawType": "float64",
                  "type": "float"
                },
                {
                  "name": "Segment",
                  "rawType": "category",
                  "type": "unknown"
                }
              ],
              "conversionMethod": "pd.DataFrame",
              "ref": "695838a1-086b-4f77-87ed-84f6a64afcda",
              "rows": [
                [
                  "14490",
                  "270c23a11d024a44c896d1894b261a83",
                  "434",
                  "63",
                  "2305.38",
                  "91.30269675288937",
                  "High"
                ],
                [
                  "7224",
                  "13aa59158da63ba0e93ec6ac2c07aacb",
                  "388",
                  "38",
                  "3039.62",
                  "84.74567122475763",
                  "High"
                ],
                [
                  "54154",
                  "92cd3ec6e2d643d4ebd0e3d6238f69e2",
                  "496",
                  "26",
                  "1299.74",
                  "98.85716100080437",
                  "High"
                ],
                [
                  "40808",
                  "6ee2f17e3b6c33d6a9557f280edd2925",
                  "586",
                  "24",
                  "4557.6",
                  "100.0",
                  "High"
                ],
                [
                  "16186",
                  "2ba91e12e5e4c9f56b82b86d9031d329",
                  "325",
                  "24",
                  "2397.6000000000004",
                  "73.57493332204395",
                  "High"
                ]
              ],
              "shape": {
                "columns": 6,
                "rows": 5
              }
            },
            "text/html": [
              "<div>\n",
              "<style scoped>\n",
              "    .dataframe tbody tr th:only-of-type {\n",
              "        vertical-align: middle;\n",
              "    }\n",
              "\n",
              "    .dataframe tbody tr th {\n",
              "        vertical-align: top;\n",
              "    }\n",
              "\n",
              "    .dataframe thead th {\n",
              "        text-align: right;\n",
              "    }\n",
              "</style>\n",
              "<table border=\"1\" class=\"dataframe\">\n",
              "  <thead>\n",
              "    <tr style=\"text-align: right;\">\n",
              "      <th></th>\n",
              "      <th>customer_id</th>\n",
              "      <th>Recency</th>\n",
              "      <th>Frequency</th>\n",
              "      <th>Monetary</th>\n",
              "      <th>RFM_Score</th>\n",
              "      <th>Segment</th>\n",
              "    </tr>\n",
              "  </thead>\n",
              "  <tbody>\n",
              "    <tr>\n",
              "      <th>14490</th>\n",
              "      <td>270c23a11d024a44c896d1894b261a83</td>\n",
              "      <td>434</td>\n",
              "      <td>63</td>\n",
              "      <td>2305.38</td>\n",
              "      <td>91.302697</td>\n",
              "      <td>High</td>\n",
              "    </tr>\n",
              "    <tr>\n",
              "      <th>7224</th>\n",
              "      <td>13aa59158da63ba0e93ec6ac2c07aacb</td>\n",
              "      <td>388</td>\n",
              "      <td>38</td>\n",
              "      <td>3039.62</td>\n",
              "      <td>84.745671</td>\n",
              "      <td>High</td>\n",
              "    </tr>\n",
              "    <tr>\n",
              "      <th>54154</th>\n",
              "      <td>92cd3ec6e2d643d4ebd0e3d6238f69e2</td>\n",
              "      <td>496</td>\n",
              "      <td>26</td>\n",
              "      <td>1299.74</td>\n",
              "      <td>98.857161</td>\n",
              "      <td>High</td>\n",
              "    </tr>\n",
              "    <tr>\n",
              "      <th>40808</th>\n",
              "      <td>6ee2f17e3b6c33d6a9557f280edd2925</td>\n",
              "      <td>586</td>\n",
              "      <td>24</td>\n",
              "      <td>4557.60</td>\n",
              "      <td>100.000000</td>\n",
              "      <td>High</td>\n",
              "    </tr>\n",
              "    <tr>\n",
              "      <th>16186</th>\n",
              "      <td>2ba91e12e5e4c9f56b82b86d9031d329</td>\n",
              "      <td>325</td>\n",
              "      <td>24</td>\n",
              "      <td>2397.60</td>\n",
              "      <td>73.574933</td>\n",
              "      <td>High</td>\n",
              "    </tr>\n",
              "  </tbody>\n",
              "</table>\n",
              "</div>"
            ],
            "text/plain": [
              "                            customer_id  Recency  Frequency  Monetary  \\\n",
              "14490  270c23a11d024a44c896d1894b261a83      434         63   2305.38   \n",
              "7224   13aa59158da63ba0e93ec6ac2c07aacb      388         38   3039.62   \n",
              "54154  92cd3ec6e2d643d4ebd0e3d6238f69e2      496         26   1299.74   \n",
              "40808  6ee2f17e3b6c33d6a9557f280edd2925      586         24   4557.60   \n",
              "16186  2ba91e12e5e4c9f56b82b86d9031d329      325         24   2397.60   \n",
              "\n",
              "        RFM_Score Segment  \n",
              "14490   91.302697    High  \n",
              "7224    84.745671    High  \n",
              "54154   98.857161    High  \n",
              "40808  100.000000    High  \n",
              "16186   73.574933    High  "
            ]
          },
          "execution_count": 77,
          "metadata": {},
          "output_type": "execute_result"
        }
      ],
      "source": [
        "# Customer dengan pembelian terbanyak\n",
        "top_frequency_customers = rfm.sort_values(by='Frequency', ascending=False).head(10)\n",
        "top_frequency_customers.head()"
      ]
    },
    {
      "cell_type": "markdown",
      "metadata": {
        "id": "nGGJm6gAA3zA"
      },
      "source": [
        "# **Conclusion**"
      ]
    },
    {
      "cell_type": "markdown",
      "metadata": {
        "id": "TjljhED4A5Be"
      },
      "source": [
        "## **Seperti apa distribusi penjualan produk dengan penjualan tertinggi dan terendah?**\n"
      ]
    },
    {
      "cell_type": "markdown",
      "metadata": {
        "id": "JB3k4aKokx38"
      },
      "source": [
        "Dari grafik di atas, dapat disimpulkan bahwa kategori produk yang paling diminati oleh pelanggan adalah **bed_bath_table** dengan 16885 penjualan, sedangkan produk **security and services** merupakan produk yang memiliki penjualan paling rendah, hanya 2 penjualan."
      ]
    },
    {
      "cell_type": "markdown",
      "metadata": {
        "id": "XmhswIhjks3U"
      },
      "source": [
        "## **Bagaimana tingkat kepuasan pelanggan pada tahun 2018?**\n"
      ]
    },
    {
      "cell_type": "markdown",
      "metadata": {
        "id": "StRPTvDClCDc"
      },
      "source": [
        "Grafik di atas menunjukkan tingkat kepuasan pelanggan yang tinggi terhadap layanan yang diberikan. Hal ini dapat dilihat dari jumlah pelanggan yang memberikan rating 5 memiliki jumlah data paling banyak dibandingkan rating lainnya. Rata-rata review yang diberikan pada tahun 2018 adalah 4.05, atau sudah diatas rata-rata memuaskan."
      ]
    },
    {
      "cell_type": "markdown",
      "metadata": {
        "id": "DXKTUKE2kvRL"
      },
      "source": [
        "## **Bagaimana distribusi penjualan produk tiap bulannya?**"
      ]
    },
    {
      "cell_type": "markdown",
      "metadata": {
        "id": "7lEM4ZaUlGR8"
      },
      "source": [
        "Dari visualisasi grafik, terlihat bahwa penjualan terendah pada bulan September, diikuti oleh kenaikan yang signifikan pada bulan Oktober dan kemudian naik lagi pada bulan November."
      ]
    },
    {
      "cell_type": "markdown",
      "metadata": {},
      "source": [
        "REQUIREMENT"
      ]
    },
    {
      "cell_type": "code",
      "execution_count": 78,
      "metadata": {},
      "outputs": [],
      "source": [
        "!pip freeze>requirements.txt"
      ]
    }
  ],
  "metadata": {
    "colab": {
      "provenance": []
    },
    "kernelspec": {
      "display_name": "dicoding101-py3.13.4 (3.13.2)",
      "language": "python",
      "name": "python3"
    },
    "language_info": {
      "codemirror_mode": {
        "name": "ipython",
        "version": 3
      },
      "file_extension": ".py",
      "mimetype": "text/x-python",
      "name": "python",
      "nbconvert_exporter": "python",
      "pygments_lexer": "ipython3",
      "version": "3.13.2"
    }
  },
  "nbformat": 4,
  "nbformat_minor": 0
}
